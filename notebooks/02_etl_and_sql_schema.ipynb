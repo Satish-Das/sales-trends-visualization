{
 "cells": [
  {
   "cell_type": "markdown",
   "metadata": {},
   "source": [
    "# 02. ETL and SQL Schema Setup\n",
    "\n",
    "This notebook creates the SQLite database schema and loads the cleaned data."
   ]
  },
  {
   "cell_type": "code",
   "execution_count": 2,
   "metadata": {},
   "outputs": [],
   "source": [
    "import pandas as pd\n",
    "import sqlite3\n",
    "from sqlalchemy import create_engine\n",
    "import os"
   ]
  },
  {
   "cell_type": "markdown",
   "metadata": {},
   "source": [
    "## 1. Load Cleaned Data"
   ]
  },
  {
   "cell_type": "code",
   "execution_count": 3,
   "metadata": {},
   "outputs": [
    {
     "name": "stdout",
     "output_type": "stream",
     "text": [
      "Data loaded: 51,290 rows\n"
     ]
    },
    {
     "name": "stderr",
     "output_type": "stream",
     "text": [
      "/var/folders/4n/xtvcccld0_5fh420f1r1rtvm0000gn/T/ipykernel_80090/1177985828.py:11: UserWarning: Parsing dates in %d-%m-%Y format when dayfirst=False (the default) was specified. Pass `dayfirst=True` or specify a format to silence this warning.\n",
      "  df_clean[col] = pd.to_datetime(df_clean[col], errors='coerce')\n",
      "/var/folders/4n/xtvcccld0_5fh420f1r1rtvm0000gn/T/ipykernel_80090/1177985828.py:11: UserWarning: Parsing dates in %d-%m-%Y format when dayfirst=False (the default) was specified. Pass `dayfirst=True` or specify a format to silence this warning.\n",
      "  df_clean[col] = pd.to_datetime(df_clean[col], errors='coerce')\n"
     ]
    }
   ],
   "source": [
    "# First, let's run the cleaning process\n",
    "df = pd.read_csv('../data/raw_data.csv', encoding='latin-1')\n",
    "\n",
    "# Data cleaning steps\n",
    "df_clean = df.copy()\n",
    "\n",
    "# Parse dates\n",
    "date_columns = ['Order Date', 'Ship Date']\n",
    "for col in date_columns:\n",
    "    if col in df_clean.columns:\n",
    "        df_clean[col] = pd.to_datetime(df_clean[col], errors='coerce')\n",
    "\n",
    "# Create date components\n",
    "df_clean['order_year'] = df_clean['Order Date'].dt.year\n",
    "df_clean['order_month'] = df_clean['Order Date'].dt.month\n",
    "df_clean['order_quarter'] = df_clean['Order Date'].dt.quarter\n",
    "df_clean['order_week'] = df_clean['Order Date'].dt.isocalendar().week\n",
    "df_clean['delivery_days'] = (df_clean['Ship Date'] - df_clean['Order Date']).dt.days\n",
    "\n",
    "# Add derived columns\n",
    "df_clean['revenue'] = df_clean['Sales']\n",
    "df_clean['profit_margin'] = (df_clean['Profit'] / df_clean['Sales'].replace(0, 1)) * 100\n",
    "\n",
    "print(f\"Data loaded: {len(df_clean):,} rows\")"
   ]
  },
  {
   "cell_type": "code",
   "execution_count": 4,
   "metadata": {},
   "outputs": [
    {
     "name": "stdout",
     "output_type": "stream",
     "text": [
      "Tables created:\n",
      "  Orders: 25,035 rows\n",
      "  Order Items: 51,290 rows\n",
      "  Customers: 1,590 rows\n",
      "  Products: 10,292 rows\n",
      "  Categories: 17 rows\n",
      "  Regions: 3,819 rows\n"
     ]
    }
   ],
   "source": [
    "# Create normalized tables\n",
    "orders_df = df_clean[['Order ID', 'Order Date', 'Ship Date', 'Ship Mode', 'Customer ID', \n",
    "                      'Segment', 'Country', 'City', 'State', 'Postal Code', 'Region',\n",
    "                      'order_year', 'order_month', 'order_quarter', 'order_week', \n",
    "                      'delivery_days']].drop_duplicates(subset=['Order ID'])\n",
    "\n",
    "order_items_df = df_clean[['Order ID', 'Product ID', 'Sales', 'Quantity', 'Discount', \n",
    "                           'Profit', 'Shipping Cost', 'profit_margin']]\n",
    "\n",
    "customers_df = df_clean[['Customer ID', 'Customer Name', 'Segment']].drop_duplicates(subset=['Customer ID'])\n",
    "\n",
    "products_df = df_clean[['Product ID', 'Product Name', 'Category', 'Sub-Category']].drop_duplicates(subset=['Product ID'])\n",
    "\n",
    "categories_df = df_clean[['Category', 'Sub-Category']].drop_duplicates()\n",
    "\n",
    "regions_df = df_clean[['Region', 'Country', 'State', 'City']].drop_duplicates()\n",
    "\n",
    "# Save cleaned data\n",
    "df_clean.to_csv('../data/superstore_clean.csv', index=False)\n",
    "orders_df.to_csv('../data/orders_clean.csv', index=False)\n",
    "order_items_df.to_csv('../data/order_items_clean.csv', index=False)\n",
    "customers_df.to_csv('../data/customers_clean.csv', index=False)\n",
    "products_df.to_csv('../data/products_clean.csv', index=False)\n",
    "\n",
    "print(\"Tables created:\")\n",
    "print(f\"  Orders: {len(orders_df):,} rows\")\n",
    "print(f\"  Order Items: {len(order_items_df):,} rows\")\n",
    "print(f\"  Customers: {len(customers_df):,} rows\")\n",
    "print(f\"  Products: {len(products_df):,} rows\")\n",
    "print(f\"  Categories: {len(categories_df):,} rows\")\n",
    "print(f\"  Regions: {len(regions_df):,} rows\")"
   ]
  },
  {
   "cell_type": "markdown",
   "metadata": {},
   "source": [
    "## 2. Create SQLite Database"
   ]
  },
  {
   "cell_type": "code",
   "execution_count": 5,
   "metadata": {},
   "outputs": [
    {
     "name": "stdout",
     "output_type": "stream",
     "text": [
      "Database created at: ../db/superstore.db\n"
     ]
    }
   ],
   "source": [
    "# Create database connection\n",
    "db_path = '../db/superstore.db'\n",
    "os.makedirs('../db', exist_ok=True)\n",
    "\n",
    "# Remove existing database if it exists\n",
    "if os.path.exists(db_path):\n",
    "    os.remove(db_path)\n",
    "\n",
    "conn = sqlite3.connect(db_path)\n",
    "cursor = conn.cursor()\n",
    "\n",
    "print(f\"Database created at: {db_path}\")"
   ]
  },
  {
   "cell_type": "markdown",
   "metadata": {},
   "source": [
    "## 3. Create Schema"
   ]
  },
  {
   "cell_type": "code",
   "execution_count": 6,
   "metadata": {},
   "outputs": [
    {
     "name": "stdout",
     "output_type": "stream",
     "text": [
      "Schema created successfully\n"
     ]
    }
   ],
   "source": [
    "# SQL Schema\n",
    "schema_sql = \"\"\"\n",
    "-- Customers table\n",
    "CREATE TABLE IF NOT EXISTS customers (\n",
    "    customer_id TEXT PRIMARY KEY,\n",
    "    customer_name TEXT NOT NULL,\n",
    "    segment TEXT\n",
    ");\n",
    "\n",
    "-- Products table\n",
    "CREATE TABLE IF NOT EXISTS products (\n",
    "    product_id TEXT PRIMARY KEY,\n",
    "    product_name TEXT NOT NULL,\n",
    "    category TEXT,\n",
    "    sub_category TEXT\n",
    ");\n",
    "\n",
    "-- Orders table\n",
    "CREATE TABLE IF NOT EXISTS orders (\n",
    "    order_id TEXT PRIMARY KEY,\n",
    "    order_date DATE,\n",
    "    ship_date DATE,\n",
    "    ship_mode TEXT,\n",
    "    customer_id TEXT,\n",
    "    segment TEXT,\n",
    "    country TEXT,\n",
    "    city TEXT,\n",
    "    state TEXT,\n",
    "    postal_code TEXT,\n",
    "    region TEXT,\n",
    "    order_year INTEGER,\n",
    "    order_month INTEGER,\n",
    "    order_quarter INTEGER,\n",
    "    order_week INTEGER,\n",
    "    delivery_days INTEGER,\n",
    "    FOREIGN KEY (customer_id) REFERENCES customers(customer_id)\n",
    ");\n",
    "\n",
    "-- Order Items table\n",
    "CREATE TABLE IF NOT EXISTS order_items (\n",
    "    order_id TEXT,\n",
    "    product_id TEXT,\n",
    "    sales REAL,\n",
    "    quantity INTEGER,\n",
    "    discount REAL,\n",
    "    profit REAL,\n",
    "    shipping_cost REAL,\n",
    "    profit_margin REAL,\n",
    "    PRIMARY KEY (order_id, product_id),\n",
    "    FOREIGN KEY (order_id) REFERENCES orders(order_id),\n",
    "    FOREIGN KEY (product_id) REFERENCES products(product_id)\n",
    ");\n",
    "\n",
    "-- Categories table\n",
    "CREATE TABLE IF NOT EXISTS categories (\n",
    "    category TEXT,\n",
    "    sub_category TEXT,\n",
    "    PRIMARY KEY (category, sub_category)\n",
    ");\n",
    "\n",
    "-- Regions table\n",
    "CREATE TABLE IF NOT EXISTS regions (\n",
    "    region TEXT,\n",
    "    country TEXT,\n",
    "    state TEXT,\n",
    "    city TEXT\n",
    ");\n",
    "\"\"\"\n",
    "\n",
    "# Execute schema creation\n",
    "for statement in schema_sql.split(';'):\n",
    "    if statement.strip():\n",
    "        cursor.execute(statement)\n",
    "\n",
    "conn.commit()\n",
    "print(\"Schema created successfully\")"
   ]
  },
  {
   "cell_type": "code",
   "execution_count": 7,
   "metadata": {},
   "outputs": [
    {
     "name": "stdout",
     "output_type": "stream",
     "text": [
      "Schema saved to sql/schema.sql\n"
     ]
    }
   ],
   "source": [
    "# Save schema to file\n",
    "with open('../sql/schema.sql', 'w') as f:\n",
    "    f.write(schema_sql)\n",
    "\n",
    "print(\"Schema saved to sql/schema.sql\")"
   ]
  },
  {
   "cell_type": "markdown",
   "metadata": {},
   "source": [
    "## 4. Load Data into Database"
   ]
  },
  {
   "cell_type": "code",
   "execution_count": 8,
   "metadata": {},
   "outputs": [
    {
     "name": "stdout",
     "output_type": "stream",
     "text": [
      "Data loaded into database successfully\n"
     ]
    }
   ],
   "source": [
    "# Use SQLAlchemy for easier data loading\n",
    "engine = create_engine(f'sqlite:///{db_path}')\n",
    "\n",
    "# Rename columns to match database schema\n",
    "customers_df.columns = ['customer_id', 'customer_name', 'segment']\n",
    "products_df.columns = ['product_id', 'product_name', 'category', 'sub_category']\n",
    "orders_df.columns = ['order_id', 'order_date', 'ship_date', 'ship_mode', 'customer_id',\n",
    "                     'segment', 'country', 'city', 'state', 'postal_code', 'region',\n",
    "                     'order_year', 'order_month', 'order_quarter', 'order_week', 'delivery_days']\n",
    "order_items_df.columns = ['order_id', 'product_id', 'sales', 'quantity', 'discount',\n",
    "                          'profit', 'shipping_cost', 'profit_margin']\n",
    "categories_df.columns = ['category', 'sub_category']\n",
    "regions_df.columns = ['region', 'country', 'state', 'city']\n",
    "\n",
    "# Load data into tables\n",
    "customers_df.to_sql('customers', engine, if_exists='replace', index=False)\n",
    "products_df.to_sql('products', engine, if_exists='replace', index=False)\n",
    "orders_df.to_sql('orders', engine, if_exists='replace', index=False)\n",
    "order_items_df.to_sql('order_items', engine, if_exists='replace', index=False)\n",
    "categories_df.to_sql('categories', engine, if_exists='replace', index=False)\n",
    "regions_df.to_sql('regions', engine, if_exists='replace', index=False)\n",
    "\n",
    "print(\"Data loaded into database successfully\")"
   ]
  },
  {
   "cell_type": "markdown",
   "metadata": {},
   "source": [
    "## 5. Create Indexes for Performance"
   ]
  },
  {
   "cell_type": "code",
   "execution_count": 9,
   "metadata": {},
   "outputs": [
    {
     "name": "stdout",
     "output_type": "stream",
     "text": [
      "Indexes created successfully\n"
     ]
    }
   ],
   "source": [
    "# Create indexes\n",
    "index_statements = [\n",
    "    \"CREATE INDEX idx_orders_date ON orders(order_date);\",\n",
    "    \"CREATE INDEX idx_orders_customer ON orders(customer_id);\",\n",
    "    \"CREATE INDEX idx_orders_region ON orders(region);\",\n",
    "    \"CREATE INDEX idx_order_items_order ON order_items(order_id);\",\n",
    "    \"CREATE INDEX idx_order_items_product ON order_items(product_id);\",\n",
    "    \"CREATE INDEX idx_products_category ON products(category);\",\n",
    "    \"CREATE INDEX idx_orders_year_month ON orders(order_year, order_month);\"\n",
    "]\n",
    "\n",
    "for statement in index_statements:\n",
    "    try:\n",
    "        cursor.execute(statement)\n",
    "    except sqlite3.OperationalError:\n",
    "        pass  # Index already exists\n",
    "\n",
    "conn.commit()\n",
    "print(\"Indexes created successfully\")"
   ]
  },
  {
   "cell_type": "markdown",
   "metadata": {},
   "source": [
    "## 6. Verify Database and Run Sample Queries"
   ]
  },
  {
   "cell_type": "code",
   "execution_count": 10,
   "metadata": {},
   "outputs": [
    {
     "name": "stdout",
     "output_type": "stream",
     "text": [
      "Table row counts:\n",
      "  customers: 1,590 rows\n",
      "  products: 10,292 rows\n",
      "  orders: 25,035 rows\n",
      "  order_items: 51,290 rows\n",
      "  categories: 17 rows\n",
      "  regions: 3,819 rows\n"
     ]
    }
   ],
   "source": [
    "# Verify table counts\n",
    "tables = ['customers', 'products', 'orders', 'order_items', 'categories', 'regions']\n",
    "\n",
    "print(\"Table row counts:\")\n",
    "for table in tables:\n",
    "    count = pd.read_sql(f\"SELECT COUNT(*) as count FROM {table}\", conn).iloc[0]['count']\n",
    "    print(f\"  {table}: {count:,} rows\")"
   ]
  },
  {
   "cell_type": "code",
   "execution_count": 11,
   "metadata": {},
   "outputs": [
    {
     "name": "stdout",
     "output_type": "stream",
     "text": [
      "Top 5 Customers by Revenue:\n",
      "  customer_name  total_orders  total_revenue  total_profit\n",
      "0  Tom Ashbrook            24    36663.11880    6328.04710\n",
      "1  Tamara Chand            27    36175.36400    9392.64990\n",
      "2     Greg Tran            30    36099.40528    5408.73218\n",
      "3   Sean Miller            21    31148.84496   -1079.20434\n",
      "4  Fred Hopkins            28    30429.21502    4478.56162\n"
     ]
    }
   ],
   "source": [
    "# Sample query 1: Top 5 customers by revenue\n",
    "query1 = \"\"\"\n",
    "SELECT \n",
    "    c.customer_name,\n",
    "    COUNT(DISTINCT o.order_id) as total_orders,\n",
    "    SUM(oi.sales) as total_revenue,\n",
    "    SUM(oi.profit) as total_profit\n",
    "FROM customers c\n",
    "JOIN orders o ON c.customer_id = o.customer_id\n",
    "JOIN order_items oi ON o.order_id = oi.order_id\n",
    "GROUP BY c.customer_id, c.customer_name\n",
    "ORDER BY total_revenue DESC\n",
    "LIMIT 5;\n",
    "\"\"\"\n",
    "\n",
    "result1 = pd.read_sql(query1, conn)\n",
    "print(\"Top 5 Customers by Revenue:\")\n",
    "print(result1)"
   ]
  },
  {
   "cell_type": "code",
   "execution_count": 12,
   "metadata": {},
   "outputs": [
    {
     "name": "stdout",
     "output_type": "stream",
     "text": [
      "\n",
      "Monthly Revenue Trend (Last 12 months):\n",
      "Empty DataFrame\n",
      "Columns: [order_year, order_month, orders, revenue, profit, avg_margin]\n",
      "Index: []\n"
     ]
    }
   ],
   "source": [
    "# Sample query 2: Monthly revenue trend\n",
    "query2 = \"\"\"\n",
    "SELECT \n",
    "    order_year,\n",
    "    order_month,\n",
    "    COUNT(DISTINCT o.order_id) as orders,\n",
    "    SUM(oi.sales) as revenue,\n",
    "    SUM(oi.profit) as profit,\n",
    "    AVG(oi.profit_margin) as avg_margin\n",
    "FROM orders o\n",
    "JOIN order_items oi ON o.order_id = oi.order_id\n",
    "WHERE order_year >= 2015\n",
    "GROUP BY order_year, order_month\n",
    "ORDER BY order_year DESC, order_month DESC\n",
    "LIMIT 12;\n",
    "\"\"\"\n",
    "\n",
    "result2 = pd.read_sql(query2, conn)\n",
    "print(\"\\nMonthly Revenue Trend (Last 12 months):\")\n",
    "print(result2)"
   ]
  },
  {
   "cell_type": "code",
   "execution_count": 13,
   "metadata": {},
   "outputs": [
    {
     "name": "stdout",
     "output_type": "stream",
     "text": [
      "\n",
      "Category Performance:\n",
      "          category  orders  units_sold       revenue        profit  avg_margin\n",
      "0       Technology    8354       35176  4.744557e+06  663778.73318    4.967903\n",
      "1        Furniture    8195       34954  4.110874e+06  285204.72380    0.859333\n",
      "2  Office Supplies   19003      108182  3.787070e+06  518473.83430    5.896465\n"
     ]
    }
   ],
   "source": [
    "# Sample query 3: Category performance\n",
    "query3 = \"\"\"\n",
    "SELECT \n",
    "    p.category,\n",
    "    COUNT(DISTINCT oi.order_id) as orders,\n",
    "    SUM(oi.quantity) as units_sold,\n",
    "    SUM(oi.sales) as revenue,\n",
    "    SUM(oi.profit) as profit,\n",
    "    AVG(oi.profit_margin) as avg_margin\n",
    "FROM products p\n",
    "JOIN order_items oi ON p.product_id = oi.product_id\n",
    "GROUP BY p.category\n",
    "ORDER BY revenue DESC;\n",
    "\"\"\"\n",
    "\n",
    "result3 = pd.read_sql(query3, conn)\n",
    "print(\"\\nCategory Performance:\")\n",
    "print(result3)"
   ]
  },
  {
   "cell_type": "code",
   "execution_count": 14,
   "metadata": {},
   "outputs": [
    {
     "name": "stdout",
     "output_type": "stream",
     "text": [
      "\n",
      "Database setup complete!\n"
     ]
    }
   ],
   "source": [
    "# Close connection\n",
    "conn.close()\n",
    "print(\"\\nDatabase setup complete!\")"
   ]
  }
 ],
 "metadata": {
  "kernelspec": {
   "display_name": "venv (3.13.2)",
   "language": "python",
   "name": "python3"
  },
  "language_info": {
   "codemirror_mode": {
    "name": "ipython",
    "version": 3
   },
   "file_extension": ".py",
   "mimetype": "text/x-python",
   "name": "python",
   "nbconvert_exporter": "python",
   "pygments_lexer": "ipython3",
   "version": "3.13.2"
  }
 },
 "nbformat": 4,
 "nbformat_minor": 4
}
