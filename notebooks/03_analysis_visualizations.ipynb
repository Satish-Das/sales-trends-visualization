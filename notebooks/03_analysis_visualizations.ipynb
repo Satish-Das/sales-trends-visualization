{
 "cells": [
  {
   "cell_type": "markdown",
   "metadata": {},
   "source": [
    "# 03. Analysis and Visualizations\n",
    "\n",
    "This notebook performs comprehensive analysis including RFM segmentation, cohort analysis, and creates visualizations."
   ]
  },
  {
   "cell_type": "code",
   "execution_count": 1,
   "metadata": {},
   "outputs": [],
   "source": [
    "import pandas as pd\n",
    "import numpy as np\n",
    "import matplotlib.pyplot as plt\n",
    "import seaborn as sns\n",
    "import plotly.express as px\n",
    "import plotly.graph_objects as go\n",
    "from plotly.subplots import make_subplots\n",
    "import sqlite3\n",
    "import warnings\n",
    "from datetime import datetime, timedelta\n",
    "from sklearn.cluster import KMeans\n",
    "from sklearn.preprocessing import StandardScaler\n",
    "import os\n",
    "\n",
    "warnings.filterwarnings('ignore')\n",
    "plt.style.use('seaborn-v0_8')\n",
    "sns.set_palette('husl')"
   ]
  },
  {
   "cell_type": "markdown",
   "metadata": {},
   "source": [
    "## 1. Load Data and Database Connection"
   ]
  },
  {
   "cell_type": "code",
   "execution_count": 2,
   "metadata": {},
   "outputs": [
    {
     "name": "stdout",
     "output_type": "stream",
     "text": [
      "Dataset loaded: 51,290 rows\n",
      "Date range: 2011-01-01 00:00:00 to 2014-12-31 00:00:00\n"
     ]
    }
   ],
   "source": [
    "# Connect to database\n",
    "conn = sqlite3.connect('../db/superstore.db')\n",
    "\n",
    "# Load main dataset\n",
    "df = pd.read_csv('../data/superstore_clean.csv')\n",
    "df['Order Date'] = pd.to_datetime(df['Order Date'])\n",
    "df['Ship Date'] = pd.to_datetime(df['Ship Date'])\n",
    "\n",
    "print(f\"Dataset loaded: {len(df):,} rows\")\n",
    "print(f\"Date range: {df['Order Date'].min()} to {df['Order Date'].max()}\")"
   ]
  },
  {
   "cell_type": "markdown",
   "metadata": {},
   "source": [
    "## 2. Key Performance Indicators (KPIs)"
   ]
  },
  {
   "cell_type": "code",
   "execution_count": 3,
   "metadata": {},
   "outputs": [
    {
     "name": "stdout",
     "output_type": "stream",
     "text": [
      "=== KEY PERFORMANCE INDICATORS ===\n",
      "Total Revenue: $12,642,501.91\n",
      "Total Profit: $1,467,457.29\n",
      "Total Orders: 25,035\n",
      "Total Customers: 1,590\n",
      "Average Order Value: $504.99\n",
      "Overall Profit Margin: 11.6%\n",
      "YoY Revenue Growth: 26.3%\n",
      "Customer Churn Rate: 27.8%\n",
      "Active Customers: 1,148\n"
     ]
    }
   ],
   "source": [
    "# Calculate key metrics\n",
    "total_revenue = df['Sales'].sum()\n",
    "total_profit = df['Profit'].sum()\n",
    "total_orders = df['Order ID'].nunique()\n",
    "total_customers = df['Customer ID'].nunique()\n",
    "avg_order_value = df.groupby('Order ID')['Sales'].sum().mean()\n",
    "overall_profit_margin = (total_profit / total_revenue) * 100\n",
    "\n",
    "# Current vs Previous Year comparison\n",
    "current_year = df['Order Date'].dt.year.max()\n",
    "prev_year = current_year - 1\n",
    "\n",
    "current_year_revenue = df[df['Order Date'].dt.year == current_year]['Sales'].sum()\n",
    "prev_year_revenue = df[df['Order Date'].dt.year == prev_year]['Sales'].sum()\n",
    "yoy_growth = ((current_year_revenue - prev_year_revenue) / prev_year_revenue) * 100 if prev_year_revenue > 0 else 0\n",
    "\n",
    "# Churn calculation (customers who haven't ordered in last 90 days)\n",
    "max_date = df['Order Date'].max()\n",
    "churn_threshold = max_date - timedelta(days=90)\n",
    "active_customers = df[df['Order Date'] > churn_threshold]['Customer ID'].nunique()\n",
    "churn_rate = ((total_customers - active_customers) / total_customers) * 100\n",
    "\n",
    "print(\"=== KEY PERFORMANCE INDICATORS ===\")\n",
    "print(f\"Total Revenue: ${total_revenue:,.2f}\")\n",
    "print(f\"Total Profit: ${total_profit:,.2f}\")\n",
    "print(f\"Total Orders: {total_orders:,}\")\n",
    "print(f\"Total Customers: {total_customers:,}\")\n",
    "print(f\"Average Order Value: ${avg_order_value:.2f}\")\n",
    "print(f\"Overall Profit Margin: {overall_profit_margin:.1f}%\")\n",
    "print(f\"YoY Revenue Growth: {yoy_growth:.1f}%\")\n",
    "print(f\"Customer Churn Rate: {churn_rate:.1f}%\")\n",
    "print(f\"Active Customers: {active_customers:,}\")"
   ]
  },
  {
   "cell_type": "markdown",
   "metadata": {},
   "source": [
    "## 3. Revenue Trend Analysis"
   ]
  },
  {
   "cell_type": "code",
   "execution_count": 6,
   "metadata": {},
   "outputs": [
    {
     "ename": "ValueError",
     "evalue": "cannot insert Order Date, already exists",
     "output_type": "error",
     "traceback": [
      "\u001b[31m---------------------------------------------------------------------------\u001b[39m",
      "\u001b[31mValueError\u001b[39m                                Traceback (most recent call last)",
      "\u001b[32m/var/folders/4n/xtvcccld0_5fh420f1r1rtvm0000gn/T/ipykernel_81145/1981490021.py\u001b[39m in \u001b[36m?\u001b[39m\u001b[34m()\u001b[39m\n\u001b[32m      2\u001b[39m monthly_trend = df.groupby([df['Order Date'].dt.year, df['Order Date'].dt.month]).agg({\n\u001b[32m      3\u001b[39m     \u001b[33m'Sales'\u001b[39m: \u001b[33m'sum'\u001b[39m,\n\u001b[32m      4\u001b[39m     \u001b[33m'Profit'\u001b[39m: \u001b[33m'sum'\u001b[39m,\n\u001b[32m      5\u001b[39m     \u001b[33m'Order ID'\u001b[39m: \u001b[33m'nunique'\u001b[39m\n\u001b[32m----> \u001b[39m\u001b[32m6\u001b[39m }).reset_index()\n\u001b[32m      7\u001b[39m \n\u001b[32m      8\u001b[39m monthly_trend[\u001b[33m'Date'\u001b[39m] = pd.to_datetime(monthly_trend[[\u001b[33m'Order Date'\u001b[39m, \u001b[33m'Order Date'\u001b[39m]].rename(columns={\u001b[33m'Order Date'\u001b[39m: \u001b[33m'year'\u001b[39m, \u001b[33m'Order Date'\u001b[39m: \u001b[33m'month'\u001b[39m}))\n\u001b[32m      9\u001b[39m monthly_trend = monthly_trend.sort_values(\u001b[33m'Date'\u001b[39m)\n",
      "\u001b[32m~/Pushparaj/github/placement/sales-customer/superstore_analysis/venv/lib/python3.13/site-packages/pandas/core/frame.py\u001b[39m in \u001b[36m?\u001b[39m\u001b[34m(self, level, drop, inplace, col_level, col_fill, allow_duplicates, names)\u001b[39m\n\u001b[32m   6468\u001b[39m                     level_values = algorithms.take(\n\u001b[32m   6469\u001b[39m                         level_values, lab, allow_fill=\u001b[38;5;28;01mTrue\u001b[39;00m, fill_value=lev._na_value\n\u001b[32m   6470\u001b[39m                     )\n\u001b[32m   6471\u001b[39m \n\u001b[32m-> \u001b[39m\u001b[32m6472\u001b[39m                 new_obj.insert(\n\u001b[32m   6473\u001b[39m                     \u001b[32m0\u001b[39m,\n\u001b[32m   6474\u001b[39m                     name,\n\u001b[32m   6475\u001b[39m                     level_values,\n",
      "\u001b[32m~/Pushparaj/github/placement/sales-customer/superstore_analysis/venv/lib/python3.13/site-packages/pandas/core/frame.py\u001b[39m in \u001b[36m?\u001b[39m\u001b[34m(self, loc, column, value, allow_duplicates)\u001b[39m\n\u001b[32m   5154\u001b[39m                 \u001b[33m\"'self.flags.allows_duplicate_labels' is False.\"\u001b[39m\n\u001b[32m   5155\u001b[39m             )\n\u001b[32m   5156\u001b[39m         \u001b[38;5;28;01mif\u001b[39;00m \u001b[38;5;28;01mnot\u001b[39;00m allow_duplicates \u001b[38;5;28;01mand\u001b[39;00m column \u001b[38;5;28;01min\u001b[39;00m self.columns:\n\u001b[32m   5157\u001b[39m             \u001b[38;5;66;03m# Should this be a different kind of error??\u001b[39;00m\n\u001b[32m-> \u001b[39m\u001b[32m5158\u001b[39m             \u001b[38;5;28;01mraise\u001b[39;00m ValueError(f\"cannot insert {column}, already exists\")\n\u001b[32m   5159\u001b[39m         \u001b[38;5;28;01mif\u001b[39;00m \u001b[38;5;28;01mnot\u001b[39;00m is_integer(loc):\n\u001b[32m   5160\u001b[39m             \u001b[38;5;28;01mraise\u001b[39;00m TypeError(\u001b[33m\"loc must be int\"\u001b[39m)\n\u001b[32m   5161\u001b[39m         \u001b[38;5;66;03m# convert non stdlib ints to satisfy typing checks\u001b[39;00m\n",
      "\u001b[31mValueError\u001b[39m: cannot insert Order Date, already exists"
     ]
    }
   ],
   "source": [
    "# Monthly revenue trend\n",
    "monthly_trend = df.groupby([df['Order Date'].dt.year, df['Order Date'].dt.month]).agg({\n",
    "    'Sales': 'sum',\n",
    "    'Profit': 'sum',\n",
    "    'Order ID': 'nunique'\n",
    "}).reset_index()\n",
    "\n",
    "monthly_trend['Date'] = pd.to_datetime(monthly_trend[['Order Date', 'Order Date']].rename(columns={'Order Date': 'year', 'Order Date': 'month'}))\n",
    "monthly_trend = monthly_trend.sort_values('Date')\n",
    "\n",
    "# Create interactive plot\n",
    "fig = make_subplots(\n",
    "    rows=2, cols=1,\n",
    "    subplot_titles=('Monthly Revenue Trend', 'Monthly Orders and Profit'),\n",
    "    specs=[[{\"secondary_y\": False}], [{\"secondary_y\": True}]]\n",
    ")\n",
    "\n",
    "# Revenue trend\n",
    "fig.add_trace(\n",
    "    go.Scatter(x=monthly_trend['Date'], y=monthly_trend['Sales'],\n",
    "               mode='lines+markers', name='Revenue',\n",
    "               line=dict(color='#1f77b4', width=3)),\n",
    "    row=1, col=1\n",
    ")\n",
    "\n",
    "# Orders (left y-axis)\n",
    "fig.add_trace(\n",
    "    go.Scatter(x=monthly_trend['Date'], y=monthly_trend['Order ID'],\n",
    "               mode='lines+markers', name='Orders',\n",
    "               line=dict(color='#ff7f0e')),\n",
    "    row=2, col=1\n",
    ")\n",
    "\n",
    "# Profit (right y-axis)\n",
    "fig.add_trace(\n",
    "    go.Scatter(x=monthly_trend['Date'], y=monthly_trend['Profit'],\n",
    "               mode='lines+markers', name='Profit',\n",
    "               line=dict(color='#2ca02c'), yaxis='y4'),\n",
    "    row=2, col=1\n",
    ")\n",
    "\n",
    "fig.update_layout(\n",
    "    title='Revenue and Performance Trends Over Time',\n",
    "    height=600,\n",
    "    showlegend=True\n",
    ")\n",
    "\n",
    "fig.update_yaxes(title_text=\"Revenue ($)\", row=1, col=1)\n",
    "fig.update_yaxes(title_text=\"Number of Orders\", row=2, col=1)\n",
    "fig.update_yaxes(title_text=\"Profit ($)\", secondary_y=True, row=2, col=1)\n",
    "\n",
    "fig.show()\n",
    "\n",
    "# Save as HTML\n",
    "fig.write_html('../visuals/revenue_trend.html')\n",
    "fig.write_image('../visuals/revenue_trend.png', width=1200, height=600)"
   ]
  },
  {
   "cell_type": "markdown",
   "metadata": {},
   "source": [
    "## 4. Product Performance Analysis"
   ]
  },
  {
   "cell_type": "code",
   "execution_count": 7,
   "metadata": {},
   "outputs": [
    {
     "data": {
      "application/vnd.plotly.v1+json": {
       "config": {
        "plotlyServerURL": "https://plot.ly"
       },
       "data": [
        {
         "alignmentgroup": "True",
         "hovertemplate": "Category=Technology<br>Revenue ($)=%{x}<br>Product Name=%{y}<extra></extra>",
         "legendgroup": "Technology",
         "marker": {
          "color": "#636efa",
          "pattern": {
           "shape": ""
          }
         },
         "name": "Technology",
         "offsetgroup": "Technology",
         "orientation": "h",
         "showlegend": true,
         "textposition": "auto",
         "type": "bar",
         "x": [
          86935.7786,
          76441.5306,
          73156.303,
          71904.5555,
          61599.824,
          48653.46,
          47877.7857
         ],
         "xaxis": "x",
         "y": [
          "Apple Smart Phone, Full Size",
          "Cisco Smart Phone, Full Size",
          "Motorola Smart Phone, Full Size",
          "Nokia Smart Phone, Full Size",
          "Canon imageCLASS 2200 Advanced Copier",
          "Samsung Smart Phone, Cordless",
          "Nokia Smart Phone, with Caller ID"
         ],
         "yaxis": "y"
        },
        {
         "alignmentgroup": "True",
         "hovertemplate": "Category=Furniture<br>Revenue ($)=%{x}<br>Product Name=%{y}<extra></extra>",
         "legendgroup": "Furniture",
         "marker": {
          "color": "#EF553B",
          "pattern": {
           "shape": ""
          }
         },
         "name": "Furniture",
         "offsetgroup": "Furniture",
         "orientation": "h",
         "showlegend": true,
         "textposition": "auto",
         "type": "bar",
         "x": [
          58193.4841,
          50661.684,
          50121.516
         ],
         "xaxis": "x",
         "y": [
          "Hon Executive Leather Armchair, Adjustable",
          "Office Star Executive Leather Armchair, Adjustable",
          "Harbour Creations Executive Leather Armchair, Adjustable"
         ],
         "yaxis": "y"
        }
       ],
       "layout": {
        "barmode": "relative",
        "height": 500,
        "legend": {
         "title": {
          "text": "Category"
         },
         "tracegroupgap": 0
        },
        "template": {
         "data": {
          "bar": [
           {
            "error_x": {
             "color": "#2a3f5f"
            },
            "error_y": {
             "color": "#2a3f5f"
            },
            "marker": {
             "line": {
              "color": "#E5ECF6",
              "width": 0.5
             },
             "pattern": {
              "fillmode": "overlay",
              "size": 10,
              "solidity": 0.2
             }
            },
            "type": "bar"
           }
          ],
          "barpolar": [
           {
            "marker": {
             "line": {
              "color": "#E5ECF6",
              "width": 0.5
             },
             "pattern": {
              "fillmode": "overlay",
              "size": 10,
              "solidity": 0.2
             }
            },
            "type": "barpolar"
           }
          ],
          "carpet": [
           {
            "aaxis": {
             "endlinecolor": "#2a3f5f",
             "gridcolor": "white",
             "linecolor": "white",
             "minorgridcolor": "white",
             "startlinecolor": "#2a3f5f"
            },
            "baxis": {
             "endlinecolor": "#2a3f5f",
             "gridcolor": "white",
             "linecolor": "white",
             "minorgridcolor": "white",
             "startlinecolor": "#2a3f5f"
            },
            "type": "carpet"
           }
          ],
          "choropleth": [
           {
            "colorbar": {
             "outlinewidth": 0,
             "ticks": ""
            },
            "type": "choropleth"
           }
          ],
          "contour": [
           {
            "colorbar": {
             "outlinewidth": 0,
             "ticks": ""
            },
            "colorscale": [
             [
              0,
              "#0d0887"
             ],
             [
              0.1111111111111111,
              "#46039f"
             ],
             [
              0.2222222222222222,
              "#7201a8"
             ],
             [
              0.3333333333333333,
              "#9c179e"
             ],
             [
              0.4444444444444444,
              "#bd3786"
             ],
             [
              0.5555555555555556,
              "#d8576b"
             ],
             [
              0.6666666666666666,
              "#ed7953"
             ],
             [
              0.7777777777777778,
              "#fb9f3a"
             ],
             [
              0.8888888888888888,
              "#fdca26"
             ],
             [
              1,
              "#f0f921"
             ]
            ],
            "type": "contour"
           }
          ],
          "contourcarpet": [
           {
            "colorbar": {
             "outlinewidth": 0,
             "ticks": ""
            },
            "type": "contourcarpet"
           }
          ],
          "heatmap": [
           {
            "colorbar": {
             "outlinewidth": 0,
             "ticks": ""
            },
            "colorscale": [
             [
              0,
              "#0d0887"
             ],
             [
              0.1111111111111111,
              "#46039f"
             ],
             [
              0.2222222222222222,
              "#7201a8"
             ],
             [
              0.3333333333333333,
              "#9c179e"
             ],
             [
              0.4444444444444444,
              "#bd3786"
             ],
             [
              0.5555555555555556,
              "#d8576b"
             ],
             [
              0.6666666666666666,
              "#ed7953"
             ],
             [
              0.7777777777777778,
              "#fb9f3a"
             ],
             [
              0.8888888888888888,
              "#fdca26"
             ],
             [
              1,
              "#f0f921"
             ]
            ],
            "type": "heatmap"
           }
          ],
          "heatmapgl": [
           {
            "colorbar": {
             "outlinewidth": 0,
             "ticks": ""
            },
            "colorscale": [
             [
              0,
              "#0d0887"
             ],
             [
              0.1111111111111111,
              "#46039f"
             ],
             [
              0.2222222222222222,
              "#7201a8"
             ],
             [
              0.3333333333333333,
              "#9c179e"
             ],
             [
              0.4444444444444444,
              "#bd3786"
             ],
             [
              0.5555555555555556,
              "#d8576b"
             ],
             [
              0.6666666666666666,
              "#ed7953"
             ],
             [
              0.7777777777777778,
              "#fb9f3a"
             ],
             [
              0.8888888888888888,
              "#fdca26"
             ],
             [
              1,
              "#f0f921"
             ]
            ],
            "type": "heatmapgl"
           }
          ],
          "histogram": [
           {
            "marker": {
             "pattern": {
              "fillmode": "overlay",
              "size": 10,
              "solidity": 0.2
             }
            },
            "type": "histogram"
           }
          ],
          "histogram2d": [
           {
            "colorbar": {
             "outlinewidth": 0,
             "ticks": ""
            },
            "colorscale": [
             [
              0,
              "#0d0887"
             ],
             [
              0.1111111111111111,
              "#46039f"
             ],
             [
              0.2222222222222222,
              "#7201a8"
             ],
             [
              0.3333333333333333,
              "#9c179e"
             ],
             [
              0.4444444444444444,
              "#bd3786"
             ],
             [
              0.5555555555555556,
              "#d8576b"
             ],
             [
              0.6666666666666666,
              "#ed7953"
             ],
             [
              0.7777777777777778,
              "#fb9f3a"
             ],
             [
              0.8888888888888888,
              "#fdca26"
             ],
             [
              1,
              "#f0f921"
             ]
            ],
            "type": "histogram2d"
           }
          ],
          "histogram2dcontour": [
           {
            "colorbar": {
             "outlinewidth": 0,
             "ticks": ""
            },
            "colorscale": [
             [
              0,
              "#0d0887"
             ],
             [
              0.1111111111111111,
              "#46039f"
             ],
             [
              0.2222222222222222,
              "#7201a8"
             ],
             [
              0.3333333333333333,
              "#9c179e"
             ],
             [
              0.4444444444444444,
              "#bd3786"
             ],
             [
              0.5555555555555556,
              "#d8576b"
             ],
             [
              0.6666666666666666,
              "#ed7953"
             ],
             [
              0.7777777777777778,
              "#fb9f3a"
             ],
             [
              0.8888888888888888,
              "#fdca26"
             ],
             [
              1,
              "#f0f921"
             ]
            ],
            "type": "histogram2dcontour"
           }
          ],
          "mesh3d": [
           {
            "colorbar": {
             "outlinewidth": 0,
             "ticks": ""
            },
            "type": "mesh3d"
           }
          ],
          "parcoords": [
           {
            "line": {
             "colorbar": {
              "outlinewidth": 0,
              "ticks": ""
             }
            },
            "type": "parcoords"
           }
          ],
          "pie": [
           {
            "automargin": true,
            "type": "pie"
           }
          ],
          "scatter": [
           {
            "fillpattern": {
             "fillmode": "overlay",
             "size": 10,
             "solidity": 0.2
            },
            "type": "scatter"
           }
          ],
          "scatter3d": [
           {
            "line": {
             "colorbar": {
              "outlinewidth": 0,
              "ticks": ""
             }
            },
            "marker": {
             "colorbar": {
              "outlinewidth": 0,
              "ticks": ""
             }
            },
            "type": "scatter3d"
           }
          ],
          "scattercarpet": [
           {
            "marker": {
             "colorbar": {
              "outlinewidth": 0,
              "ticks": ""
             }
            },
            "type": "scattercarpet"
           }
          ],
          "scattergeo": [
           {
            "marker": {
             "colorbar": {
              "outlinewidth": 0,
              "ticks": ""
             }
            },
            "type": "scattergeo"
           }
          ],
          "scattergl": [
           {
            "marker": {
             "colorbar": {
              "outlinewidth": 0,
              "ticks": ""
             }
            },
            "type": "scattergl"
           }
          ],
          "scattermapbox": [
           {
            "marker": {
             "colorbar": {
              "outlinewidth": 0,
              "ticks": ""
             }
            },
            "type": "scattermapbox"
           }
          ],
          "scatterpolar": [
           {
            "marker": {
             "colorbar": {
              "outlinewidth": 0,
              "ticks": ""
             }
            },
            "type": "scatterpolar"
           }
          ],
          "scatterpolargl": [
           {
            "marker": {
             "colorbar": {
              "outlinewidth": 0,
              "ticks": ""
             }
            },
            "type": "scatterpolargl"
           }
          ],
          "scatterternary": [
           {
            "marker": {
             "colorbar": {
              "outlinewidth": 0,
              "ticks": ""
             }
            },
            "type": "scatterternary"
           }
          ],
          "surface": [
           {
            "colorbar": {
             "outlinewidth": 0,
             "ticks": ""
            },
            "colorscale": [
             [
              0,
              "#0d0887"
             ],
             [
              0.1111111111111111,
              "#46039f"
             ],
             [
              0.2222222222222222,
              "#7201a8"
             ],
             [
              0.3333333333333333,
              "#9c179e"
             ],
             [
              0.4444444444444444,
              "#bd3786"
             ],
             [
              0.5555555555555556,
              "#d8576b"
             ],
             [
              0.6666666666666666,
              "#ed7953"
             ],
             [
              0.7777777777777778,
              "#fb9f3a"
             ],
             [
              0.8888888888888888,
              "#fdca26"
             ],
             [
              1,
              "#f0f921"
             ]
            ],
            "type": "surface"
           }
          ],
          "table": [
           {
            "cells": {
             "fill": {
              "color": "#EBF0F8"
             },
             "line": {
              "color": "white"
             }
            },
            "header": {
             "fill": {
              "color": "#C8D4E3"
             },
             "line": {
              "color": "white"
             }
            },
            "type": "table"
           }
          ]
         },
         "layout": {
          "annotationdefaults": {
           "arrowcolor": "#2a3f5f",
           "arrowhead": 0,
           "arrowwidth": 1
          },
          "autotypenumbers": "strict",
          "coloraxis": {
           "colorbar": {
            "outlinewidth": 0,
            "ticks": ""
           }
          },
          "colorscale": {
           "diverging": [
            [
             0,
             "#8e0152"
            ],
            [
             0.1,
             "#c51b7d"
            ],
            [
             0.2,
             "#de77ae"
            ],
            [
             0.3,
             "#f1b6da"
            ],
            [
             0.4,
             "#fde0ef"
            ],
            [
             0.5,
             "#f7f7f7"
            ],
            [
             0.6,
             "#e6f5d0"
            ],
            [
             0.7,
             "#b8e186"
            ],
            [
             0.8,
             "#7fbc41"
            ],
            [
             0.9,
             "#4d9221"
            ],
            [
             1,
             "#276419"
            ]
           ],
           "sequential": [
            [
             0,
             "#0d0887"
            ],
            [
             0.1111111111111111,
             "#46039f"
            ],
            [
             0.2222222222222222,
             "#7201a8"
            ],
            [
             0.3333333333333333,
             "#9c179e"
            ],
            [
             0.4444444444444444,
             "#bd3786"
            ],
            [
             0.5555555555555556,
             "#d8576b"
            ],
            [
             0.6666666666666666,
             "#ed7953"
            ],
            [
             0.7777777777777778,
             "#fb9f3a"
            ],
            [
             0.8888888888888888,
             "#fdca26"
            ],
            [
             1,
             "#f0f921"
            ]
           ],
           "sequentialminus": [
            [
             0,
             "#0d0887"
            ],
            [
             0.1111111111111111,
             "#46039f"
            ],
            [
             0.2222222222222222,
             "#7201a8"
            ],
            [
             0.3333333333333333,
             "#9c179e"
            ],
            [
             0.4444444444444444,
             "#bd3786"
            ],
            [
             0.5555555555555556,
             "#d8576b"
            ],
            [
             0.6666666666666666,
             "#ed7953"
            ],
            [
             0.7777777777777778,
             "#fb9f3a"
            ],
            [
             0.8888888888888888,
             "#fdca26"
            ],
            [
             1,
             "#f0f921"
            ]
           ]
          },
          "colorway": [
           "#636efa",
           "#EF553B",
           "#00cc96",
           "#ab63fa",
           "#FFA15A",
           "#19d3f3",
           "#FF6692",
           "#B6E880",
           "#FF97FF",
           "#FECB52"
          ],
          "font": {
           "color": "#2a3f5f"
          },
          "geo": {
           "bgcolor": "white",
           "lakecolor": "white",
           "landcolor": "#E5ECF6",
           "showlakes": true,
           "showland": true,
           "subunitcolor": "white"
          },
          "hoverlabel": {
           "align": "left"
          },
          "hovermode": "closest",
          "mapbox": {
           "style": "light"
          },
          "paper_bgcolor": "white",
          "plot_bgcolor": "#E5ECF6",
          "polar": {
           "angularaxis": {
            "gridcolor": "white",
            "linecolor": "white",
            "ticks": ""
           },
           "bgcolor": "#E5ECF6",
           "radialaxis": {
            "gridcolor": "white",
            "linecolor": "white",
            "ticks": ""
           }
          },
          "scene": {
           "xaxis": {
            "backgroundcolor": "#E5ECF6",
            "gridcolor": "white",
            "gridwidth": 2,
            "linecolor": "white",
            "showbackground": true,
            "ticks": "",
            "zerolinecolor": "white"
           },
           "yaxis": {
            "backgroundcolor": "#E5ECF6",
            "gridcolor": "white",
            "gridwidth": 2,
            "linecolor": "white",
            "showbackground": true,
            "ticks": "",
            "zerolinecolor": "white"
           },
           "zaxis": {
            "backgroundcolor": "#E5ECF6",
            "gridcolor": "white",
            "gridwidth": 2,
            "linecolor": "white",
            "showbackground": true,
            "ticks": "",
            "zerolinecolor": "white"
           }
          },
          "shapedefaults": {
           "line": {
            "color": "#2a3f5f"
           }
          },
          "ternary": {
           "aaxis": {
            "gridcolor": "white",
            "linecolor": "white",
            "ticks": ""
           },
           "baxis": {
            "gridcolor": "white",
            "linecolor": "white",
            "ticks": ""
           },
           "bgcolor": "#E5ECF6",
           "caxis": {
            "gridcolor": "white",
            "linecolor": "white",
            "ticks": ""
           }
          },
          "title": {
           "x": 0.05
          },
          "xaxis": {
           "automargin": true,
           "gridcolor": "white",
           "linecolor": "white",
           "ticks": "",
           "title": {
            "standoff": 15
           },
           "zerolinecolor": "white",
           "zerolinewidth": 2
          },
          "yaxis": {
           "automargin": true,
           "gridcolor": "white",
           "linecolor": "white",
           "ticks": "",
           "title": {
            "standoff": 15
           },
           "zerolinecolor": "white",
           "zerolinewidth": 2
          }
         }
        },
        "title": {
         "text": "Top 10 Products by Revenue"
        },
        "xaxis": {
         "anchor": "y",
         "domain": [
          0,
          1
         ],
         "title": {
          "text": "Revenue ($)"
         }
        },
        "yaxis": {
         "anchor": "x",
         "categoryorder": "total ascending",
         "domain": [
          0,
          1
         ],
         "title": {
          "text": "Product Name"
         }
        }
       }
      }
     },
     "metadata": {},
     "output_type": "display_data"
    },
    {
     "name": "stdout",
     "output_type": "stream",
     "text": [
      "Top 10 Products by Revenue:\n",
      "                                                  Product Name       Sales      Profit  Quantity\n",
      "310                               Apple Smart Phone, Full Size  86935.7786   5921.5786       171\n",
      "970                               Cisco Smart Phone, Full Size  76441.5306  17238.5206       139\n",
      "2415                           Motorola Smart Phone, Full Size  73156.3030  17027.1130       134\n",
      "2501                              Nokia Smart Phone, Full Size  71904.5555   9938.1955       147\n",
      "866                      Canon imageCLASS 2200 Advanced Copier  61599.8240  25199.9280        20\n",
      "1837                Hon Executive Leather Armchair, Adjustable  58193.4841   5997.2541       169\n",
      "2631        Office Star Executive Leather Armchair, Adjustable  50661.6840   4710.9840       141\n",
      "1714  Harbour Creations Executive Leather Armchair, Adjustable  50121.5160  10427.3260       142\n",
      "2988                             Samsung Smart Phone, Cordless  48653.4600   -198.0900       108\n",
      "2502                         Nokia Smart Phone, with Caller ID  47877.7857   9465.3257        96\n"
     ]
    }
   ],
   "source": [
    "# Top products by revenue\n",
    "top_products = df.groupby(['Product Name', 'Category', 'Sub-Category']).agg({\n",
    "    'Sales': 'sum',\n",
    "    'Profit': 'sum',\n",
    "    'Quantity': 'sum'\n",
    "}).reset_index().sort_values('Sales', ascending=False).head(10)\n",
    "\n",
    "# Create horizontal bar chart\n",
    "fig = px.bar(top_products, \n",
    "             x='Sales', \n",
    "             y='Product Name',\n",
    "             color='Category',\n",
    "             title='Top 10 Products by Revenue',\n",
    "             labels={'Sales': 'Revenue ($)'},\n",
    "             orientation='h')\n",
    "\n",
    "fig.update_layout(height=500, yaxis={'categoryorder':'total ascending'})\n",
    "fig.show()\n",
    "\n",
    "# Save visualization\n",
    "fig.write_html('../visuals/top_products.html')\n",
    "fig.write_image('../visuals/top_products.png', width=1000, height=500)\n",
    "\n",
    "print(\"Top 10 Products by Revenue:\")\n",
    "print(top_products[['Product Name', 'Sales', 'Profit', 'Quantity']].to_string())"
   ]
  },
  {
   "cell_type": "code",
   "execution_count": 8,
   "metadata": {},
   "outputs": [
    {
     "data": {
      "application/vnd.plotly.v1+json": {
       "config": {
        "plotlyServerURL": "https://plot.ly"
       },
       "data": [
        {
         "customdata": [
          [
           34954
          ]
         ],
         "hovertemplate": "Category=Furniture<br>Revenue ($)=%{x}<br>Profit Margin (%)=%{y}<br>Number of Orders=%{marker.size}<br>Quantity=%{customdata[0]}<extra></extra>",
         "legendgroup": "Furniture",
         "marker": {
          "color": "#636efa",
          "size": [
           8195
          ],
          "sizemode": "area",
          "sizeref": 47.5075,
          "symbol": "circle"
         },
         "mode": "markers",
         "name": "Furniture",
         "orientation": "v",
         "showlegend": true,
         "type": "scatter",
         "x": [
          4110874.1863
         ],
         "xaxis": "x",
         "y": [
          6.93781202914164
         ],
         "yaxis": "y"
        },
        {
         "customdata": [
          [
           108182
          ]
         ],
         "hovertemplate": "Category=Office Supplies<br>Revenue ($)=%{x}<br>Profit Margin (%)=%{y}<br>Number of Orders=%{marker.size}<br>Quantity=%{customdata[0]}<extra></extra>",
         "legendgroup": "Office Supplies",
         "marker": {
          "color": "#EF553B",
          "size": [
           19003
          ],
          "sizemode": "area",
          "sizeref": 47.5075,
          "symbol": "circle"
         },
         "mode": "markers",
         "name": "Office Supplies",
         "orientation": "v",
         "showlegend": true,
         "type": "scatter",
         "x": [
          3787070.2255
         ],
         "xaxis": "x",
         "y": [
          13.690631634155842
         ],
         "yaxis": "y"
        },
        {
         "customdata": [
          [
           35176
          ]
         ],
         "hovertemplate": "Category=Technology<br>Revenue ($)=%{x}<br>Profit Margin (%)=%{y}<br>Number of Orders=%{marker.size}<br>Quantity=%{customdata[0]}<extra></extra>",
         "legendgroup": "Technology",
         "marker": {
          "color": "#00cc96",
          "size": [
           8354
          ],
          "sizemode": "area",
          "sizeref": 47.5075,
          "symbol": "circle"
         },
         "mode": "markers",
         "name": "Technology",
         "orientation": "v",
         "showlegend": true,
         "type": "scatter",
         "x": [
          4744557.49808
         ],
         "xaxis": "x",
         "y": [
          13.990319085575717
         ],
         "yaxis": "y"
        }
       ],
       "layout": {
        "height": 500,
        "legend": {
         "itemsizing": "constant",
         "title": {
          "text": "Category"
         },
         "tracegroupgap": 0
        },
        "template": {
         "data": {
          "bar": [
           {
            "error_x": {
             "color": "#2a3f5f"
            },
            "error_y": {
             "color": "#2a3f5f"
            },
            "marker": {
             "line": {
              "color": "#E5ECF6",
              "width": 0.5
             },
             "pattern": {
              "fillmode": "overlay",
              "size": 10,
              "solidity": 0.2
             }
            },
            "type": "bar"
           }
          ],
          "barpolar": [
           {
            "marker": {
             "line": {
              "color": "#E5ECF6",
              "width": 0.5
             },
             "pattern": {
              "fillmode": "overlay",
              "size": 10,
              "solidity": 0.2
             }
            },
            "type": "barpolar"
           }
          ],
          "carpet": [
           {
            "aaxis": {
             "endlinecolor": "#2a3f5f",
             "gridcolor": "white",
             "linecolor": "white",
             "minorgridcolor": "white",
             "startlinecolor": "#2a3f5f"
            },
            "baxis": {
             "endlinecolor": "#2a3f5f",
             "gridcolor": "white",
             "linecolor": "white",
             "minorgridcolor": "white",
             "startlinecolor": "#2a3f5f"
            },
            "type": "carpet"
           }
          ],
          "choropleth": [
           {
            "colorbar": {
             "outlinewidth": 0,
             "ticks": ""
            },
            "type": "choropleth"
           }
          ],
          "contour": [
           {
            "colorbar": {
             "outlinewidth": 0,
             "ticks": ""
            },
            "colorscale": [
             [
              0,
              "#0d0887"
             ],
             [
              0.1111111111111111,
              "#46039f"
             ],
             [
              0.2222222222222222,
              "#7201a8"
             ],
             [
              0.3333333333333333,
              "#9c179e"
             ],
             [
              0.4444444444444444,
              "#bd3786"
             ],
             [
              0.5555555555555556,
              "#d8576b"
             ],
             [
              0.6666666666666666,
              "#ed7953"
             ],
             [
              0.7777777777777778,
              "#fb9f3a"
             ],
             [
              0.8888888888888888,
              "#fdca26"
             ],
             [
              1,
              "#f0f921"
             ]
            ],
            "type": "contour"
           }
          ],
          "contourcarpet": [
           {
            "colorbar": {
             "outlinewidth": 0,
             "ticks": ""
            },
            "type": "contourcarpet"
           }
          ],
          "heatmap": [
           {
            "colorbar": {
             "outlinewidth": 0,
             "ticks": ""
            },
            "colorscale": [
             [
              0,
              "#0d0887"
             ],
             [
              0.1111111111111111,
              "#46039f"
             ],
             [
              0.2222222222222222,
              "#7201a8"
             ],
             [
              0.3333333333333333,
              "#9c179e"
             ],
             [
              0.4444444444444444,
              "#bd3786"
             ],
             [
              0.5555555555555556,
              "#d8576b"
             ],
             [
              0.6666666666666666,
              "#ed7953"
             ],
             [
              0.7777777777777778,
              "#fb9f3a"
             ],
             [
              0.8888888888888888,
              "#fdca26"
             ],
             [
              1,
              "#f0f921"
             ]
            ],
            "type": "heatmap"
           }
          ],
          "heatmapgl": [
           {
            "colorbar": {
             "outlinewidth": 0,
             "ticks": ""
            },
            "colorscale": [
             [
              0,
              "#0d0887"
             ],
             [
              0.1111111111111111,
              "#46039f"
             ],
             [
              0.2222222222222222,
              "#7201a8"
             ],
             [
              0.3333333333333333,
              "#9c179e"
             ],
             [
              0.4444444444444444,
              "#bd3786"
             ],
             [
              0.5555555555555556,
              "#d8576b"
             ],
             [
              0.6666666666666666,
              "#ed7953"
             ],
             [
              0.7777777777777778,
              "#fb9f3a"
             ],
             [
              0.8888888888888888,
              "#fdca26"
             ],
             [
              1,
              "#f0f921"
             ]
            ],
            "type": "heatmapgl"
           }
          ],
          "histogram": [
           {
            "marker": {
             "pattern": {
              "fillmode": "overlay",
              "size": 10,
              "solidity": 0.2
             }
            },
            "type": "histogram"
           }
          ],
          "histogram2d": [
           {
            "colorbar": {
             "outlinewidth": 0,
             "ticks": ""
            },
            "colorscale": [
             [
              0,
              "#0d0887"
             ],
             [
              0.1111111111111111,
              "#46039f"
             ],
             [
              0.2222222222222222,
              "#7201a8"
             ],
             [
              0.3333333333333333,
              "#9c179e"
             ],
             [
              0.4444444444444444,
              "#bd3786"
             ],
             [
              0.5555555555555556,
              "#d8576b"
             ],
             [
              0.6666666666666666,
              "#ed7953"
             ],
             [
              0.7777777777777778,
              "#fb9f3a"
             ],
             [
              0.8888888888888888,
              "#fdca26"
             ],
             [
              1,
              "#f0f921"
             ]
            ],
            "type": "histogram2d"
           }
          ],
          "histogram2dcontour": [
           {
            "colorbar": {
             "outlinewidth": 0,
             "ticks": ""
            },
            "colorscale": [
             [
              0,
              "#0d0887"
             ],
             [
              0.1111111111111111,
              "#46039f"
             ],
             [
              0.2222222222222222,
              "#7201a8"
             ],
             [
              0.3333333333333333,
              "#9c179e"
             ],
             [
              0.4444444444444444,
              "#bd3786"
             ],
             [
              0.5555555555555556,
              "#d8576b"
             ],
             [
              0.6666666666666666,
              "#ed7953"
             ],
             [
              0.7777777777777778,
              "#fb9f3a"
             ],
             [
              0.8888888888888888,
              "#fdca26"
             ],
             [
              1,
              "#f0f921"
             ]
            ],
            "type": "histogram2dcontour"
           }
          ],
          "mesh3d": [
           {
            "colorbar": {
             "outlinewidth": 0,
             "ticks": ""
            },
            "type": "mesh3d"
           }
          ],
          "parcoords": [
           {
            "line": {
             "colorbar": {
              "outlinewidth": 0,
              "ticks": ""
             }
            },
            "type": "parcoords"
           }
          ],
          "pie": [
           {
            "automargin": true,
            "type": "pie"
           }
          ],
          "scatter": [
           {
            "fillpattern": {
             "fillmode": "overlay",
             "size": 10,
             "solidity": 0.2
            },
            "type": "scatter"
           }
          ],
          "scatter3d": [
           {
            "line": {
             "colorbar": {
              "outlinewidth": 0,
              "ticks": ""
             }
            },
            "marker": {
             "colorbar": {
              "outlinewidth": 0,
              "ticks": ""
             }
            },
            "type": "scatter3d"
           }
          ],
          "scattercarpet": [
           {
            "marker": {
             "colorbar": {
              "outlinewidth": 0,
              "ticks": ""
             }
            },
            "type": "scattercarpet"
           }
          ],
          "scattergeo": [
           {
            "marker": {
             "colorbar": {
              "outlinewidth": 0,
              "ticks": ""
             }
            },
            "type": "scattergeo"
           }
          ],
          "scattergl": [
           {
            "marker": {
             "colorbar": {
              "outlinewidth": 0,
              "ticks": ""
             }
            },
            "type": "scattergl"
           }
          ],
          "scattermapbox": [
           {
            "marker": {
             "colorbar": {
              "outlinewidth": 0,
              "ticks": ""
             }
            },
            "type": "scattermapbox"
           }
          ],
          "scatterpolar": [
           {
            "marker": {
             "colorbar": {
              "outlinewidth": 0,
              "ticks": ""
             }
            },
            "type": "scatterpolar"
           }
          ],
          "scatterpolargl": [
           {
            "marker": {
             "colorbar": {
              "outlinewidth": 0,
              "ticks": ""
             }
            },
            "type": "scatterpolargl"
           }
          ],
          "scatterternary": [
           {
            "marker": {
             "colorbar": {
              "outlinewidth": 0,
              "ticks": ""
             }
            },
            "type": "scatterternary"
           }
          ],
          "surface": [
           {
            "colorbar": {
             "outlinewidth": 0,
             "ticks": ""
            },
            "colorscale": [
             [
              0,
              "#0d0887"
             ],
             [
              0.1111111111111111,
              "#46039f"
             ],
             [
              0.2222222222222222,
              "#7201a8"
             ],
             [
              0.3333333333333333,
              "#9c179e"
             ],
             [
              0.4444444444444444,
              "#bd3786"
             ],
             [
              0.5555555555555556,
              "#d8576b"
             ],
             [
              0.6666666666666666,
              "#ed7953"
             ],
             [
              0.7777777777777778,
              "#fb9f3a"
             ],
             [
              0.8888888888888888,
              "#fdca26"
             ],
             [
              1,
              "#f0f921"
             ]
            ],
            "type": "surface"
           }
          ],
          "table": [
           {
            "cells": {
             "fill": {
              "color": "#EBF0F8"
             },
             "line": {
              "color": "white"
             }
            },
            "header": {
             "fill": {
              "color": "#C8D4E3"
             },
             "line": {
              "color": "white"
             }
            },
            "type": "table"
           }
          ]
         },
         "layout": {
          "annotationdefaults": {
           "arrowcolor": "#2a3f5f",
           "arrowhead": 0,
           "arrowwidth": 1
          },
          "autotypenumbers": "strict",
          "coloraxis": {
           "colorbar": {
            "outlinewidth": 0,
            "ticks": ""
           }
          },
          "colorscale": {
           "diverging": [
            [
             0,
             "#8e0152"
            ],
            [
             0.1,
             "#c51b7d"
            ],
            [
             0.2,
             "#de77ae"
            ],
            [
             0.3,
             "#f1b6da"
            ],
            [
             0.4,
             "#fde0ef"
            ],
            [
             0.5,
             "#f7f7f7"
            ],
            [
             0.6,
             "#e6f5d0"
            ],
            [
             0.7,
             "#b8e186"
            ],
            [
             0.8,
             "#7fbc41"
            ],
            [
             0.9,
             "#4d9221"
            ],
            [
             1,
             "#276419"
            ]
           ],
           "sequential": [
            [
             0,
             "#0d0887"
            ],
            [
             0.1111111111111111,
             "#46039f"
            ],
            [
             0.2222222222222222,
             "#7201a8"
            ],
            [
             0.3333333333333333,
             "#9c179e"
            ],
            [
             0.4444444444444444,
             "#bd3786"
            ],
            [
             0.5555555555555556,
             "#d8576b"
            ],
            [
             0.6666666666666666,
             "#ed7953"
            ],
            [
             0.7777777777777778,
             "#fb9f3a"
            ],
            [
             0.8888888888888888,
             "#fdca26"
            ],
            [
             1,
             "#f0f921"
            ]
           ],
           "sequentialminus": [
            [
             0,
             "#0d0887"
            ],
            [
             0.1111111111111111,
             "#46039f"
            ],
            [
             0.2222222222222222,
             "#7201a8"
            ],
            [
             0.3333333333333333,
             "#9c179e"
            ],
            [
             0.4444444444444444,
             "#bd3786"
            ],
            [
             0.5555555555555556,
             "#d8576b"
            ],
            [
             0.6666666666666666,
             "#ed7953"
            ],
            [
             0.7777777777777778,
             "#fb9f3a"
            ],
            [
             0.8888888888888888,
             "#fdca26"
            ],
            [
             1,
             "#f0f921"
            ]
           ]
          },
          "colorway": [
           "#636efa",
           "#EF553B",
           "#00cc96",
           "#ab63fa",
           "#FFA15A",
           "#19d3f3",
           "#FF6692",
           "#B6E880",
           "#FF97FF",
           "#FECB52"
          ],
          "font": {
           "color": "#2a3f5f"
          },
          "geo": {
           "bgcolor": "white",
           "lakecolor": "white",
           "landcolor": "#E5ECF6",
           "showlakes": true,
           "showland": true,
           "subunitcolor": "white"
          },
          "hoverlabel": {
           "align": "left"
          },
          "hovermode": "closest",
          "mapbox": {
           "style": "light"
          },
          "paper_bgcolor": "white",
          "plot_bgcolor": "#E5ECF6",
          "polar": {
           "angularaxis": {
            "gridcolor": "white",
            "linecolor": "white",
            "ticks": ""
           },
           "bgcolor": "#E5ECF6",
           "radialaxis": {
            "gridcolor": "white",
            "linecolor": "white",
            "ticks": ""
           }
          },
          "scene": {
           "xaxis": {
            "backgroundcolor": "#E5ECF6",
            "gridcolor": "white",
            "gridwidth": 2,
            "linecolor": "white",
            "showbackground": true,
            "ticks": "",
            "zerolinecolor": "white"
           },
           "yaxis": {
            "backgroundcolor": "#E5ECF6",
            "gridcolor": "white",
            "gridwidth": 2,
            "linecolor": "white",
            "showbackground": true,
            "ticks": "",
            "zerolinecolor": "white"
           },
           "zaxis": {
            "backgroundcolor": "#E5ECF6",
            "gridcolor": "white",
            "gridwidth": 2,
            "linecolor": "white",
            "showbackground": true,
            "ticks": "",
            "zerolinecolor": "white"
           }
          },
          "shapedefaults": {
           "line": {
            "color": "#2a3f5f"
           }
          },
          "ternary": {
           "aaxis": {
            "gridcolor": "white",
            "linecolor": "white",
            "ticks": ""
           },
           "baxis": {
            "gridcolor": "white",
            "linecolor": "white",
            "ticks": ""
           },
           "bgcolor": "#E5ECF6",
           "caxis": {
            "gridcolor": "white",
            "linecolor": "white",
            "ticks": ""
           }
          },
          "title": {
           "x": 0.05
          },
          "xaxis": {
           "automargin": true,
           "gridcolor": "white",
           "linecolor": "white",
           "ticks": "",
           "title": {
            "standoff": 15
           },
           "zerolinecolor": "white",
           "zerolinewidth": 2
          },
          "yaxis": {
           "automargin": true,
           "gridcolor": "white",
           "linecolor": "white",
           "ticks": "",
           "title": {
            "standoff": 15
           },
           "zerolinecolor": "white",
           "zerolinewidth": 2
          }
         }
        },
        "title": {
         "text": "Category Performance: Revenue vs Profit Margin"
        },
        "xaxis": {
         "anchor": "y",
         "domain": [
          0,
          1
         ],
         "title": {
          "text": "Revenue ($)"
         }
        },
        "yaxis": {
         "anchor": "x",
         "domain": [
          0,
          1
         ],
         "title": {
          "text": "Profit Margin (%)"
         }
        }
       }
      }
     },
     "metadata": {},
     "output_type": "display_data"
    }
   ],
   "source": [
    "# Category performance\n",
    "category_perf = df.groupby('Category').agg({\n",
    "    'Sales': 'sum',\n",
    "    'Profit': 'sum',\n",
    "    'Quantity': 'sum',\n",
    "    'Order ID': 'nunique'\n",
    "}).reset_index()\n",
    "\n",
    "category_perf['Profit_Margin'] = (category_perf['Profit'] / category_perf['Sales']) * 100\n",
    "\n",
    "# Create bubble chart\n",
    "fig = px.scatter(category_perf, \n",
    "                 x='Sales', \n",
    "                 y='Profit_Margin',\n",
    "                 size='Order ID',\n",
    "                 color='Category',\n",
    "                 hover_data=['Quantity'],\n",
    "                 title='Category Performance: Revenue vs Profit Margin',\n",
    "                 labels={'Sales': 'Revenue ($)', \n",
    "                        'Profit_Margin': 'Profit Margin (%)',\n",
    "                        'Order ID': 'Number of Orders'})\n",
    "\n",
    "fig.update_layout(height=500)\n",
    "fig.show()\n",
    "\n",
    "fig.write_html('../visuals/category_performance.html')\n",
    "fig.write_image('../visuals/category_performance.png', width=1000, height=500)"
   ]
  },
  {
   "cell_type": "markdown",
   "metadata": {},
   "source": [
    "## 5. Geographic Analysis"
   ]
  },
  {
   "cell_type": "code",
   "execution_count": 9,
   "metadata": {},
   "outputs": [
    {
     "data": {
      "application/vnd.plotly.v1+json": {
       "config": {
        "plotlyServerURL": "https://plot.ly"
       },
       "data": [
        {
         "marker": {
          "color": "lightblue"
         },
         "name": "Revenue",
         "type": "bar",
         "x": [
          "Africa",
          "Canada",
          "Caribbean",
          "Central",
          "Central Asia",
          "EMEA",
          "East",
          "North",
          "North Asia",
          "Oceania",
          "South",
          "Southeast Asia",
          "West"
         ],
         "xaxis": "x",
         "y": [
          783773.211,
          66928.17,
          324280.86104,
          2822302.51994,
          752826.567,
          806161.311,
          678781.24,
          1248165.60252,
          848309.781,
          1100184.612,
          1600907.04088,
          884423.169,
          725457.8245
         ],
         "yaxis": "y"
        },
        {
         "marker": {
          "color": "lightgreen"
         },
         "name": "Profit Margin",
         "type": "bar",
         "x": [
          "Africa",
          "Canada",
          "Caribbean",
          "Central",
          "Central Asia",
          "EMEA",
          "East",
          "North",
          "North Asia",
          "Oceania",
          "South",
          "Southeast Asia",
          "West"
         ],
         "xaxis": "x2",
         "y": [
          11.338947255751512,
          26.621660206755987,
          10.660919342919728,
          11.033685419613352,
          17.59770348274651,
          5.445308575469457,
          13.483398568882073,
          15.590715857504323,
          19.518626887080536,
          10.915360085039982,
          8.76726521877548,
          2.0185279655422503,
          14.944831420727203
         ],
         "yaxis": "y2"
        },
        {
         "marker": {
          "color": "lightcoral"
         },
         "name": "Orders",
         "type": "bar",
         "x": [
          "Africa",
          "Canada",
          "Caribbean",
          "Central",
          "Central Asia",
          "EMEA",
          "East",
          "North",
          "North Asia",
          "Oceania",
          "South",
          "Southeast Asia",
          "West"
         ],
         "xaxis": "x3",
         "y": [
          2232,
          201,
          855,
          5249,
          1026,
          2462,
          1401,
          2356,
          1150,
          1744,
          3270,
          1517,
          1611
         ],
         "yaxis": "y3"
        },
        {
         "marker": {
          "color": "lightyellow"
         },
         "name": "AOV",
         "type": "bar",
         "x": [
          "Africa",
          "Canada",
          "Caribbean",
          "Central",
          "Central Asia",
          "EMEA",
          "East",
          "North",
          "North Asia",
          "Oceania",
          "South",
          "Southeast Asia",
          "West"
         ],
         "xaxis": "x4",
         "y": [
          351.15287231182793,
          332.9759701492537,
          379.27586086549707,
          537.6838483406364,
          733.7490906432749,
          327.44163728675875,
          484.4976730906495,
          529.7816649066214,
          737.6606791304348,
          630.8398004587156,
          489.574018617737,
          583.0080217534608,
          450.3152231533209
         ],
         "yaxis": "y4"
        }
       ],
       "layout": {
        "annotations": [
         {
          "font": {
           "size": 16
          },
          "showarrow": false,
          "text": "Revenue by Region",
          "x": 0.225,
          "xanchor": "center",
          "xref": "paper",
          "y": 1,
          "yanchor": "bottom",
          "yref": "paper"
         },
         {
          "font": {
           "size": 16
          },
          "showarrow": false,
          "text": "Profit Margin by Region",
          "x": 0.775,
          "xanchor": "center",
          "xref": "paper",
          "y": 1,
          "yanchor": "bottom",
          "yref": "paper"
         },
         {
          "font": {
           "size": 16
          },
          "showarrow": false,
          "text": "Number of Orders",
          "x": 0.225,
          "xanchor": "center",
          "xref": "paper",
          "y": 0.375,
          "yanchor": "bottom",
          "yref": "paper"
         },
         {
          "font": {
           "size": 16
          },
          "showarrow": false,
          "text": "Average Order Value",
          "x": 0.775,
          "xanchor": "center",
          "xref": "paper",
          "y": 0.375,
          "yanchor": "bottom",
          "yref": "paper"
         }
        ],
        "height": 600,
        "showlegend": false,
        "template": {
         "data": {
          "bar": [
           {
            "error_x": {
             "color": "#2a3f5f"
            },
            "error_y": {
             "color": "#2a3f5f"
            },
            "marker": {
             "line": {
              "color": "#E5ECF6",
              "width": 0.5
             },
             "pattern": {
              "fillmode": "overlay",
              "size": 10,
              "solidity": 0.2
             }
            },
            "type": "bar"
           }
          ],
          "barpolar": [
           {
            "marker": {
             "line": {
              "color": "#E5ECF6",
              "width": 0.5
             },
             "pattern": {
              "fillmode": "overlay",
              "size": 10,
              "solidity": 0.2
             }
            },
            "type": "barpolar"
           }
          ],
          "carpet": [
           {
            "aaxis": {
             "endlinecolor": "#2a3f5f",
             "gridcolor": "white",
             "linecolor": "white",
             "minorgridcolor": "white",
             "startlinecolor": "#2a3f5f"
            },
            "baxis": {
             "endlinecolor": "#2a3f5f",
             "gridcolor": "white",
             "linecolor": "white",
             "minorgridcolor": "white",
             "startlinecolor": "#2a3f5f"
            },
            "type": "carpet"
           }
          ],
          "choropleth": [
           {
            "colorbar": {
             "outlinewidth": 0,
             "ticks": ""
            },
            "type": "choropleth"
           }
          ],
          "contour": [
           {
            "colorbar": {
             "outlinewidth": 0,
             "ticks": ""
            },
            "colorscale": [
             [
              0,
              "#0d0887"
             ],
             [
              0.1111111111111111,
              "#46039f"
             ],
             [
              0.2222222222222222,
              "#7201a8"
             ],
             [
              0.3333333333333333,
              "#9c179e"
             ],
             [
              0.4444444444444444,
              "#bd3786"
             ],
             [
              0.5555555555555556,
              "#d8576b"
             ],
             [
              0.6666666666666666,
              "#ed7953"
             ],
             [
              0.7777777777777778,
              "#fb9f3a"
             ],
             [
              0.8888888888888888,
              "#fdca26"
             ],
             [
              1,
              "#f0f921"
             ]
            ],
            "type": "contour"
           }
          ],
          "contourcarpet": [
           {
            "colorbar": {
             "outlinewidth": 0,
             "ticks": ""
            },
            "type": "contourcarpet"
           }
          ],
          "heatmap": [
           {
            "colorbar": {
             "outlinewidth": 0,
             "ticks": ""
            },
            "colorscale": [
             [
              0,
              "#0d0887"
             ],
             [
              0.1111111111111111,
              "#46039f"
             ],
             [
              0.2222222222222222,
              "#7201a8"
             ],
             [
              0.3333333333333333,
              "#9c179e"
             ],
             [
              0.4444444444444444,
              "#bd3786"
             ],
             [
              0.5555555555555556,
              "#d8576b"
             ],
             [
              0.6666666666666666,
              "#ed7953"
             ],
             [
              0.7777777777777778,
              "#fb9f3a"
             ],
             [
              0.8888888888888888,
              "#fdca26"
             ],
             [
              1,
              "#f0f921"
             ]
            ],
            "type": "heatmap"
           }
          ],
          "heatmapgl": [
           {
            "colorbar": {
             "outlinewidth": 0,
             "ticks": ""
            },
            "colorscale": [
             [
              0,
              "#0d0887"
             ],
             [
              0.1111111111111111,
              "#46039f"
             ],
             [
              0.2222222222222222,
              "#7201a8"
             ],
             [
              0.3333333333333333,
              "#9c179e"
             ],
             [
              0.4444444444444444,
              "#bd3786"
             ],
             [
              0.5555555555555556,
              "#d8576b"
             ],
             [
              0.6666666666666666,
              "#ed7953"
             ],
             [
              0.7777777777777778,
              "#fb9f3a"
             ],
             [
              0.8888888888888888,
              "#fdca26"
             ],
             [
              1,
              "#f0f921"
             ]
            ],
            "type": "heatmapgl"
           }
          ],
          "histogram": [
           {
            "marker": {
             "pattern": {
              "fillmode": "overlay",
              "size": 10,
              "solidity": 0.2
             }
            },
            "type": "histogram"
           }
          ],
          "histogram2d": [
           {
            "colorbar": {
             "outlinewidth": 0,
             "ticks": ""
            },
            "colorscale": [
             [
              0,
              "#0d0887"
             ],
             [
              0.1111111111111111,
              "#46039f"
             ],
             [
              0.2222222222222222,
              "#7201a8"
             ],
             [
              0.3333333333333333,
              "#9c179e"
             ],
             [
              0.4444444444444444,
              "#bd3786"
             ],
             [
              0.5555555555555556,
              "#d8576b"
             ],
             [
              0.6666666666666666,
              "#ed7953"
             ],
             [
              0.7777777777777778,
              "#fb9f3a"
             ],
             [
              0.8888888888888888,
              "#fdca26"
             ],
             [
              1,
              "#f0f921"
             ]
            ],
            "type": "histogram2d"
           }
          ],
          "histogram2dcontour": [
           {
            "colorbar": {
             "outlinewidth": 0,
             "ticks": ""
            },
            "colorscale": [
             [
              0,
              "#0d0887"
             ],
             [
              0.1111111111111111,
              "#46039f"
             ],
             [
              0.2222222222222222,
              "#7201a8"
             ],
             [
              0.3333333333333333,
              "#9c179e"
             ],
             [
              0.4444444444444444,
              "#bd3786"
             ],
             [
              0.5555555555555556,
              "#d8576b"
             ],
             [
              0.6666666666666666,
              "#ed7953"
             ],
             [
              0.7777777777777778,
              "#fb9f3a"
             ],
             [
              0.8888888888888888,
              "#fdca26"
             ],
             [
              1,
              "#f0f921"
             ]
            ],
            "type": "histogram2dcontour"
           }
          ],
          "mesh3d": [
           {
            "colorbar": {
             "outlinewidth": 0,
             "ticks": ""
            },
            "type": "mesh3d"
           }
          ],
          "parcoords": [
           {
            "line": {
             "colorbar": {
              "outlinewidth": 0,
              "ticks": ""
             }
            },
            "type": "parcoords"
           }
          ],
          "pie": [
           {
            "automargin": true,
            "type": "pie"
           }
          ],
          "scatter": [
           {
            "fillpattern": {
             "fillmode": "overlay",
             "size": 10,
             "solidity": 0.2
            },
            "type": "scatter"
           }
          ],
          "scatter3d": [
           {
            "line": {
             "colorbar": {
              "outlinewidth": 0,
              "ticks": ""
             }
            },
            "marker": {
             "colorbar": {
              "outlinewidth": 0,
              "ticks": ""
             }
            },
            "type": "scatter3d"
           }
          ],
          "scattercarpet": [
           {
            "marker": {
             "colorbar": {
              "outlinewidth": 0,
              "ticks": ""
             }
            },
            "type": "scattercarpet"
           }
          ],
          "scattergeo": [
           {
            "marker": {
             "colorbar": {
              "outlinewidth": 0,
              "ticks": ""
             }
            },
            "type": "scattergeo"
           }
          ],
          "scattergl": [
           {
            "marker": {
             "colorbar": {
              "outlinewidth": 0,
              "ticks": ""
             }
            },
            "type": "scattergl"
           }
          ],
          "scattermapbox": [
           {
            "marker": {
             "colorbar": {
              "outlinewidth": 0,
              "ticks": ""
             }
            },
            "type": "scattermapbox"
           }
          ],
          "scatterpolar": [
           {
            "marker": {
             "colorbar": {
              "outlinewidth": 0,
              "ticks": ""
             }
            },
            "type": "scatterpolar"
           }
          ],
          "scatterpolargl": [
           {
            "marker": {
             "colorbar": {
              "outlinewidth": 0,
              "ticks": ""
             }
            },
            "type": "scatterpolargl"
           }
          ],
          "scatterternary": [
           {
            "marker": {
             "colorbar": {
              "outlinewidth": 0,
              "ticks": ""
             }
            },
            "type": "scatterternary"
           }
          ],
          "surface": [
           {
            "colorbar": {
             "outlinewidth": 0,
             "ticks": ""
            },
            "colorscale": [
             [
              0,
              "#0d0887"
             ],
             [
              0.1111111111111111,
              "#46039f"
             ],
             [
              0.2222222222222222,
              "#7201a8"
             ],
             [
              0.3333333333333333,
              "#9c179e"
             ],
             [
              0.4444444444444444,
              "#bd3786"
             ],
             [
              0.5555555555555556,
              "#d8576b"
             ],
             [
              0.6666666666666666,
              "#ed7953"
             ],
             [
              0.7777777777777778,
              "#fb9f3a"
             ],
             [
              0.8888888888888888,
              "#fdca26"
             ],
             [
              1,
              "#f0f921"
             ]
            ],
            "type": "surface"
           }
          ],
          "table": [
           {
            "cells": {
             "fill": {
              "color": "#EBF0F8"
             },
             "line": {
              "color": "white"
             }
            },
            "header": {
             "fill": {
              "color": "#C8D4E3"
             },
             "line": {
              "color": "white"
             }
            },
            "type": "table"
           }
          ]
         },
         "layout": {
          "annotationdefaults": {
           "arrowcolor": "#2a3f5f",
           "arrowhead": 0,
           "arrowwidth": 1
          },
          "autotypenumbers": "strict",
          "coloraxis": {
           "colorbar": {
            "outlinewidth": 0,
            "ticks": ""
           }
          },
          "colorscale": {
           "diverging": [
            [
             0,
             "#8e0152"
            ],
            [
             0.1,
             "#c51b7d"
            ],
            [
             0.2,
             "#de77ae"
            ],
            [
             0.3,
             "#f1b6da"
            ],
            [
             0.4,
             "#fde0ef"
            ],
            [
             0.5,
             "#f7f7f7"
            ],
            [
             0.6,
             "#e6f5d0"
            ],
            [
             0.7,
             "#b8e186"
            ],
            [
             0.8,
             "#7fbc41"
            ],
            [
             0.9,
             "#4d9221"
            ],
            [
             1,
             "#276419"
            ]
           ],
           "sequential": [
            [
             0,
             "#0d0887"
            ],
            [
             0.1111111111111111,
             "#46039f"
            ],
            [
             0.2222222222222222,
             "#7201a8"
            ],
            [
             0.3333333333333333,
             "#9c179e"
            ],
            [
             0.4444444444444444,
             "#bd3786"
            ],
            [
             0.5555555555555556,
             "#d8576b"
            ],
            [
             0.6666666666666666,
             "#ed7953"
            ],
            [
             0.7777777777777778,
             "#fb9f3a"
            ],
            [
             0.8888888888888888,
             "#fdca26"
            ],
            [
             1,
             "#f0f921"
            ]
           ],
           "sequentialminus": [
            [
             0,
             "#0d0887"
            ],
            [
             0.1111111111111111,
             "#46039f"
            ],
            [
             0.2222222222222222,
             "#7201a8"
            ],
            [
             0.3333333333333333,
             "#9c179e"
            ],
            [
             0.4444444444444444,
             "#bd3786"
            ],
            [
             0.5555555555555556,
             "#d8576b"
            ],
            [
             0.6666666666666666,
             "#ed7953"
            ],
            [
             0.7777777777777778,
             "#fb9f3a"
            ],
            [
             0.8888888888888888,
             "#fdca26"
            ],
            [
             1,
             "#f0f921"
            ]
           ]
          },
          "colorway": [
           "#636efa",
           "#EF553B",
           "#00cc96",
           "#ab63fa",
           "#FFA15A",
           "#19d3f3",
           "#FF6692",
           "#B6E880",
           "#FF97FF",
           "#FECB52"
          ],
          "font": {
           "color": "#2a3f5f"
          },
          "geo": {
           "bgcolor": "white",
           "lakecolor": "white",
           "landcolor": "#E5ECF6",
           "showlakes": true,
           "showland": true,
           "subunitcolor": "white"
          },
          "hoverlabel": {
           "align": "left"
          },
          "hovermode": "closest",
          "mapbox": {
           "style": "light"
          },
          "paper_bgcolor": "white",
          "plot_bgcolor": "#E5ECF6",
          "polar": {
           "angularaxis": {
            "gridcolor": "white",
            "linecolor": "white",
            "ticks": ""
           },
           "bgcolor": "#E5ECF6",
           "radialaxis": {
            "gridcolor": "white",
            "linecolor": "white",
            "ticks": ""
           }
          },
          "scene": {
           "xaxis": {
            "backgroundcolor": "#E5ECF6",
            "gridcolor": "white",
            "gridwidth": 2,
            "linecolor": "white",
            "showbackground": true,
            "ticks": "",
            "zerolinecolor": "white"
           },
           "yaxis": {
            "backgroundcolor": "#E5ECF6",
            "gridcolor": "white",
            "gridwidth": 2,
            "linecolor": "white",
            "showbackground": true,
            "ticks": "",
            "zerolinecolor": "white"
           },
           "zaxis": {
            "backgroundcolor": "#E5ECF6",
            "gridcolor": "white",
            "gridwidth": 2,
            "linecolor": "white",
            "showbackground": true,
            "ticks": "",
            "zerolinecolor": "white"
           }
          },
          "shapedefaults": {
           "line": {
            "color": "#2a3f5f"
           }
          },
          "ternary": {
           "aaxis": {
            "gridcolor": "white",
            "linecolor": "white",
            "ticks": ""
           },
           "baxis": {
            "gridcolor": "white",
            "linecolor": "white",
            "ticks": ""
           },
           "bgcolor": "#E5ECF6",
           "caxis": {
            "gridcolor": "white",
            "linecolor": "white",
            "ticks": ""
           }
          },
          "title": {
           "x": 0.05
          },
          "xaxis": {
           "automargin": true,
           "gridcolor": "white",
           "linecolor": "white",
           "ticks": "",
           "title": {
            "standoff": 15
           },
           "zerolinecolor": "white",
           "zerolinewidth": 2
          },
          "yaxis": {
           "automargin": true,
           "gridcolor": "white",
           "linecolor": "white",
           "ticks": "",
           "title": {
            "standoff": 15
           },
           "zerolinecolor": "white",
           "zerolinewidth": 2
          }
         }
        },
        "title": {
         "text": "Regional Performance Analysis"
        },
        "xaxis": {
         "anchor": "y",
         "domain": [
          0,
          0.45
         ]
        },
        "xaxis2": {
         "anchor": "y2",
         "domain": [
          0.55,
          1
         ]
        },
        "xaxis3": {
         "anchor": "y3",
         "domain": [
          0,
          0.45
         ]
        },
        "xaxis4": {
         "anchor": "y4",
         "domain": [
          0.55,
          1
         ]
        },
        "yaxis": {
         "anchor": "x",
         "domain": [
          0.625,
          1
         ]
        },
        "yaxis2": {
         "anchor": "x2",
         "domain": [
          0.625,
          1
         ]
        },
        "yaxis3": {
         "anchor": "x3",
         "domain": [
          0,
          0.375
         ]
        },
        "yaxis4": {
         "anchor": "x4",
         "domain": [
          0,
          0.375
         ]
        }
       }
      }
     },
     "metadata": {},
     "output_type": "display_data"
    },
    {
     "name": "stdout",
     "output_type": "stream",
     "text": [
      "Regional Performance Summary:\n",
      "            Region       Sales     Profit  Order ID  Customer ID  \\\n",
      "0           Africa   783773.21   88871.63      2232          754   \n",
      "1           Canada    66928.17   17817.39       201          181   \n",
      "2        Caribbean   324280.86   34571.32       855          524   \n",
      "3          Central  2822302.52  311403.98      5249          795   \n",
      "4     Central Asia   752826.57  132480.19      1026          570   \n",
      "5             EMEA   806161.31   43897.97      2462          760   \n",
      "6             East   678781.24   91522.78      1401          674   \n",
      "7            North  1248165.60  194597.95      2356          763   \n",
      "8       North Asia   848309.78  165578.42      1150          617   \n",
      "9          Oceania  1100184.61  120089.11      1744          705   \n",
      "10           South  1600907.04  140355.77      3270          776   \n",
      "11  Southeast Asia   884423.17   17852.33      1517          672   \n",
      "12            West   725457.82  108418.45      1611          686   \n",
      "\n",
      "    Profit_Margin     AOV  \n",
      "0           11.34  351.15  \n",
      "1           26.62  332.98  \n",
      "2           10.66  379.28  \n",
      "3           11.03  537.68  \n",
      "4           17.60  733.75  \n",
      "5            5.45  327.44  \n",
      "6           13.48  484.50  \n",
      "7           15.59  529.78  \n",
      "8           19.52  737.66  \n",
      "9           10.92  630.84  \n",
      "10           8.77  489.57  \n",
      "11           2.02  583.01  \n",
      "12          14.94  450.32  \n"
     ]
    }
   ],
   "source": [
    "# Regional performance\n",
    "regional_perf = df.groupby('Region').agg({\n",
    "    'Sales': 'sum',\n",
    "    'Profit': 'sum',\n",
    "    'Order ID': 'nunique',\n",
    "    'Customer ID': 'nunique'\n",
    "}).reset_index()\n",
    "\n",
    "regional_perf['Profit_Margin'] = (regional_perf['Profit'] / regional_perf['Sales']) * 100\n",
    "regional_perf['AOV'] = regional_perf['Sales'] / regional_perf['Order ID']\n",
    "\n",
    "# Create subplots for regional analysis\n",
    "fig = make_subplots(\n",
    "    rows=2, cols=2,\n",
    "    subplot_titles=('Revenue by Region', 'Profit Margin by Region', \n",
    "                   'Number of Orders', 'Average Order Value'),\n",
    "    specs=[[{\"type\": \"bar\"}, {\"type\": \"bar\"}],\n",
    "           [{\"type\": \"bar\"}, {\"type\": \"bar\"}]]\n",
    ")\n",
    "\n",
    "# Revenue\n",
    "fig.add_trace(\n",
    "    go.Bar(x=regional_perf['Region'], y=regional_perf['Sales'], \n",
    "           name='Revenue', marker_color='lightblue'),\n",
    "    row=1, col=1\n",
    ")\n",
    "\n",
    "# Profit Margin\n",
    "fig.add_trace(\n",
    "    go.Bar(x=regional_perf['Region'], y=regional_perf['Profit_Margin'], \n",
    "           name='Profit Margin', marker_color='lightgreen'),\n",
    "    row=1, col=2\n",
    ")\n",
    "\n",
    "# Orders\n",
    "fig.add_trace(\n",
    "    go.Bar(x=regional_perf['Region'], y=regional_perf['Order ID'], \n",
    "           name='Orders', marker_color='lightcoral'),\n",
    "    row=2, col=1\n",
    ")\n",
    "\n",
    "# AOV\n",
    "fig.add_trace(\n",
    "    go.Bar(x=regional_perf['Region'], y=regional_perf['AOV'], \n",
    "           name='AOV', marker_color='lightyellow'),\n",
    "    row=2, col=2\n",
    ")\n",
    "\n",
    "fig.update_layout(height=600, title_text=\"Regional Performance Analysis\", showlegend=False)\n",
    "fig.show()\n",
    "\n",
    "fig.write_html('../visuals/regional_performance.html')\n",
    "fig.write_image('../visuals/regional_performance.png', width=1200, height=600)\n",
    "\n",
    "print(\"Regional Performance Summary:\")\n",
    "print(regional_perf.round(2))"
   ]
  },
  {
   "cell_type": "markdown",
   "metadata": {},
   "source": [
    "## 6. RFM Analysis and Customer Segmentation"
   ]
  },
  {
   "cell_type": "code",
   "execution_count": 10,
   "metadata": {},
   "outputs": [
    {
     "name": "stdout",
     "output_type": "stream",
     "text": [
      "RFM Analysis for 1,590 customers\n",
      "\n",
      "RFM Summary Statistics:\n",
      "           Recency    Frequency      Monetary\n",
      "count  1590.000000  1590.000000   1590.000000\n",
      "mean     85.432704    16.196855   7951.259063\n",
      "std     127.746455    10.619199   6936.570172\n",
      "min       1.000000     1.000000      7.173000\n",
      "25%      15.000000     6.000000   1674.812250\n",
      "50%      36.000000    14.000000   6248.135590\n",
      "75%     100.000000    26.000000  13133.098420\n",
      "max    1207.000000    41.000000  35668.120800\n"
     ]
    }
   ],
   "source": [
    "# Calculate RFM metrics\n",
    "reference_date = df['Order Date'].max() + timedelta(days=1)\n",
    "\n",
    "rfm = df.groupby('Customer ID').agg({\n",
    "    'Order Date': lambda x: (reference_date - x.max()).days,  # Recency\n",
    "    'Order ID': 'nunique',  # Frequency\n",
    "    'Sales': 'sum'  # Monetary\n",
    "}).reset_index()\n",
    "\n",
    "rfm.columns = ['Customer ID', 'Recency', 'Frequency', 'Monetary']\n",
    "\n",
    "# Add customer details\n",
    "customer_details = df[['Customer ID', 'Customer Name', 'Segment']].drop_duplicates()\n",
    "rfm = rfm.merge(customer_details, on='Customer ID')\n",
    "\n",
    "print(f\"RFM Analysis for {len(rfm):,} customers\")\n",
    "print(\"\\nRFM Summary Statistics:\")\n",
    "print(rfm[['Recency', 'Frequency', 'Monetary']].describe())"
   ]
  },
  {
   "cell_type": "code",
   "execution_count": 11,
   "metadata": {},
   "outputs": [
    {
     "name": "stdout",
     "output_type": "stream",
     "text": [
      "\n",
      "Customer Segmentation Summary:\n",
      "                     Count  Avg_Recency  Avg_Frequency  Avg_Monetary  \\\n",
      "Customer_Segment                                                       \n",
      "Lost                   367       229.46           4.93       1255.26   \n",
      "Loyal Customers        355        27.22          22.78      11366.71   \n",
      "Champions              347        11.79          28.32      15788.93   \n",
      "Potential Loyalists    203        23.16           6.01       1966.11   \n",
      "At Risk                202        97.65          19.32       9205.47   \n",
      "Cant Lose Them          66       188.61           6.33       4708.87   \n",
      "Others                  50        19.96           9.82       1969.42   \n",
      "\n",
      "                     Percentage  \n",
      "Customer_Segment                 \n",
      "Lost                       23.1  \n",
      "Loyal Customers            22.3  \n",
      "Champions                  21.8  \n",
      "Potential Loyalists        12.8  \n",
      "At Risk                    12.7  \n",
      "Cant Lose Them              4.2  \n",
      "Others                      3.1  \n"
     ]
    }
   ],
   "source": [
    "# Create RFM scores using quintiles\n",
    "rfm['R_Score'] = pd.qcut(rfm['Recency'], 5, labels=[5, 4, 3, 2, 1])  # Lower recency = higher score\n",
    "rfm['F_Score'] = pd.qcut(rfm['Frequency'].rank(method='first'), 5, labels=[1, 2, 3, 4, 5])\n",
    "rfm['M_Score'] = pd.qcut(rfm['Monetary'], 5, labels=[1, 2, 3, 4, 5])\n",
    "\n",
    "# Convert to numeric\n",
    "rfm['R_Score'] = rfm['R_Score'].astype(int)\n",
    "rfm['F_Score'] = rfm['F_Score'].astype(int)\n",
    "rfm['M_Score'] = rfm['M_Score'].astype(int)\n",
    "\n",
    "# Calculate RFM Score\n",
    "rfm['RFM_Score'] = rfm['R_Score'] + rfm['F_Score'] + rfm['M_Score']\n",
    "\n",
    "# Customer segmentation based on RFM scores\n",
    "def segment_customers(row):\n",
    "    if row['R_Score'] >= 4 and row['F_Score'] >= 4 and row['M_Score'] >= 4:\n",
    "        return 'Champions'\n",
    "    elif row['R_Score'] >= 3 and row['F_Score'] >= 3 and row['M_Score'] >= 3:\n",
    "        return 'Loyal Customers'\n",
    "    elif row['R_Score'] >= 3 and row['F_Score'] <= 2:\n",
    "        return 'Potential Loyalists'\n",
    "    elif row['R_Score'] <= 2 and row['F_Score'] >= 3:\n",
    "        return 'At Risk'\n",
    "    elif row['R_Score'] <= 2 and row['F_Score'] <= 2 and row['M_Score'] >= 3:\n",
    "        return 'Cant Lose Them'\n",
    "    elif row['R_Score'] <= 2 and row['F_Score'] <= 2 and row['M_Score'] <= 2:\n",
    "        return 'Lost'\n",
    "    else:\n",
    "        return 'Others'\n",
    "\n",
    "rfm['Customer_Segment'] = rfm.apply(segment_customers, axis=1)\n",
    "\n",
    "# Segment summary\n",
    "segment_summary = rfm.groupby('Customer_Segment').agg({\n",
    "    'Customer ID': 'count',\n",
    "    'Recency': 'mean',\n",
    "    'Frequency': 'mean',\n",
    "    'Monetary': 'mean'\n",
    "}).round(2)\n",
    "\n",
    "segment_summary.columns = ['Count', 'Avg_Recency', 'Avg_Frequency', 'Avg_Monetary']\n",
    "segment_summary['Percentage'] = (segment_summary['Count'] / len(rfm) * 100).round(1)\n",
    "\n",
    "print(\"\\nCustomer Segmentation Summary:\")\n",
    "print(segment_summary.sort_values('Count', ascending=False))"
   ]
  },
  {
   "cell_type": "code",
   "execution_count": 12,
   "metadata": {},
   "outputs": [
    {
     "data": {
      "application/vnd.plotly.v1+json": {
       "config": {
        "plotlyServerURL": "https://plot.ly"
       },
       "data": [
        {
         "customdata": [
          [
           "Alex Avila"
          ],
          [
           "Allen Armold"
          ],
          [
           "Anna Andreadi"
          ],
          [
           "Adam Bellavance"
          ],
          [
           "Adrian Barton"
          ],
          [
           "Aimee Bixby"
          ],
          [
           "Amy Cox"
          ],
          [
           "Anna Chung"
          ],
          [
           "Alan Dominguez"
          ],
          [
           "Alejandro Grove"
          ],
          [
           "Andy Gerbode"
          ],
          [
           "Anna Gayman"
          ],
          [
           "Anthony Garverick"
          ],
          [
           "Angele Hood"
          ],
          [
           "Anna Häberlin"
          ],
          [
           "Arianne Irving"
          ],
          [
           "Anthony Jacobs"
          ],
          [
           "Ashley Jarboe"
          ],
          [
           "Astrea Jones"
          ],
          [
           "Anthony Johnson"
          ],
          [
           "Anthony O'Donnell"
          ],
          [
           "Anne Pryor"
          ],
          [
           "Alex Russell"
          ],
          [
           "Andy Reiter"
          ],
          [
           "Anemone Ratner"
          ],
          [
           "Adrian Shami"
          ],
          [
           "Alan Shonely"
          ],
          [
           "Ann Steele"
          ],
          [
           "Arthur Wiediger"
          ],
          [
           "Andy Yotov"
          ],
          [
           "Barry Blumstein"
          ],
          [
           "Brenda Bowman"
          ],
          [
           "Becky Castell"
          ],
          [
           "Brendan Dodson"
          ],
          [
           "Bryan Davis"
          ],
          [
           "Bill Eplett"
          ],
          [
           "Barbara Fisher"
          ],
          [
           "Bart Folk"
          ],
          [
           "Beth Fritzler"
          ],
          [
           "Barry Gonzalez"
          ],
          [
           "Brooke Gillingham"
          ],
          [
           "Brendan Murry"
          ],
          [
           "Brian Moss"
          ],
          [
           "Bobby Odegard"
          ],
          [
           "Barry Pond"
          ],
          [
           "Barry Pond"
          ],
          [
           "Bart Pistole"
          ],
          [
           "Becky Pak"
          ],
          [
           "Benjamin Patterson"
          ],
          [
           "Bill Stewart"
          ],
          [
           "Brendan Sweed"
          ],
          [
           "Brian Stugart"
          ],
          [
           "Bryan Spruell"
          ],
          [
           "Bryan Spruell"
          ],
          [
           "Beth Thompson"
          ],
          [
           "Bill Tyler"
          ],
          [
           "Brad Thomas"
          ],
          [
           "Bradley Talbott"
          ],
          [
           "Brian Thompson"
          ],
          [
           "Benjamin Venier"
          ],
          [
           "Ben Wallace"
          ],
          [
           "Christina Anderson"
          ],
          [
           "Christine Abelman"
          ],
          [
           "Claudia Bergmann"
          ],
          [
           "Chris Cortes"
          ],
          [
           "Christopher Conant"
          ],
          [
           "Clay Cheatham"
          ],
          [
           "Chris Cortes"
          ],
          [
           "Christopher Conant"
          ],
          [
           "Christina DeMoss"
          ],
          [
           "Catherine Glotzbach"
          ],
          [
           "Claire Gute"
          ],
          [
           "Caroline Jumper"
          ],
          [
           "Clytie Kelty"
          ],
          [
           "Cyma Kinney"
          ],
          [
           "Candace McMahon"
          ],
          [
           "Carlos Meador"
          ],
          [
           "Chad McGuire"
          ],
          [
           "Chris McAfee"
          ],
          [
           "Christopher Martinez"
          ],
          [
           "Corinna Mitchell"
          ],
          [
           "Craig Molinari"
          ],
          [
           "Clay Rozendal"
          ],
          [
           "Corey Roper"
          ],
          [
           "Christine Sundaresam"
          ],
          [
           "Cindy Stewart"
          ],
          [
           "Carol Triggs"
          ],
          [
           "Christina VanderZanden"
          ],
          [
           "Cynthia Voltz"
          ],
          [
           "David Bremer"
          ],
          [
           "Dennis Bolton"
          ],
          [
           "Denny Blanton"
          ],
          [
           "Dorothy Badders"
          ],
          [
           "Doug Bickford"
          ],
          [
           "Duane Benoit"
          ],
          [
           "Dan Campbell"
          ],
          [
           "Dan Campbell"
          ],
          [
           "Dorothy Dickinson"
          ],
          [
           "David Flashing"
          ],
          [
           "Deirdre Greer"
          ],
          [
           "Duane Huffman"
          ],
          [
           "Duane Huffman"
          ],
          [
           "Dana Kaydos"
          ],
          [
           "Dean Katz"
          ],
          [
           "Damala Kotsonis"
          ],
          [
           "Dario Medina"
          ],
          [
           "Don Miller"
          ],
          [
           "Denny Ordway"
          ],
          [
           "Daniel Raglin"
          ],
          [
           "Dianna Vittorini"
          ],
          [
           "Darrin Van Huff"
          ],
          [
           "David Wiener"
          ],
          [
           "Don Weiss"
          ],
          [
           "Dorris liebe"
          ],
          [
           "Ed Braxton"
          ],
          [
           "Edward Becker"
          ],
          [
           "Emily Burns"
          ],
          [
           "Eric Barreto"
          ],
          [
           "Eugene Barchas"
          ],
          [
           "Evan Bailliet"
          ],
          [
           "Emily Grady"
          ],
          [
           "Erica Hackney"
          ],
          [
           "Eugene Hildebrand"
          ],
          [
           "Eva Jacobs"
          ],
          [
           "Eileen Kiefer"
          ],
          [
           "Ed Ludwig"
          ],
          [
           "Erin Mull"
          ],
          [
           "Eudokia Martin"
          ],
          [
           "Evan Minnotte"
          ],
          [
           "Edward Nazzal"
          ],
          [
           "Erin Smith"
          ],
          [
           "Frank Carlisle"
          ],
          [
           "Frank Gastineau"
          ],
          [
           "Fred Harton"
          ],
          [
           "Frank Merwin"
          ],
          [
           "Guy Armstrong"
          ],
          [
           "George Bell"
          ],
          [
           "Greg Guthrie"
          ],
          [
           "Gary Hwang"
          ],
          [
           "Gary Mitchum"
          ],
          [
           "Greg Maxwell"
          ],
          [
           "Guy Thornton"
          ],
          [
           "Helen Andreada"
          ],
          [
           "Harold Dahlen"
          ],
          [
           "Herbert Flentye"
          ],
          [
           "Heather Kirkland"
          ],
          [
           "Hunter Lopez"
          ],
          [
           "Harold Pawlan"
          ],
          [
           "Hallie Redmond"
          ],
          [
           "Helen Wasserman"
          ],
          [
           "Henia Zydlo"
          ],
          [
           "Ivan Gibson"
          ],
          [
           "Ionia McGrath"
          ],
          [
           "Irene Maddox"
          ],
          [
           "Joni Blumstein"
          ],
          [
           "Julia Barnett"
          ],
          [
           "Jasper Cacioppo"
          ],
          [
           "Jenna Caffey"
          ],
          [
           "Joy Daniels"
          ],
          [
           "Jeremy Ellison"
          ],
          [
           "Jim Epp"
          ],
          [
           "Joel Eaton"
          ],
          [
           "Justin Ellison"
          ],
          [
           "Jay Fein"
          ],
          [
           "Jeremy Farry"
          ],
          [
           "Jennifer Ferguson"
          ],
          [
           "Jonathan Howell"
          ],
          [
           "Justin Hirsh"
          ],
          [
           "Jennifer Jackson"
          ],
          [
           "Joe Kamberova"
          ],
          [
           "Jeremy Lonsdale"
          ],
          [
           "John Lucas"
          ],
          [
           "Janet Martin"
          ],
          [
           "Janet Molinari"
          ],
          [
           "Jessica Myrick"
          ],
          [
           "Jas O'Carroll"
          ],
          [
           "Jesus Ocampo"
          ],
          [
           "Jennifer Patt"
          ],
          [
           "Julie Prescott"
          ],
          [
           "Jim Radford"
          ],
          [
           "Jocasta Rupert"
          ],
          [
           "Justin Ritter"
          ],
          [
           "Jill Stevenson"
          ],
          [
           "Jim Sink"
          ],
          [
           "John Stevenson"
          ],
          [
           "Joni Sundaresam"
          ],
          [
           "Karen Carlisle"
          ],
          [
           "Kelly Collister"
          ],
          [
           "Karen Daniels"
          ],
          [
           "Katherine Ducich"
          ],
          [
           "Keith Dawkins"
          ],
          [
           "Karen Ferguson"
          ],
          [
           "Ken Heidel"
          ],
          [
           "Katharine Harms"
          ],
          [
           "Ken Lonsdale"
          ],
          [
           "Kalyca Meade"
          ],
          [
           "Kunst Miller"
          ],
          [
           "Kean Nguyen"
          ],
          [
           "Karen Seio"
          ],
          [
           "Kean Takahito"
          ],
          [
           "Kean Thornton"
          ],
          [
           "Kelly Williams"
          ],
          [
           "Laura Armstrong"
          ],
          [
           "Laurel Beltran"
          ],
          [
           "Lena Cacioppo"
          ],
          [
           "Linda Cazamias"
          ],
          [
           "Lela Donovan"
          ],
          [
           "Larry Hughes"
          ],
          [
           "Lisa Hazard"
          ],
          [
           "Lauren Leatherbury"
          ],
          [
           "Liz Pelletier"
          ],
          [
           "Lisa Ryan"
          ],
          [
           "Linda Southworth"
          ],
          [
           "Lindsay Shagiari"
          ],
          [
           "Lynn Smith"
          ],
          [
           "Liz Thompson"
          ],
          [
           "Laurel Workman"
          ],
          [
           "Lindsay Williams"
          ],
          [
           "Liz Willingham"
          ],
          [
           "Michelle Arnett"
          ],
          [
           "Mick Brown"
          ],
          [
           "Marc Crier"
          ],
          [
           "Matt Collins"
          ],
          [
           "Mick Crebagga"
          ],
          [
           "Michael Dominguez"
          ],
          [
           "Max Engle"
          ],
          [
           "Michelle Ellison"
          ],
          [
           "Matthew Grinstein"
          ],
          [
           "Maureen Gastineau"
          ],
          [
           "Marc Harrigan"
          ],
          [
           "Mark Haberlin"
          ],
          [
           "Matt Hagelstein"
          ],
          [
           "Michelle Huthwaite"
          ],
          [
           "Mike Kennedy"
          ],
          [
           "Maris LaWare"
          ],
          [
           "Michelle Lonsdale"
          ],
          [
           "Muhammed MacIntyre"
          ],
          [
           "Michael Nguyen"
          ],
          [
           "Mary O'Rourke"
          ],
          [
           "Michael Oakman"
          ],
          [
           "Meg O'Connel"
          ],
          [
           "Michael Paige"
          ],
          [
           "Maurice Satty"
          ],
          [
           "Maxwell Schwartz"
          ],
          [
           "Maribeth Yedwab"
          ],
          [
           "Muhammed Yedwab"
          ],
          [
           "Nona Balk"
          ],
          [
           "Nathan Cano"
          ],
          [
           "Natalie Fritzler"
          ],
          [
           "Nat Gilpin"
          ],
          [
           "Nathan Gelder"
          ],
          [
           "Nathan Mautz"
          ],
          [
           "Nathan Mautz"
          ],
          [
           "Nora Preis"
          ],
          [
           "Noel Staavos"
          ],
          [
           "Odella Nelson"
          ],
          [
           "Olvera Toch"
          ],
          [
           "Pete Armstrong"
          ],
          [
           "Patrick Bzostek"
          ],
          [
           "Philip Brown"
          ],
          [
           "Philip Brown"
          ],
          [
           "Pamela Coakley"
          ],
          [
           "Pauline Chand"
          ],
          [
           "Patrick Jones"
          ],
          [
           "Pauline Johnson"
          ],
          [
           "Paul Lucas"
          ],
          [
           "Pamela Stobb"
          ],
          [
           "Paul Stevenson"
          ],
          [
           "Pete Takahito"
          ],
          [
           "Pierre Wener"
          ],
          [
           "Ruben Ausman"
          ],
          [
           "Roger Barcio"
          ],
          [
           "Ross Baird"
          ],
          [
           "Ryan Crowe"
          ],
          [
           "Ross DeVincentis"
          ],
          [
           "Ruben Dartt"
          ],
          [
           "Russell D'Ascenzo"
          ],
          [
           "Robert Dilbeck"
          ],
          [
           "Russell D'Ascenzo"
          ],
          [
           "Ricardo Emerson"
          ],
          [
           "Richard Eichhorn"
          ],
          [
           "Richard Eichhorn"
          ],
          [
           "Ritsa Hightower"
          ],
          [
           "Rob Haberlin"
          ],
          [
           "Robert Marley"
          ],
          [
           "Roland Murray"
          ],
          [
           "Rose O'Brian"
          ],
          [
           "Ralph Ritter"
          ],
          [
           "Roland Schwarz"
          ],
          [
           "Roy Skaria"
          ],
          [
           "Rick Wilson"
          ],
          [
           "Sarah Bern"
          ],
          [
           "Sean Braxton"
          ],
          [
           "Sample Company A"
          ],
          [
           "Scott Cohen"
          ],
          [
           "Sean Christensen"
          ],
          [
           "Shahid Collister"
          ],
          [
           "Shaun Chance"
          ],
          [
           "Sonia Cooley"
          ],
          [
           "Stewart Carmichael"
          ],
          [
           "Stuart Calhoun"
          ],
          [
           "Sylvia Foulston"
          ],
          [
           "Sandra Glassco"
          ],
          [
           "Stefanie Holloman"
          ],
          [
           "Sanjit Jacobs"
          ],
          [
           "Sarah Jordon"
          ],
          [
           "Sally Knutson"
          ],
          [
           "Sara Luxemburg"
          ],
          [
           "Sean Miller"
          ],
          [
           "Susan MacKendrick"
          ],
          [
           "Steve Nguyen"
          ],
          [
           "Sean O'Donnell"
          ],
          [
           "Sibella Parks"
          ],
          [
           "Sharelle Roach"
          ],
          [
           "Shahid Shariari"
          ],
          [
           "Shirley Schmidt"
          ],
          [
           "Sung Shariari"
          ],
          [
           "Stephanie Ulpright"
          ],
          [
           "Stuart Van"
          ],
          [
           "Stuart Van"
          ],
          [
           "Sean Wendt"
          ],
          [
           "Shaun Weien"
          ],
          [
           "Tim Brockman"
          ],
          [
           "Tracy Blumstein"
          ],
          [
           "Ted Butterfield"
          ],
          [
           "Thomas Boland"
          ],
          [
           "Tracy Blumstein"
          ],
          [
           "Troy Blackwell"
          ],
          [
           "Trudy Brown"
          ],
          [
           "Tamara Chand"
          ],
          [
           "Theresa Coyne"
          ],
          [
           "Tamara Chand"
          ],
          [
           "Toby Carlisle"
          ],
          [
           "Tracy Collins"
          ],
          [
           "Tamara Dahlen"
          ],
          [
           "Trudy Glocke"
          ],
          [
           "Thea Hudgings"
          ],
          [
           "Tony Molinari"
          ],
          [
           "Tanja Norvell"
          ],
          [
           "Tom Prescott"
          ],
          [
           "Todd Sumrall"
          ],
          [
           "Thais Sissman"
          ],
          [
           "Theresa Swint"
          ],
          [
           "Todd Sumrall"
          ],
          [
           "Tom Stivers"
          ],
          [
           "Thomas Thornton"
          ],
          [
           "Tim Taslimi"
          ],
          [
           "Tamara Willingham"
          ],
          [
           "Tracy Zic"
          ],
          [
           "Victoria Brennan"
          ],
          [
           "Valerie Dominguez"
          ],
          [
           "Valerie Mitchum"
          ],
          [
           "Victor Preis"
          ],
          [
           "Xylona Preis"
          ],
          [
           "Zuschuss Donatelli"
          ]
         ],
         "hovertemplate": "Customer_Segment=Loyal Customers<br>Recency (Days)=%{x}<br>Frequency (Orders)=%{y}<br>Monetary Value ($)=%{z}<br>Customer Name=%{customdata[0]}<extra></extra>",
         "legendgroup": "Loyal Customers",
         "marker": {
          "color": "#636efa",
          "symbol": "circle"
         },
         "mode": "markers",
         "name": "Loyal Customers",
         "scene": "scene",
         "showlegend": true,
         "type": "scatter3d",
         "x": [
          9,
          7,
          29,
          43,
          28,
          36,
          6,
          3,
          30,
          41,
          13,
          48,
          29,
          22,
          31,
          14,
          49,
          29,
          49,
          37,
          37,
          42,
          30,
          7,
          3,
          42,
          13,
          36,
          36,
          15,
          15,
          29,
          34,
          8,
          36,
          36,
          36,
          26,
          7,
          29,
          10,
          35,
          34,
          6,
          12,
          6,
          3,
          33,
          40,
          29,
          36,
          30,
          10,
          12,
          29,
          29,
          31,
          34,
          19,
          45,
          41,
          35,
          14,
          43,
          21,
          44,
          28,
          22,
          7,
          42,
          22,
          29,
          34,
          44,
          38,
          41,
          37,
          9,
          43,
          38,
          28,
          42,
          23,
          44,
          7,
          28,
          29,
          40,
          5,
          6,
          48,
          29,
          37,
          28,
          13,
          38,
          35,
          42,
          10,
          31,
          22,
          21,
          46,
          2,
          22,
          41,
          36,
          37,
          28,
          30,
          34,
          7,
          13,
          6,
          49,
          33,
          16,
          20,
          36,
          20,
          23,
          45,
          23,
          28,
          45,
          27,
          17,
          9,
          42,
          15,
          29,
          43,
          35,
          2,
          37,
          3,
          34,
          34,
          22,
          17,
          48,
          35,
          21,
          43,
          15,
          44,
          31,
          31,
          14,
          35,
          36,
          2,
          16,
          41,
          10,
          29,
          35,
          16,
          49,
          36,
          43,
          33,
          21,
          14,
          5,
          38,
          42,
          28,
          34,
          49,
          31,
          45,
          36,
          38,
          15,
          15,
          13,
          37,
          44,
          13,
          8,
          19,
          6,
          41,
          12,
          6,
          45,
          42,
          37,
          42,
          47,
          38,
          9,
          20,
          48,
          1,
          29,
          38,
          36,
          44,
          28,
          23,
          2,
          40,
          28,
          42,
          43,
          13,
          42,
          36,
          41,
          46,
          28,
          21,
          35,
          35,
          23,
          24,
          42,
          43,
          45,
          45,
          28,
          42,
          37,
          29,
          43,
          20,
          37,
          38,
          9,
          24,
          21,
          23,
          34,
          8,
          13,
          9,
          37,
          7,
          15,
          28,
          30,
          35,
          30,
          44,
          20,
          40,
          2,
          49,
          28,
          31,
          34,
          29,
          37,
          48,
          34,
          24,
          9,
          6,
          42,
          3,
          22,
          40,
          20,
          16,
          30,
          28,
          7,
          2,
          44,
          17,
          33,
          23,
          15,
          33,
          43,
          28,
          29,
          29,
          24,
          16,
          8,
          7,
          5,
          17,
          36,
          20,
          37,
          20,
          43,
          3,
          42,
          41,
          1,
          30,
          31,
          10,
          28,
          41,
          31,
          49,
          4,
          31,
          33,
          29,
          9,
          30,
          22,
          38,
          45,
          30,
          17,
          9,
          34,
          1,
          15,
          5,
          9,
          35,
          13,
          8,
          2,
          19,
          36,
          40,
          31,
          29,
          31,
          48,
          13,
          28,
          28,
          1,
          1,
          31,
          44,
          41,
          23,
          49,
          19,
          42,
          9,
          37,
          20,
          38,
          2,
          42,
          36,
          13,
          37,
          33,
          31,
          44,
          2
         ],
         "y": [
          19,
          23,
          36,
          32,
          33,
          24,
          19,
          21,
          27,
          25,
          20,
          21,
          27,
          22,
          31,
          22,
          25,
          29,
          17,
          10,
          27,
          20,
          26,
          15,
          18,
          19,
          31,
          19,
          22,
          16,
          30,
          26,
          28,
          19,
          26,
          37,
          22,
          21,
          23,
          33,
          19,
          25,
          24,
          21,
          9,
          21,
          32,
          24,
          23,
          23,
          23,
          24,
          21,
          9,
          24,
          24,
          29,
          25,
          22,
          22,
          29,
          31,
          21,
          27,
          32,
          30,
          25,
          12,
          9,
          24,
          19,
          18,
          26,
          33,
          12,
          23,
          18,
          20,
          22,
          25,
          18,
          19,
          20,
          28,
          31,
          16,
          27,
          20,
          20,
          16,
          28,
          26,
          22,
          28,
          20,
          29,
          9,
          24,
          18,
          28,
          17,
          12,
          22,
          29,
          11,
          32,
          19,
          10,
          33,
          20,
          13,
          26,
          20,
          20,
          30,
          20,
          19,
          18,
          24,
          23,
          21,
          26,
          13,
          23,
          17,
          11,
          17,
          17,
          23,
          20,
          24,
          23,
          18,
          20,
          30,
          24,
          25,
          28,
          10,
          17,
          19,
          23,
          25,
          29,
          28,
          27,
          20,
          24,
          18,
          28,
          22,
          12,
          15,
          27,
          19,
          10,
          29,
          9,
          24,
          22,
          26,
          35,
          20,
          22,
          30,
          11,
          32,
          9,
          19,
          34,
          22,
          22,
          24,
          29,
          20,
          21,
          9,
          26,
          34,
          20,
          18,
          21,
          18,
          26,
          20,
          15,
          27,
          25,
          29,
          15,
          36,
          21,
          27,
          13,
          28,
          18,
          23,
          26,
          21,
          32,
          20,
          34,
          12,
          31,
          21,
          26,
          30,
          22,
          18,
          9,
          24,
          26,
          20,
          22,
          24,
          26,
          20,
          23,
          16,
          22,
          30,
          34,
          33,
          33,
          28,
          28,
          27,
          21,
          28,
          25,
          25,
          20,
          19,
          20,
          30,
          19,
          25,
          21,
          24,
          14,
          9,
          39,
          26,
          36,
          28,
          10,
          22,
          19,
          11,
          21,
          28,
          32,
          9,
          27,
          37,
          33,
          32,
          21,
          19,
          33,
          10,
          21,
          18,
          19,
          22,
          20,
          28,
          33,
          25,
          24,
          23,
          16,
          35,
          22,
          30,
          29,
          22,
          9,
          11,
          21,
          18,
          12,
          21,
          21,
          19,
          19,
          29,
          21,
          25,
          20,
          25,
          15,
          22,
          30,
          26,
          26,
          37,
          25,
          33,
          32,
          24,
          17,
          17,
          25,
          30,
          32,
          19,
          32,
          21,
          17,
          24,
          27,
          20,
          19,
          27,
          19,
          21,
          23,
          9,
          24,
          21,
          22,
          15,
          11,
          29,
          27,
          34,
          26,
          31,
          8,
          10,
          28,
          29,
          30,
          25,
          9,
          25,
          27,
          29,
          22,
          10,
          19,
          22,
          27,
          22,
          22,
          20,
          27,
          19,
          21,
          21,
          32,
          29,
          27,
          20
         ],
         "z": [
          13747.413,
          5884.195,
          15343.8907,
          18416.5504,
          22966.78,
          13057.294600000001,
          16126.3904,
          6255.61908,
          17858.5048,
          10637.40422,
          8468.963,
          13023.836000000001,
          9824.7795,
          9125.8911,
          16276.16112,
          8358.6023,
          15186.0672,
          11087.024,
          8633.59348,
          3395.58,
          14537.7966,
          15362.0613,
          14165.796199999999,
          7983.9505,
          9445.64932,
          7307.2442,
          9006.66636,
          9815.9395,
          10230.95856,
          5446.61044,
          9064.5327,
          15797.57188,
          14789.447,
          9356.77974,
          10168.32526,
          27158.0184,
          8104.7792,
          10134.5617,
          9578.59864,
          19899.1474,
          10723.32038,
          10351.33308,
          14920.99608,
          12356.58552,
          4981.542,
          5403.78676,
          8327.8696,
          13696.143460000001,
          12573.6136,
          18305.9783,
          11358.58602,
          17468.881,
          10887.2118,
          6364.854,
          10321.82,
          11347.529,
          8878.05054,
          13808.318,
          14087.7631,
          20681.678,
          11862.36908,
          18472.6689,
          7166.23086,
          18108.67284,
          7308.7328,
          28229.8514,
          7908.65034,
          4174.182,
          6957.225,
          16779.54838,
          3596.268,
          13545.47002,
          19356.0046,
          16480.86618,
          4015.95,
          14362.8004,
          9689.0124,
          14657.9493,
          11377.591,
          21882.96992,
          14188.72268,
          8392.5789,
          8700.3125,
          17271.20568,
          9240.896999999999,
          11535.2464,
          13715.79704,
          9042.26818,
          9764.1306,
          5602.59462,
          6919.81436,
          16083.95666,
          9415.2204,
          10031.4568,
          11397.064840000001,
          9307.3655,
          4131.144,
          8741.4648,
          10240.3839,
          13731.428,
          7817.3085,
          4661.844,
          18340.62916,
          9246.4686,
          3373.143,
          19862.57592,
          9640.38168,
          3515.73,
          25641.46492,
          12910.87688,
          4640.319,
          9689.3171,
          13166.414999999999,
          11912.7634,
          12382.284099999999,
          8489.991,
          6850.983700000001,
          9533.9519,
          13665.4673,
          6736.4391,
          16562.35068,
          8807.0846,
          5012.22,
          12324.8446,
          5597.3462,
          3691.392,
          12108.30958,
          10889.6997,
          17087.77766,
          6333.9164,
          16236.0058,
          10867.8088,
          9396.5055,
          10654.52882,
          14382.319220000001,
          8817.5455,
          11657.753,
          12902.96276,
          4585.83,
          10523.649,
          14564.942000000001,
          5601.70652,
          9740.3981,
          16749.140199999998,
          9712.8699,
          13886.4431,
          29664.23058,
          7321.4395,
          11126.929,
          17199.202,
          9656.4048,
          5766.243,
          5154.83976,
          17854.10112,
          12325.28696,
          3235.656,
          17836.2846,
          3183.0750000000003,
          8690.6293,
          5905.076,
          13192.6924,
          19629.12896,
          8352.71836,
          7343.566,
          9234.53286,
          8227.02,
          12532.7177,
          5651.8949999999995,
          9696.8474,
          20825.892,
          8631.695,
          8497.68,
          15594.46182,
          15036.5537,
          6942.403,
          7123.5651,
          4203.78,
          10916.36982,
          10163.5086,
          13338.0916,
          9568.31976,
          12589.959,
          9334.6385,
          14338.5195,
          10443.1001,
          3874.766,
          9321.9643,
          18897.130259999998,
          23204.2675,
          11157.0404,
          24996.5031,
          15164.8685,
          7220.70456,
          3371.208,
          22553.1085,
          7754.5516,
          14041.02,
          16294.6981,
          5103.36318,
          15725.0362,
          6240.6521,
          9256.0553,
          3589.44,
          24589.87022,
          9859.89236,
          11660.69496,
          13361.93258,
          7945.0902,
          8189.785800000001,
          3649.152,
          7631.9895,
          16118.9722,
          10420.11776,
          8646.9157,
          10758.988000000001,
          12986.77316,
          9990.855239999999,
          9111.8495,
          5369.269,
          10006.45034,
          14744.230880000001,
          11680.0495,
          14281.65306,
          11353.7466,
          15575.64874,
          7839.8866,
          10547.63192,
          12717.26968,
          16061.6441,
          13718.69666,
          7945.0458,
          11038.31378,
          11753.7025,
          10043.3188,
          14981.7043,
          8677.599,
          7134.304,
          12870.93412,
          10314.4082,
          4527.392,
          4294.2660000000005,
          17228.4977,
          8500.63026,
          17382.93504,
          14724.1472,
          4072.167,
          9647.2046,
          9255.794,
          3736.899,
          9262.72936,
          18970.41454,
          20223.2359,
          4053.7200000000003,
          14036.4335,
          14866.087,
          17763.94824,
          19493.76566,
          6723.23276,
          12075.39774,
          7907.2555600000005,
          3478.443,
          10693.49644,
          9474.0653,
          13639.502,
          9230.87916,
          14256.7186,
          15926.5494,
          18222.40482,
          8370.783,
          7186.1398,
          15435.49908,
          9288.0836,
          19056.88134,
          7897.8691,
          7091.09996,
          13485.748,
          9293.58832,
          3391.788,
          6523.392,
          12073.09218,
          10660.48524,
          5678.7029999999995,
          8944.311,
          4629.69556,
          11151.9605,
          6475.01086,
          18833.4355,
          11765.04038,
          13582.12128,
          7090.9567799999995,
          19423.6885,
          12950.934,
          18538.5328,
          16813.21902,
          9366.1924,
          17696.722,
          16122.72424,
          7677.43526,
          9685.4243,
          14495.11408,
          11321.2786,
          6777.6808,
          10774.5034,
          13546.7458,
          10562.092,
          14709.69868,
          10932.97152,
          14380.691,
          31125.29496,
          6918.4824,
          12703.94056,
          15534.94692,
          6801.1987,
          12721.24894,
          15759.48198,
          7480.62162,
          4772.1508,
          7442.46,
          7728.912,
          14575.50118,
          6923.24944,
          6038.0162,
          7270.836,
          3991.5209999999997,
          13671.71072,
          16573.5984,
          16716.76172,
          8437.989,
          13266.1971,
          3239.064,
          3799.926,
          34218.269,
          19391.8981,
          8888.0601,
          6924.1875,
          4906.533,
          13483.62368,
          13908.8563,
          9410.26404,
          10926.72382,
          4573.584,
          5395.2094,
          6805.942,
          23201.678,
          9532.9166,
          13224.56416,
          4730.638,
          13931.8966,
          10455.5278,
          9961.05,
          14754.8714,
          13708.12232,
          11629.269,
          11187.1526,
          9479.3444
         ]
        },
        {
         "customdata": [
          [
           "Andrew Allen"
          ],
          [
           "Anna Andreadi"
          ],
          [
           "Ann Blume"
          ],
          [
           "Art Foster"
          ],
          [
           "Allen Goldenen"
          ],
          [
           "Andrew Gjertsen"
          ],
          [
           "Arthur Gainer"
          ],
          [
           "Anna Gayman"
          ],
          [
           "Adrian Hane"
          ],
          [
           "Alan Haines"
          ],
          [
           "Amy Hunt"
          ],
          [
           "Alan Haines"
          ],
          [
           "Angele Hood"
          ],
          [
           "Anthony Johnson"
          ],
          [
           "Astrea Jones"
          ],
          [
           "Arthur Prichep"
          ],
          [
           "Allen Rosenblatt"
          ],
          [
           "Alex Russell"
          ],
          [
           "Andrew Roberts"
          ],
          [
           "Anemone Ratner"
          ],
          [
           "Alejandro Savely"
          ],
          [
           "Annie Zypern"
          ],
          [
           "Brian Dahlen"
          ],
          [
           "Brian DeCherney"
          ],
          [
           "Brian DeCherney"
          ],
          [
           "Brian Derr"
          ],
          [
           "Bruce Degenhardt"
          ],
          [
           "Bobby Elias"
          ],
          [
           "Brosina Hoffman"
          ],
          [
           "Bill Overfelt"
          ],
          [
           "Bobby Trafton"
          ],
          [
           "Bobby Trafton"
          ],
          [
           "Brad Thomas"
          ],
          [
           "Barry Weirich"
          ],
          [
           "Bart Watters"
          ],
          [
           "Bart Watters"
          ],
          [
           "Cynthia Arntzen"
          ],
          [
           "Chad Cunningham"
          ],
          [
           "Charles Crestani"
          ],
          [
           "Craig Carroll"
          ],
          [
           "Cynthia Delaney"
          ],
          [
           "Cathy Hwang"
          ],
          [
           "Christine Kargatis"
          ],
          [
           "Cyma Kinney"
          ],
          [
           "Carl Ludwig"
          ],
          [
           "Cari MacIntyre"
          ],
          [
           "Corinna Mitchell"
          ],
          [
           "Cathy Prescott"
          ],
          [
           "Cathy Prescott"
          ],
          [
           "Cyra Reiten"
          ],
          [
           "Corey Roper"
          ],
          [
           "Cari Schnelling"
          ],
          [
           "Charles Sheldon"
          ],
          [
           "Cari Schnelling"
          ],
          [
           "Christine Sundaresam"
          ],
          [
           "Christina VanderZanden"
          ],
          [
           "Craig Yedwab"
          ],
          [
           "Darren Budd"
          ],
          [
           "Dave Hallsten"
          ],
          [
           "Dave Hallsten"
          ],
          [
           "David Kendrick"
          ],
          [
           "Dennis Kane"
          ],
          [
           "Dan Lawera"
          ],
          [
           "Daniel Lacy"
          ],
          [
           "Denny Ordway"
          ],
          [
           "Darren Powers"
          ],
          [
           "Darrin Sayre"
          ],
          [
           "Dianna Wilson"
          ],
          [
           "Dianna Wilson"
          ],
          [
           "Dorris liebe"
          ],
          [
           "Erin Ashbrook"
          ],
          [
           "Erin Creighton"
          ],
          [
           "Emily Grady"
          ],
          [
           "Eric Hoffmann"
          ],
          [
           "Eugene Hildebrand"
          ],
          [
           "Evan Henry"
          ],
          [
           "Edward Hooks"
          ],
          [
           "Eric Hoffmann"
          ],
          [
           "Ed Jacobs"
          ],
          [
           "Ed Ludwig"
          ],
          [
           "Eleni McCrary"
          ],
          [
           "Elizabeth Moffitt"
          ],
          [
           "Erin Mull"
          ],
          [
           "Eudokia Martin"
          ],
          [
           "Elpida Rittenbach"
          ],
          [
           "Erin Smith"
          ],
          [
           "Fred Chung"
          ],
          [
           "Frank Gastineau"
          ],
          [
           "Fred Hopkins"
          ],
          [
           "Fred McMath"
          ],
          [
           "Frank Olsen"
          ],
          [
           "Fred Wasserman"
          ],
          [
           "Gene Hale"
          ],
          [
           "Gary Hansen"
          ],
          [
           "Gene McClure"
          ],
          [
           "Georgia Rosenberg"
          ],
          [
           "Grant Thornton"
          ],
          [
           "George Zrebassa"
          ],
          [
           "Helen Abelman"
          ],
          [
           "Harry Greene"
          ],
          [
           "Hilary Holden"
          ],
          [
           "Harold Ryan"
          ],
          [
           "Ivan Liston"
          ],
          [
           "Julie Creighton"
          ],
          [
           "Julia Dunbar"
          ],
          [
           "Julia Dunbar"
          ],
          [
           "Jason Fortune-"
          ],
          [
           "Jay Fein"
          ],
          [
           "Jack Garza"
          ],
          [
           "Justin Hirsh"
          ],
          [
           "Jamie Kunitz"
          ],
          [
           "Jason Klamczynski"
          ],
          [
           "Julie Kriz"
          ],
          [
           "Jack Lebron"
          ],
          [
           "John Murray"
          ],
          [
           "Justin MacKendrick"
          ],
          [
           "Jack O'Briant"
          ],
          [
           "Jesus Ocampo"
          ],
          [
           "Jennifer Patt"
          ],
          [
           "Ken Black"
          ],
          [
           "Ken Dana"
          ],
          [
           "Kristina Nunn"
          ],
          [
           "Lena Creighton"
          ],
          [
           "Linda Cazamias"
          ],
          [
           "Lisa DeCherney"
          ],
          [
           "Logan Haushalter"
          ],
          [
           "Liz MacKendrick"
          ],
          [
           "Lisa Ryan"
          ],
          [
           "Lycoris Saunders"
          ],
          [
           "Matt Abelman"
          ],
          [
           "Matt Collister"
          ],
          [
           "Matt Connell"
          ],
          [
           "Mike Caudle"
          ],
          [
           "Maureen Fritzler"
          ],
          [
           "Maureen Gastineau"
          ],
          [
           "Mark Hamilton"
          ],
          [
           "Mark Hamilton"
          ],
          [
           "Michael Kennedy"
          ],
          [
           "Muhammed Lee"
          ],
          [
           "Muhammed MacIntyre"
          ],
          [
           "Mathew Reese"
          ],
          [
           "Meg Tillman"
          ],
          [
           "Michelle Tran"
          ],
          [
           "Mary Zewe"
          ],
          [
           "Nicole Brennan"
          ],
          [
           "Nora Paige"
          ],
          [
           "Natalie Webber"
          ],
          [
           "Nick Zandusky"
          ],
          [
           "Peter Bühler"
          ],
          [
           "Patrick Bzostek"
          ],
          [
           "Peter Fuller"
          ],
          [
           "Philip Fox"
          ],
          [
           "Peter Fuller"
          ],
          [
           "Patricia Hirasaki"
          ],
          [
           "Paul Knutson"
          ],
          [
           "Paul MacIntyre"
          ],
          [
           "Philisse Overcash"
          ],
          [
           "Phillina Ober"
          ],
          [
           "Paul Prost"
          ],
          [
           "Ralph Arnett"
          ],
          [
           "Robert Barroso"
          ],
          [
           "Roger Barcio"
          ],
          [
           "Roy Collins"
          ],
          [
           "Robert Dilbeck"
          ],
          [
           "Ruben Dartt"
          ],
          [
           "Randy Ferguson"
          ],
          [
           "Ralph Kennedy"
          ],
          [
           "Rob Lucas"
          ],
          [
           "Ricardo Sperren"
          ],
          [
           "Rob Williams"
          ],
          [
           "Sue Ann Reed"
          ],
          [
           "Sarah Brown"
          ],
          [
           "Sanjit Chand"
          ],
          [
           "Sandra Flanagan"
          ],
          [
           "Sheri Gordon"
          ],
          [
           "Speros Goranitis"
          ],
          [
           "Sanjit Jacobs"
          ],
          [
           "Sarah Jordon"
          ],
          [
           "Shirley Jackson"
          ],
          [
           "Sara Luxemburg"
          ],
          [
           "Suzanne McNair"
          ],
          [
           "Sally Matthias"
          ],
          [
           "Skye Norling"
          ],
          [
           "Sung Pak"
          ],
          [
           "Seth Vernon"
          ],
          [
           "Sean Wendt"
          ],
          [
           "Toby Braunhardt"
          ],
          [
           "Tom Boeckenhauer"
          ],
          [
           "Thomas Brumley"
          ],
          [
           "Toby Braunhardt"
          ],
          [
           "Todd Boyes"
          ],
          [
           "Tony Chapman"
          ],
          [
           "Tiffany House"
          ],
          [
           "Tony Molinari"
          ],
          [
           "Tamara Manning"
          ],
          [
           "Thais Sissman"
          ],
          [
           "Trudy Schmidt"
          ],
          [
           "Tim Taslimi"
          ],
          [
           "Vivek Gonzalez"
          ],
          [
           "Vivian Mathis"
          ],
          [
           "Victoria Pisteka"
          ],
          [
           "Vivek Sundaresam"
          ]
         ],
         "hovertemplate": "Customer_Segment=At Risk<br>Recency (Days)=%{x}<br>Frequency (Orders)=%{y}<br>Monetary Value ($)=%{z}<br>Customer Name=%{customdata[0]}<extra></extra>",
         "legendgroup": "At Risk",
         "marker": {
          "color": "#EF553B",
          "symbol": "circle"
         },
         "mode": "markers",
         "name": "At Risk",
         "scene": "scene",
         "showlegend": true,
         "type": "scatter3d",
         "x": [
          126,
          52,
          51,
          54,
          115,
          79,
          58,
          174,
          61,
          50,
          71,
          279,
          76,
          63,
          295,
          77,
          55,
          142,
          105,
          71,
          100,
          71,
          98,
          50,
          118,
          325,
          101,
          85,
          94,
          112,
          52,
          94,
          98,
          51,
          185,
          55,
          94,
          52,
          83,
          55,
          77,
          90,
          62,
          58,
          93,
          114,
          51,
          70,
          143,
          61,
          140,
          78,
          61,
          51,
          56,
          86,
          61,
          218,
          76,
          160,
          58,
          118,
          58,
          58,
          65,
          62,
          94,
          66,
          56,
          112,
          94,
          54,
          52,
          58,
          103,
          68,
          129,
          112,
          50,
          54,
          79,
          56,
          53,
          132,
          70,
          146,
          108,
          111,
          167,
          146,
          52,
          64,
          52,
          298,
          107,
          50,
          57,
          77,
          70,
          142,
          55,
          52,
          117,
          58,
          66,
          141,
          57,
          97,
          69,
          51,
          62,
          78,
          98,
          198,
          69,
          58,
          58,
          72,
          189,
          94,
          76,
          99,
          210,
          72,
          50,
          76,
          85,
          107,
          100,
          65,
          52,
          50,
          52,
          52,
          75,
          55,
          93,
          150,
          101,
          72,
          98,
          50,
          128,
          79,
          453,
          59,
          173,
          86,
          58,
          121,
          85,
          92,
          84,
          58,
          99,
          56,
          161,
          87,
          55,
          255,
          151,
          150,
          119,
          94,
          93,
          65,
          86,
          121,
          77,
          78,
          64,
          75,
          76,
          59,
          91,
          76,
          295,
          57,
          176,
          167,
          105,
          148,
          72,
          55,
          88,
          101,
          157,
          112,
          50,
          58,
          55,
          205,
          231,
          56,
          65,
          220,
          85,
          95,
          111,
          112,
          76,
          139
         ],
         "y": [
          20,
          11,
          22,
          35,
          19,
          29,
          29,
          10,
          22,
          25,
          20,
          9,
          9,
          22,
          10,
          32,
          22,
          9,
          10,
          9,
          13,
          18,
          19,
          25,
          11,
          9,
          13,
          30,
          10,
          20,
          21,
          10,
          9,
          18,
          10,
          35,
          26,
          25,
          24,
          20,
          25,
          21,
          27,
          26,
          9,
          13,
          12,
          23,
          10,
          24,
          9,
          21,
          29,
          9,
          9,
          9,
          31,
          11,
          25,
          10,
          14,
          10,
          34,
          21,
          32,
          31,
          26,
          23,
          12,
          10,
          31,
          19,
          11,
          27,
          31,
          29,
          9,
          9,
          22,
          23,
          23,
          26,
          9,
          9,
          19,
          9,
          23,
          9,
          9,
          21,
          10,
          26,
          21,
          9,
          23,
          24,
          20,
          24,
          24,
          9,
          24,
          21,
          25,
          28,
          19,
          9,
          24,
          9,
          19,
          31,
          24,
          28,
          26,
          12,
          29,
          25,
          23,
          19,
          10,
          27,
          24,
          19,
          9,
          9,
          27,
          29,
          18,
          9,
          10,
          24,
          25,
          26,
          23,
          29,
          9,
          27,
          10,
          11,
          26,
          10,
          23,
          27,
          24,
          9,
          10,
          19,
          26,
          26,
          16,
          9,
          28,
          36,
          10,
          19,
          16,
          9,
          24,
          21,
          30,
          14,
          22,
          12,
          25,
          21,
          10,
          27,
          26,
          23,
          28,
          26,
          30,
          31,
          28,
          21,
          28,
          32,
          9,
          9,
          26,
          14,
          9,
          22,
          25,
          26,
          31,
          9,
          9,
          9,
          17,
          26,
          20,
          9,
          10,
          8,
          27,
          8,
          24,
          9,
          27,
          20,
          28,
          15
         ],
         "z": [
          17695.58978,
          1968.324,
          13318.6631,
          19711.16728,
          8453.0096,
          15380.31006,
          18174.17176,
          2368.131,
          9927.83588,
          12628.19178,
          8547.83068,
          2651.565,
          2232.222,
          8887.077,
          4629.156,
          15877.8603,
          8956.82078,
          2301.072,
          2638.638,
          2044.278,
          4938.4619999999995,
          9639.801,
          9202.66214,
          7849.0000199999995,
          2919.597,
          5689.263,
          5078.400000000001,
          16552.06996,
          4583.286,
          7476.2546999999995,
          8263.9755,
          2132.565,
          2803.974,
          8409.0559,
          1696.83,
          30613.6165,
          18350.464,
          11500.12324,
          12190.6666,
          12798.5442,
          13468.1145,
          11122.55656,
          9927.89832,
          6574.8044,
          560.745,
          4777.407,
          1389.834,
          14183.8819,
          5585.7,
          14470.55056,
          5079.897,
          10555.92482,
          16706.0963,
          1618.674,
          1307.16,
          1283.241,
          13928.4683,
          9166.2092,
          14128.6781,
          2063.682,
          1577.874,
          3846.78,
          11185.7181,
          11364.6808,
          15280.8855,
          13882.7624,
          11644.2965,
          16336.8556,
          7118.106000000001,
          2809.056,
          11387.06772,
          4430.2361,
          6549.951,
          7832.68602,
          17408.31362,
          12800.51382,
          1010.382,
          2518.74,
          8969.44,
          10515.862000000001,
          13549.72804,
          14128.078160000001,
          3213.246,
          2833.56,
          13396,
          1925.544,
          8770.73964,
          308.211,
          2751.348,
          6598.3976999999995,
          2158.446,
          16972.7481,
          14692.6742,
          1610.22,
          6704.18562,
          8895.05754,
          19080.34784,
          11593.7308,
          15826.81444,
          2987.898,
          13731.73782,
          9637.15436,
          11802.69376,
          11079.10488,
          7683.04096,
          3541.44,
          20382.2503,
          3475.7639999999997,
          12801.82588,
          18267.0064,
          10917.0012,
          17000.84332,
          13134.71664,
          5765.400000000001,
          20841.946500000002,
          7825.5646,
          10440.976,
          4002.8940000000002,
          3294.018,
          16385.749499999998,
          12348.44362,
          5884.778,
          1828.086,
          5080.688999999999,
          11461.65464,
          14063.4898,
          9249.383,
          2677.98,
          1164.348,
          10813.79188,
          10118.84168,
          13019.2019,
          8532.703,
          13366.53134,
          4298.478,
          9974.27472,
          4747.371,
          1244.955,
          14674.00116,
          3586.695,
          19246.7123,
          13845.5188,
          10920.3999,
          3193.161,
          4875.5984,
          12839.01426,
          15326.833059999999,
          19941.69812,
          8087.781,
          2787.672,
          27993.04966,
          16018.8427,
          1882.95,
          9435.5663,
          7282.58156,
          1448.856,
          16753.1715,
          10872.01088,
          21884.1846,
          6226.686,
          5973.5944,
          6018.072,
          7916.6733,
          12947.9651,
          4837.2210000000005,
          13391.2718,
          13480.92458,
          14866.82448,
          14047.14948,
          9425.9243,
          15622.37866,
          21034.46172,
          25602.61,
          7395.746,
          10730.2773,
          10128.53856,
          2961.189,
          1359.252,
          12930.791,
          2451.7799999999997,
          1336.308,
          6801.587500000001,
          12738.710000000001,
          12994.59246,
          22376.44748,
          1244.454,
          1574.322,
          3103.323,
          10686.47152,
          10127.01266,
          9205.113,
          1907.7540000000001,
          3901.3469999999998,
          2063.022,
          14158.9626,
          1390.68,
          9525.457199999999,
          5049.042,
          9908.6065,
          2621.817,
          16935.5635,
          10275.775
         ]
        },
        {
         "customdata": [
          [
           "Alex Avila"
          ],
          [
           "Adrian Barton"
          ],
          [
           "Alan Barnes"
          ],
          [
           "Alejandro Ballentine"
          ],
          [
           "Ann Blume"
          ],
          [
           "Alan Dominguez"
          ],
          [
           "Alejandro Grove"
          ],
          [
           "Alex Grayson"
          ],
          [
           "Andy Gerbode"
          ],
          [
           "Arthur Gainer"
          ],
          [
           "Adrian Hane"
          ],
          [
           "Adam Hart"
          ],
          [
           "Anthony O'Donnell"
          ],
          [
           "Anne Pryor"
          ],
          [
           "Anthony Rawles"
          ],
          [
           "Alan Schoenberger"
          ],
          [
           "Adam Shillingsburg"
          ],
          [
           "Arthur Wiediger"
          ],
          [
           "Becky Castell"
          ],
          [
           "Bill Donatelli"
          ],
          [
           "Bobby Elias"
          ],
          [
           "Barbara Fisher"
          ],
          [
           "Brooke Gillingham"
          ],
          [
           "Bruce Geld"
          ],
          [
           "Berenike Kampe"
          ],
          [
           "Becky Martin"
          ],
          [
           "Brad Norvell"
          ],
          [
           "Bradley Nguyen"
          ],
          [
           "Bill Overfelt"
          ],
          [
           "Bobby Odegard"
          ],
          [
           "Bart Pistole"
          ],
          [
           "Bill Shonely"
          ],
          [
           "Bill Tyler"
          ],
          [
           "Barry Weirich"
          ],
          [
           "Cassandra Brandow"
          ],
          [
           "Claudia Bergmann"
          ],
          [
           "Carol Darley"
          ],
          [
           "Christina DeMoss"
          ],
          [
           "Carl Jackson"
          ],
          [
           "Caroline Jumper"
          ],
          [
           "Christine Kargatis"
          ],
          [
           "Clay Ludtke"
          ],
          [
           "Carlos Meador"
          ],
          [
           "Chad McGuire"
          ],
          [
           "Clay Rozendal"
          ],
          [
           "Cari Sayre"
          ],
          [
           "Chris Selesnick"
          ],
          [
           "Christopher Schild"
          ],
          [
           "Dianna Arnett"
          ],
          [
           "Dave Brooks"
          ],
          [
           "Deborah Brumfield"
          ],
          [
           "Dorothy Badders"
          ],
          [
           "Deanra Eno"
          ],
          [
           "David Flashing"
          ],
          [
           "Deirdre Greer"
          ],
          [
           "Denny Joy"
          ],
          [
           "Don Jones"
          ],
          [
           "Doug Jacobs"
          ],
          [
           "Daniel Lacy"
          ],
          [
           "Delfina Latchford"
          ],
          [
           "Darrin Martin"
          ],
          [
           "Duane Noonan"
          ],
          [
           "Doug O'Connell"
          ],
          [
           "David Philippe"
          ],
          [
           "Dennis Pardue"
          ],
          [
           "Dan Reichenbach"
          ],
          [
           "Daniel Raglin"
          ],
          [
           "Darrin Sayre"
          ],
          [
           "Dianna Vittorini"
          ],
          [
           "Dorothy Wardle"
          ],
          [
           "Dean percer"
          ],
          [
           "Ellis Ballard"
          ],
          [
           "Erica Hackney"
          ],
          [
           "Eva Jacobs"
          ],
          [
           "Erica Smith"
          ],
          [
           "Fred Harton"
          ],
          [
           "Frank Merwin"
          ],
          [
           "Fred McMath"
          ],
          [
           "Frank Preis"
          ],
          [
           "Fred Wasserman"
          ],
          [
           "George Ashbrook"
          ],
          [
           "Gary McGarr"
          ],
          [
           "Grant Thornton"
          ],
          [
           "Guy Thornton"
          ],
          [
           "Giulietta Weimer"
          ],
          [
           "George Zrebassa"
          ],
          [
           "Helen Abelman"
          ],
          [
           "Harold Engle"
          ],
          [
           "Hunter Glantz"
          ],
          [
           "Harry Marie"
          ],
          [
           "Ionia McGrath"
          ],
          [
           "Joseph Airdo"
          ],
          [
           "Joni Blumstein"
          ],
          [
           "John Castell"
          ],
          [
           "Jonathan Doherty"
          ],
          [
           "Joy Daniels"
          ],
          [
           "Justin Deggeller"
          ],
          [
           "Jeremy Ellison"
          ],
          [
           "Justin Ellison"
          ],
          [
           "James Galang"
          ],
          [
           "Jason Gross"
          ],
          [
           "John Huston"
          ],
          [
           "Jonathan Howell"
          ],
          [
           "Jennifer Jackson"
          ],
          [
           "Juliana Krohn"
          ],
          [
           "Janet Lee"
          ],
          [
           "Janet Martin"
          ],
          [
           "Justin MacKendrick"
          ],
          [
           "Jack O'Briant"
          ],
          [
           "Jas O'Carroll"
          ],
          [
           "Julie Prescott"
          ],
          [
           "Jocasta Rupert"
          ],
          [
           "Justin Ritter"
          ],
          [
           "Kelly Collister"
          ],
          [
           "Kimberly Carter"
          ],
          [
           "Keith Herrera"
          ],
          [
           "Ken Lonsdale"
          ],
          [
           "Khloe Miller"
          ],
          [
           "Kelly Williams"
          ],
          [
           "Lena Cacioppo"
          ],
          [
           "Liz Carlisle"
          ],
          [
           "Logan Currie"
          ],
          [
           "Lisa DeCherney"
          ],
          [
           "Liz MacKendrick"
          ],
          [
           "Lori Olson"
          ],
          [
           "Liz Preis"
          ],
          [
           "Larry Tron"
          ],
          [
           "Maria Bertelson"
          ],
          [
           "Mick Brown"
          ],
          [
           "Mark Cousins"
          ],
          [
           "Matt Collins"
          ],
          [
           "Michael Chen"
          ],
          [
           "Maureen Fritzler"
          ],
          [
           "Mitch Gastineau"
          ],
          [
           "Max Ludwig"
          ],
          [
           "Michelle Lonsdale"
          ],
          [
           "Michael Moore"
          ],
          [
           "Michelle Moray"
          ],
          [
           "Michael Nguyen"
          ],
          [
           "Melanie Seite"
          ],
          [
           "Michael Stewart"
          ],
          [
           "Mike Vittorini"
          ],
          [
           "Mitch Webber"
          ],
          [
           "Mitch Willingham"
          ],
          [
           "Natalie DeCherney"
          ],
          [
           "Neil Französisch"
          ],
          [
           "Nathan Gelder"
          ],
          [
           "Nicole Hansen"
          ],
          [
           "Naresj Patel"
          ],
          [
           "Nora Preis"
          ],
          [
           "Nick Radford"
          ],
          [
           "Neola Schneider"
          ],
          [
           "Noel Staavos"
          ],
          [
           "Peter Bühler"
          ],
          [
           "Philip Fox"
          ],
          [
           "Phillip Flathmann"
          ],
          [
           "Patrick Gardner"
          ],
          [
           "Patrick Jones"
          ],
          [
           "Phillina Ober"
          ],
          [
           "Paul Prost"
          ],
          [
           "Pete Takahito"
          ],
          [
           "Ross Baird"
          ],
          [
           "Rick Duston"
          ],
          [
           "Rob Dowd"
          ],
          [
           "Randy Ferguson"
          ],
          [
           "Ritsa Hightower"
          ],
          [
           "Ralph Kennedy"
          ],
          [
           "Raymond Messe"
          ],
          [
           "Robert Marley"
          ],
          [
           "Roland Murray"
          ],
          [
           "Ricardo Sperren"
          ],
          [
           "Roy Skaria"
          ],
          [
           "Rick Wilson"
          ],
          [
           "Sarah Bern"
          ],
          [
           "Sample Company A"
          ],
          [
           "Sean Christensen"
          ],
          [
           "Shirley Daniels"
          ],
          [
           "Sally Knutson"
          ],
          [
           "Skye Norling"
          ],
          [
           "Sibella Parks"
          ],
          [
           "Sharelle Roach"
          ],
          [
           "Steven Roelle"
          ],
          [
           "Saphhira Shifley"
          ],
          [
           "Sonia Sunley"
          ],
          [
           "Stephanie Ulpright"
          ],
          [
           "Stewart Visinsky"
          ],
          [
           "Susan Vittorini"
          ],
          [
           "Scot Wooten"
          ],
          [
           "Steven Ward"
          ],
          [
           "Tom Ashbrook"
          ],
          [
           "Todd Boyes"
          ],
          [
           "Toby Carlisle"
          ],
          [
           "Toby Swindell"
          ],
          [
           "Ted Trevino"
          ],
          [
           "Tracy Zic"
          ],
          [
           "Victoria Brennan"
          ],
          [
           "Valerie Mitchum"
          ],
          [
           "Vivian Mathis"
          ],
          [
           "Victor Preis"
          ],
          [
           "Vivek Sundaresam"
          ],
          [
           "Valerie Takahito"
          ],
          [
           "Victoria Wilson"
          ],
          [
           "Yana Sorensen"
          ]
         ],
         "hovertemplate": "Customer_Segment=Potential Loyalists<br>Recency (Days)=%{x}<br>Frequency (Orders)=%{y}<br>Monetary Value ($)=%{z}<br>Customer Name=%{customdata[0]}<extra></extra>",
         "legendgroup": "Potential Loyalists",
         "marker": {
          "color": "#00cc96",
          "symbol": "circle"
         },
         "mode": "markers",
         "name": "Potential Loyalists",
         "scene": "scene",
         "showlegend": true,
         "type": "scatter3d",
         "x": [
          3,
          44,
          17,
          44,
          8,
          6,
          14,
          3,
          16,
          24,
          22,
          38,
          8,
          38,
          34,
          3,
          22,
          38,
          30,
          6,
          22,
          23,
          45,
          17,
          41,
          14,
          23,
          28,
          22,
          2,
          12,
          38,
          34,
          23,
          23,
          8,
          7,
          13,
          33,
          47,
          1,
          43,
          49,
          21,
          35,
          25,
          3,
          12,
          15,
          9,
          49,
          6,
          49,
          44,
          15,
          2,
          7,
          35,
          38,
          48,
          3,
          13,
          42,
          8,
          13,
          5,
          40,
          49,
          14,
          29,
          26,
          44,
          34,
          23,
          29,
          15,
          3,
          2,
          28,
          1,
          36,
          2,
          10,
          1,
          15,
          31,
          14,
          37,
          24,
          35,
          20,
          1,
          23,
          14,
          3,
          43,
          22,
          28,
          37,
          17,
          44,
          43,
          41,
          20,
          13,
          2,
          7,
          13,
          6,
          20,
          27,
          14,
          38,
          34,
          20,
          16,
          1,
          31,
          49,
          24,
          7,
          17,
          44,
          8,
          5,
          1,
          9,
          23,
          12,
          36,
          10,
          35,
          49,
          2,
          27,
          45,
          29,
          34,
          31,
          5,
          7,
          8,
          45,
          1,
          34,
          44,
          19,
          6,
          16,
          38,
          15,
          14,
          48,
          1,
          35,
          15,
          31,
          43,
          34,
          15,
          3,
          31,
          48,
          36,
          7,
          27,
          29,
          10,
          37,
          41,
          34,
          21,
          27,
          27,
          43,
          17,
          41,
          31,
          14,
          19,
          45,
          22,
          30,
          29,
          49,
          22,
          12,
          23,
          44,
          9,
          15,
          13,
          41,
          38,
          49,
          5,
          14,
          9,
          29,
          23,
          31,
          8,
          5
         ],
         "y": [
          7,
          7,
          6,
          8,
          5,
          3,
          8,
          7,
          7,
          4,
          4,
          8,
          5,
          6,
          7,
          7,
          4,
          6,
          6,
          6,
          7,
          8,
          5,
          4,
          6,
          6,
          7,
          8,
          6,
          8,
          6,
          5,
          4,
          5,
          5,
          2,
          7,
          7,
          6,
          3,
          8,
          6,
          7,
          3,
          5,
          8,
          4,
          5,
          4,
          8,
          2,
          3,
          8,
          4,
          6,
          4,
          7,
          6,
          7,
          6,
          6,
          5,
          5,
          6,
          6,
          8,
          8,
          6,
          5,
          4,
          7,
          6,
          6,
          5,
          7,
          3,
          8,
          6,
          5,
          8,
          7,
          8,
          7,
          8,
          8,
          6,
          4,
          8,
          7,
          4,
          7,
          7,
          8,
          5,
          6,
          8,
          6,
          8,
          8,
          8,
          5,
          7,
          8,
          6,
          5,
          4,
          5,
          8,
          6,
          4,
          8,
          6,
          6,
          7,
          3,
          7,
          5,
          3,
          6,
          8,
          7,
          6,
          6,
          4,
          7,
          4,
          4,
          8,
          8,
          5,
          8,
          4,
          3,
          7,
          7,
          7,
          6,
          8,
          6,
          8,
          5,
          8,
          8,
          6,
          6,
          7,
          8,
          6,
          8,
          6,
          8,
          5,
          8,
          4,
          7,
          7,
          6,
          6,
          8,
          3,
          5,
          5,
          6,
          7,
          5,
          8,
          4,
          7,
          8,
          7,
          7,
          8,
          7,
          5,
          7,
          7,
          8,
          7,
          6,
          4,
          5,
          4,
          7,
          3,
          6,
          7,
          3,
          4,
          7,
          5,
          8,
          5,
          5,
          2,
          5,
          4,
          6,
          3,
          4,
          7,
          7,
          5,
          6
         ],
         "z": [
          2243.256,
          2156.4,
          1399.776,
          4679.502,
          5408.55,
          681.288,
          2779.806,
          532.545,
          2870.676,
          1699.47,
          1478.0819999999999,
          3608.34,
          485.007,
          999.699,
          2028.9119999999998,
          469.515,
          435.204,
          782.0550000000001,
          396.042,
          1885.05,
          1859.859,
          1730.232,
          488.84999999999997,
          692.454,
          291.564,
          1857.69,
          2823.852,
          2606.8019999999997,
          616.236,
          2671.257,
          1759.668,
          957.63,
          448.848,
          9027.48,
          1840.8899999999999,
          147.12,
          1380.228,
          1205.04,
          1431.432,
          223.56,
          3125.295,
          2775.636,
          459.294,
          1907.3700000000001,
          3057.2639999999997,
          1593.3120000000001,
          1917.624,
          2293.17,
          2212.05,
          2070.258,
          886.23,
          971.1120000000001,
          2714.49,
          1301.652,
          2982.312,
          419.64,
          5976.6900000000005,
          1293.9479999999999,
          831.996,
          1746.87,
          2105.79,
          1815.954,
          1689.252,
          1517.952,
          1376.1299999999999,
          2291.463,
          2288.4,
          1636.512,
          4037.82,
          461.87399999999997,
          609.3,
          1797.738,
          672.489,
          2631.99,
          1892.778,
          110.481,
          2002.71,
          843.54,
          816.582,
          1220.811,
          1318.389,
          735.216,
          1145.01,
          3457.578,
          1830.789,
          3698.388,
          1106.604,
          1091.3220000000001,
          1476.612,
          1042.77,
          4324.95,
          1057.227,
          1012.092,
          1712.487,
          2770.4339999999997,
          2652.7799999999997,
          5329.7699999999995,
          914.178,
          4555.716,
          1588.116,
          836.994,
          2359.011,
          4013.994,
          2490.204,
          1215.516,
          1751.712,
          2424.201,
          1200.492,
          2904.714,
          1694.8500000000001,
          4432.650000000001,
          1673.163,
          1033.29,
          505.893,
          391.842,
          1544.34,
          1576.296,
          188.544,
          2577.7200000000003,
          1220.451,
          7193.652,
          2954.43,
          361.686,
          6280.47,
          2281.185,
          1011.36,
          1365.33,
          4874.589,
          1703.508,
          1489.851,
          3619.188,
          991.728,
          161.91,
          1648.944,
          1108.5,
          1690.896,
          1350.03,
          1924.911,
          2175.33,
          4322.904,
          1654.644,
          3995.04,
          2476.497,
          1070.772,
          2790.234,
          2019.006,
          3749.829,
          2121.522,
          1336.686,
          1880.622,
          1898.481,
          962.8530000000001,
          1771.437,
          1808.208,
          2007.642,
          1474.272,
          1846.56,
          801.405,
          8227.356,
          359.061,
          4686.03,
          255.288,
          1061.73,
          5168.4,
          3208.026,
          8753.469,
          519.12,
          2239.446,
          1715.094,
          929.175,
          385.44,
          1031.436,
          5698.434,
          1647.24,
          2311.8540000000003,
          3207.18,
          1157.3429999999998,
          2358.858,
          1480.104,
          418.32,
          281.20799999999997,
          2154.12,
          3491.6279999999997,
          940.38,
          3331.134,
          2969.43,
          487.746,
          1901.91,
          2346.906,
          4819.95,
          438.162,
          730.908,
          1631.316,
          1572.33,
          403.014,
          783.63,
          858.978,
          1270.4099999999999,
          432,
          1136.214,
          1271.442,
          1253.166,
          1328.832
         ]
        },
        {
         "customdata": [
          [
           "Allen Armold"
          ],
          [
           "Andrew Allen"
          ],
          [
           "Aimee Bixby"
          ],
          [
           "Amy Cox"
          ],
          [
           "Ann Chong"
          ],
          [
           "Anna Chung"
          ],
          [
           "Art Foster"
          ],
          [
           "Aleksandra Gannaway"
          ],
          [
           "Allen Goldenen"
          ],
          [
           "Anthony Garverick"
          ],
          [
           "Amy Hunt"
          ],
          [
           "Anna Häberlin"
          ],
          [
           "Arianne Irving"
          ],
          [
           "Alice McCarthy"
          ],
          [
           "Anne McFarland"
          ],
          [
           "Arthur Prichep"
          ],
          [
           "Allen Rosenblatt"
          ],
          [
           "Andy Reiter"
          ],
          [
           "Alan Shonely"
          ],
          [
           "Aaron Smayling"
          ],
          [
           "Annie Thurman"
          ],
          [
           "Anthony Witt"
          ],
          [
           "Brenda Bowman"
          ],
          [
           "Barry Blumstein"
          ],
          [
           "Bradley Drucker"
          ],
          [
           "Brendan Dodson"
          ],
          [
           "Brian Dahlen"
          ],
          [
           "Bill Eplett"
          ],
          [
           "Brad Eason"
          ],
          [
           "Barry Franz"
          ],
          [
           "Barry Französisch"
          ],
          [
           "Ben Ferrer"
          ],
          [
           "Benjamin Farhat"
          ],
          [
           "Beth Fritzler"
          ],
          [
           "Barry Gonzalez"
          ],
          [
           "Brian Moss"
          ],
          [
           "Becky Pak"
          ],
          [
           "Beth Paige"
          ],
          [
           "Bill Stewart"
          ],
          [
           "Brendan Sweed"
          ],
          [
           "Bruce Stewart"
          ],
          [
           "Bradley Talbott"
          ],
          [
           "Brian Thompson"
          ],
          [
           "Benjamin Venier"
          ],
          [
           "Ben Wallace"
          ],
          [
           "Carol Adams"
          ],
          [
           "Cathy Armstrong"
          ],
          [
           "Christine Abelman"
          ],
          [
           "Cynthia Arntzen"
          ],
          [
           "Christy Brittain"
          ],
          [
           "Chad Cunningham"
          ],
          [
           "Charles Crestani"
          ],
          [
           "Chuck Clark"
          ],
          [
           "Clay Cheatham"
          ],
          [
           "Corey Catlett"
          ],
          [
           "Craig Carreira"
          ],
          [
           "Carlos Daly"
          ],
          [
           "Cynthia Delaney"
          ],
          [
           "Catherine Glotzbach"
          ],
          [
           "Claire Gute"
          ],
          [
           "Chloris Kastensmidt"
          ],
          [
           "Clytie Kelty"
          ],
          [
           "Craig Leslie"
          ],
          [
           "Candace McMahon"
          ],
          [
           "Charles McCrossin"
          ],
          [
           "Charlotte Melton"
          ],
          [
           "Chris McAfee"
          ],
          [
           "Christopher Martinez"
          ],
          [
           "Chuck Magee"
          ],
          [
           "Craig Molinari"
          ],
          [
           "Cyra Reiten"
          ],
          [
           "Carlos Soltero"
          ],
          [
           "Chad Sievert"
          ],
          [
           "Chuck Sachs"
          ],
          [
           "Cindy Schnelling"
          ],
          [
           "Cindy Stewart"
          ],
          [
           "Carol Triggs"
          ],
          [
           "Carl Weiss"
          ],
          [
           "Craig Yedwab"
          ],
          [
           "Corey-Lock"
          ],
          [
           "Daniel Byrd"
          ],
          [
           "Darren Budd"
          ],
          [
           "David Bremer"
          ],
          [
           "Dean Braden"
          ],
          [
           "Denny Blanton"
          ],
          [
           "Doug Bickford"
          ],
          [
           "Duane Benoit"
          ],
          [
           "Debra Catini"
          ],
          [
           "Dorothy Dickinson"
          ],
          [
           "Dana Kaydos"
          ],
          [
           "Darren Koutras"
          ],
          [
           "Dave Kipp"
          ],
          [
           "Dean Katz"
          ],
          [
           "Dan Lawera"
          ],
          [
           "Denise Leinenbach"
          ],
          [
           "Dionis Lloyd"
          ],
          [
           "Don Miller"
          ],
          [
           "David Smith"
          ],
          [
           "David Wiener"
          ],
          [
           "Don Weiss"
          ],
          [
           "Erin Ashbrook"
          ],
          [
           "Ed Braxton"
          ],
          [
           "Edward Becker"
          ],
          [
           "Emily Burns"
          ],
          [
           "Evan Bailliet"
          ],
          [
           "Erin Creighton"
          ],
          [
           "Emily Ducich"
          ],
          [
           "Erica Hernandez"
          ],
          [
           "Ed Jacobs"
          ],
          [
           "Eileen Kiefer"
          ],
          [
           "Eleni McCrary"
          ],
          [
           "Elizabeth Moffitt"
          ],
          [
           "Eric Murdock"
          ],
          [
           "Eugene Moren"
          ],
          [
           "Evan Minnotte"
          ],
          [
           "Edward Nazzal"
          ],
          [
           "Emily Phan"
          ],
          [
           "Frank Atkinson"
          ],
          [
           "Frank Carlisle"
          ],
          [
           "Fred Chung"
          ],
          [
           "Frank Hawley"
          ],
          [
           "Filia McAdams"
          ],
          [
           "Guy Armstrong"
          ],
          [
           "George Bell"
          ],
          [
           "Giulietta Baptist"
          ],
          [
           "Giulietta Dortch"
          ],
          [
           "Greg Guthrie"
          ],
          [
           "Gene Hale"
          ],
          [
           "Grace Kelly"
          ],
          [
           "Gary Mitchum"
          ],
          [
           "Greg Matthias"
          ],
          [
           "Greg Maxwell"
          ],
          [
           "Greg Tran"
          ],
          [
           "Helen Andreada"
          ],
          [
           "Herbert Flentye"
          ],
          [
           "Henry Goldwyn"
          ],
          [
           "Hilary Holden"
          ],
          [
           "Heather Jas"
          ],
          [
           "Heather Kirkland"
          ],
          [
           "Hunter Lopez"
          ],
          [
           "Harold Pawlan"
          ],
          [
           "Harold Ryan"
          ],
          [
           "Helen Wasserman"
          ],
          [
           "Henia Zydlo"
          ],
          [
           "Ivan Liston"
          ],
          [
           "Irene Maddox"
          ],
          [
           "Jennifer Braxton"
          ],
          [
           "Joy Bell-"
          ],
          [
           "Jasper Cacioppo"
          ],
          [
           "John Dryer"
          ],
          [
           "Jim Epp"
          ],
          [
           "Joe Elijah"
          ],
          [
           "Joel Eaton"
          ],
          [
           "Jason Fortune-"
          ],
          [
           "Jeremy Farry"
          ],
          [
           "John Grady"
          ],
          [
           "Joseph Holt"
          ],
          [
           "Joel Jenkins"
          ],
          [
           "Jamie Kunitz"
          ],
          [
           "Jason Klamczynski"
          ],
          [
           "Jim Kriz"
          ],
          [
           "Julie Kriz"
          ],
          [
           "James Lanier"
          ],
          [
           "Jeremy Lonsdale"
          ],
          [
           "John Lucas"
          ],
          [
           "Janet Molinari"
          ],
          [
           "Jessica Myrick"
          ],
          [
           "Jill Matthias"
          ],
          [
           "John Murray"
          ],
          [
           "Jeremy Pistek"
          ],
          [
           "Jim Radford"
          ],
          [
           "Jill Stevenson"
          ],
          [
           "Jim Sink"
          ],
          [
           "John Stevenson"
          ],
          [
           "Joy Smith"
          ],
          [
           "Joni Wasserman"
          ],
          [
           "Julia West"
          ],
          [
           "Kelly Andreada"
          ],
          [
           "Karen Bern"
          ],
          [
           "Katrina Bavinger"
          ],
          [
           "Ken Black"
          ],
          [
           "Karen Carlisle"
          ],
          [
           "Karen Daniels"
          ],
          [
           "Katherine Ducich"
          ],
          [
           "Keith Dawkins"
          ],
          [
           "Ken Dana"
          ],
          [
           "Katrina Edelman"
          ],
          [
           "Katherine Hughes"
          ],
          [
           "Ken Heidel"
          ],
          [
           "Kristen Hastings"
          ],
          [
           "Kelly Lampkin"
          ],
          [
           "Kalyca Meade"
          ],
          [
           "Katherine Murray"
          ],
          [
           "Kunst Miller"
          ],
          [
           "Katherine Nockton"
          ],
          [
           "Kean Nguyen"
          ],
          [
           "Karen Seio"
          ],
          [
           "Kean Takahito"
          ],
          [
           "Kean Thornton"
          ],
          [
           "Katrina Willman"
          ],
          [
           "Larry Blacks"
          ],
          [
           "Laurel Beltran"
          ],
          [
           "Lindsay Castell"
          ],
          [
           "Lela Donovan"
          ],
          [
           "Laurel Elliston"
          ],
          [
           "Luke Foster"
          ],
          [
           "Larry Hughes"
          ],
          [
           "Lena Hernandez"
          ],
          [
           "Lisa Hazard"
          ],
          [
           "Liz Pelletier"
          ],
          [
           "Lena Radford"
          ],
          [
           "Lindsay Shagiari"
          ],
          [
           "Luke Schmidt"
          ],
          [
           "Lynn Smith"
          ],
          [
           "Luke Weiss"
          ],
          [
           "Matt Abelman"
          ],
          [
           "Matt Collister"
          ],
          [
           "Matt Connell"
          ],
          [
           "Matthew Clasen"
          ],
          [
           "Mick Crebagga"
          ],
          [
           "Mike Caudle"
          ],
          [
           "Maribeth Dona"
          ],
          [
           "Michelle Ellison"
          ],
          [
           "Monica Federle"
          ],
          [
           "Matthew Grinstein"
          ],
          [
           "Maureen Gnade"
          ],
          [
           "Michael Grace"
          ],
          [
           "Michael Granlund"
          ],
          [
           "Marc Harrigan"
          ],
          [
           "Matt Hagelstein"
          ],
          [
           "Mick Hernandez"
          ],
          [
           "Max Jones"
          ],
          [
           "Marina Lichtenstein"
          ],
          [
           "Maris LaWare"
          ],
          [
           "Mary O'Rourke"
          ],
          [
           "Michael Oakman"
          ],
          [
           "Mark Packer"
          ],
          [
           "Michael Paige"
          ],
          [
           "Mike Pelletier"
          ],
          [
           "Mathew Reese"
          ],
          [
           "Maribeth Schnelling"
          ],
          [
           "MaryBeth Skach"
          ],
          [
           "Maurice Satty"
          ],
          [
           "Maxwell Schwartz"
          ],
          [
           "Meg Tillman"
          ],
          [
           "Mark Van Huff"
          ],
          [
           "Maribeth Yedwab"
          ],
          [
           "Nicole Brennan"
          ],
          [
           "Nona Balk"
          ],
          [
           "Nathan Cano"
          ],
          [
           "Nick Crebassa"
          ],
          [
           "Noah Childs"
          ],
          [
           "Nicole Fjeld"
          ],
          [
           "Nat Gilpin"
          ],
          [
           "Neil Knudson"
          ],
          [
           "Nancy Lomonaco"
          ],
          [
           "Neoma Murray"
          ],
          [
           "Nora Paige"
          ],
          [
           "Nick Zandusky"
          ],
          [
           "Odella Nelson"
          ],
          [
           "Olvera Toch"
          ],
          [
           "Pamela Coakley"
          ],
          [
           "Pauline Chand"
          ],
          [
           "Paul Gonzalez"
          ],
          [
           "Patricia Hirasaki"
          ],
          [
           "Paul Knutson"
          ],
          [
           "Pete Kriz"
          ],
          [
           "Paul Lucas"
          ],
          [
           "Peter McVee"
          ],
          [
           "Parhena Norris"
          ],
          [
           "Patrick O'Brill"
          ],
          [
           "Patrick O'Donnell"
          ],
          [
           "Patrick Ryan"
          ],
          [
           "Pamela Stobb"
          ],
          [
           "Paul Stevenson"
          ],
          [
           "Penelope Sewall"
          ],
          [
           "Pauline Webber"
          ],
          [
           "Pierre Wener"
          ],
          [
           "Quincy Jones"
          ],
          [
           "Ruben Ausman"
          ],
          [
           "Russell Applegate"
          ],
          [
           "Raymond Buch"
          ],
          [
           "Richard Bierner"
          ],
          [
           "Rob Beeghly"
          ],
          [
           "Robert Barroso"
          ],
          [
           "Roy Collins"
          ],
          [
           "Ryan Crowe"
          ],
          [
           "Ricardo Emerson"
          ],
          [
           "Roland Fjeld"
          ],
          [
           "Roy Französisch"
          ],
          [
           "Rick Hansen"
          ],
          [
           "Rick Huthwaite"
          ],
          [
           "Rob Lucas"
          ],
          [
           "Rachel Payne"
          ],
          [
           "Ralph Ritter"
          ],
          [
           "Rick Reed"
          ],
          [
           "Roland Schwarz"
          ],
          [
           "Rob Williams"
          ],
          [
           "Robert Waldorf"
          ],
          [
           "Sarah Brown"
          ],
          [
           "Sean Braxton"
          ],
          [
           "Sam Craven"
          ],
          [
           "Sanjit Chand"
          ],
          [
           "Scot Coram"
          ],
          [
           "Scott Cohen"
          ],
          [
           "Shahid Collister"
          ],
          [
           "Shaun Chance"
          ],
          [
           "Sonia Cooley"
          ],
          [
           "Steve Chapman"
          ],
          [
           "Steven Cartwright"
          ],
          [
           "Stewart Carmichael"
          ],
          [
           "Stuart Calhoun"
          ],
          [
           "Sung Chung"
          ],
          [
           "Sanjit Engle"
          ],
          [
           "Sarah Foster"
          ],
          [
           "Sylvia Foulston"
          ],
          [
           "Sandra Glassco"
          ],
          [
           "Sheri Gordon"
          ],
          [
           "Speros Goranitis"
          ],
          [
           "Susan Gilcrest"
          ],
          [
           "Shahid Hopkins"
          ],
          [
           "Stefanie Holloman"
          ],
          [
           "Shirley Jackson"
          ],
          [
           "Susan MacKendrick"
          ],
          [
           "Steve Nguyen"
          ],
          [
           "Sean O'Donnell"
          ],
          [
           "Stefania Perrino"
          ],
          [
           "Stephanie Phelps"
          ],
          [
           "Sung Pak"
          ],
          [
           "Susan Pistek"
          ],
          [
           "Shirley Schmidt"
          ],
          [
           "Sung Shariari"
          ],
          [
           "Shui Tom"
          ],
          [
           "Seth Vernon"
          ],
          [
           "Scott Williamson"
          ],
          [
           "Sam Zeldin"
          ],
          [
           "Ted Butterfield"
          ],
          [
           "Thomas Boland"
          ],
          [
           "Thomas Brumley"
          ],
          [
           "Troy Blackwell"
          ],
          [
           "Trudy Brown"
          ],
          [
           "Tracy Collins"
          ],
          [
           "Tamara Dahlen"
          ],
          [
           "Toby Gnade"
          ],
          [
           "Thea Hendricks"
          ],
          [
           "Thea Hudgings"
          ],
          [
           "Tracy Hopkins"
          ],
          [
           "Tamara Manning"
          ],
          [
           "Tanja Norvell"
          ],
          [
           "Theone Pippenger"
          ],
          [
           "Tom Prescott"
          ],
          [
           "Tracy Poddar"
          ],
          [
           "Toby Ritter"
          ],
          [
           "Theresa Swint"
          ],
          [
           "Thomas Seio"
          ],
          [
           "Tony Sayre"
          ],
          [
           "Troy Staebel"
          ],
          [
           "Trudy Schmidt"
          ],
          [
           "Tom Zandusky"
          ],
          [
           "Vicky Freymann"
          ],
          [
           "Vivek Gonzalez"
          ],
          [
           "Vivek Grady"
          ],
          [
           "Victoria Pisteka"
          ],
          [
           "William Brown"
          ],
          [
           "Xylona Preis"
          ],
          [
           "Yoseph Carroll"
          ],
          [
           "Zuschuss Carroll"
          ]
         ],
         "hovertemplate": "Customer_Segment=Lost<br>Recency (Days)=%{x}<br>Frequency (Orders)=%{y}<br>Monetary Value ($)=%{z}<br>Customer Name=%{customdata[0]}<extra></extra>",
         "legendgroup": "Lost",
         "marker": {
          "color": "#ab63fa",
          "symbol": "circle"
         },
         "mode": "markers",
         "name": "Lost",
         "scene": "scene",
         "showlegend": true,
         "type": "scatter3d",
         "x": [
          254,
          315,
          399,
          182,
          93,
          120,
          168,
          99,
          113,
          115,
          242,
          59,
          204,
          176,
          137,
          93,
          223,
          222,
          499,
          234,
          70,
          57,
          50,
          51,
          399,
          91,
          276,
          573,
          147,
          735,
          97,
          194,
          118,
          129,
          601,
          482,
          262,
          370,
          132,
          238,
          296,
          353,
          58,
          129,
          134,
          128,
          259,
          337,
          310,
          517,
          61,
          505,
          472,
          272,
          345,
          147,
          315,
          132,
          379,
          120,
          80,
          216,
          142,
          62,
          50,
          153,
          52,
          575,
          349,
          118,
          56,
          136,
          306,
          203,
          170,
          51,
          784,
          385,
          493,
          363,
          55,
          58,
          359,
          583,
          558,
          108,
          238,
          393,
          64,
          147,
          1207,
          69,
          66,
          203,
          706,
          283,
          322,
          72,
          1064,
          55,
          166,
          399,
          185,
          498,
          55,
          163,
          57,
          197,
          157,
          213,
          59,
          483,
          195,
          94,
          152,
          206,
          76,
          185,
          492,
          111,
          135,
          97,
          71,
          114,
          210,
          353,
          104,
          86,
          101,
          209,
          73,
          223,
          56,
          91,
          391,
          100,
          197,
          311,
          57,
          189,
          64,
          149,
          57,
          209,
          164,
          51,
          83,
          175,
          143,
          300,
          176,
          87,
          195,
          64,
          100,
          134,
          53,
          269,
          592,
          461,
          174,
          141,
          125,
          342,
          698,
          121,
          244,
          50,
          71,
          113,
          129,
          680,
          143,
          209,
          219,
          107,
          267,
          94,
          202,
          388,
          372,
          58,
          812,
          58,
          399,
          187,
          252,
          101,
          327,
          239,
          176,
          372,
          322,
          350,
          274,
          94,
          107,
          106,
          85,
          148,
          138,
          57,
          192,
          81,
          64,
          178,
          126,
          307,
          59,
          185,
          685,
          179,
          384,
          218,
          133,
          233,
          337,
          196,
          665,
          105,
          288,
          83,
          393,
          63,
          496,
          336,
          404,
          374,
          738,
          246,
          59,
          160,
          133,
          170,
          282,
          99,
          544,
          197,
          91,
          101,
          112,
          52,
          64,
          99,
          177,
          471,
          323,
          429,
          111,
          107,
          139,
          462,
          513,
          104,
          207,
          576,
          159,
          227,
          100,
          460,
          243,
          58,
          573,
          300,
          115,
          122,
          495,
          50,
          302,
          54,
          128,
          353,
          197,
          348,
          125,
          62,
          58,
          62,
          62,
          126,
          140,
          94,
          217,
          447,
          240,
          742,
          113,
          72,
          119,
          139,
          97,
          701,
          266,
          287,
          233,
          90,
          124,
          400,
          99,
          79,
          192,
          265,
          226,
          195,
          142,
          276,
          93,
          374,
          175,
          92,
          185,
          360,
          54,
          79,
          142,
          181,
          370,
          129,
          234,
          401,
          64,
          159,
          275,
          133,
          253,
          401,
          140,
          170,
          399,
          108,
          675,
          251,
          96,
          184,
          50,
          957,
          325,
          217,
          115,
          163,
          399,
          371,
          181,
          161,
          254,
          120,
          390,
          243,
          55,
          140,
          642,
          104,
          169,
          106,
          308,
          288,
          176,
          203,
          369,
          95,
          148,
          136,
          237,
          115,
          161,
          100,
          201
         ],
         "y": [
          8,
          5,
          4,
          7,
          7,
          4,
          2,
          6,
          4,
          8,
          4,
          5,
          4,
          6,
          6,
          5,
          6,
          8,
          5,
          3,
          5,
          7,
          5,
          7,
          3,
          5,
          5,
          5,
          2,
          2,
          7,
          6,
          5,
          7,
          1,
          8,
          6,
          4,
          5,
          5,
          5,
          7,
          4,
          3,
          4,
          8,
          3,
          5,
          4,
          4,
          5,
          6,
          2,
          5,
          3,
          6,
          4,
          7,
          5,
          7,
          5,
          3,
          4,
          5,
          5,
          4,
          5,
          4,
          4,
          7,
          8,
          5,
          4,
          8,
          3,
          7,
          2,
          4,
          4,
          5,
          8,
          4,
          4,
          7,
          2,
          4,
          3,
          4,
          8,
          6,
          1,
          3,
          8,
          7,
          3,
          5,
          6,
          2,
          4,
          4,
          3,
          3,
          6,
          5,
          6,
          7,
          8,
          7,
          8,
          6,
          6,
          6,
          8,
          6,
          4,
          8,
          3,
          6,
          6,
          4,
          5,
          6,
          4,
          5,
          6,
          4,
          5,
          4,
          4,
          4,
          6,
          7,
          4,
          6,
          8,
          5,
          3,
          6,
          6,
          4,
          5,
          3,
          7,
          6,
          7,
          7,
          7,
          7,
          6,
          5,
          6,
          7,
          7,
          8,
          7,
          3,
          7,
          6,
          5,
          3,
          4,
          6,
          5,
          3,
          4,
          4,
          5,
          5,
          6,
          4,
          6,
          6,
          5,
          6,
          4,
          2,
          4,
          7,
          7,
          3,
          2,
          8,
          1,
          6,
          4,
          3,
          4,
          7,
          5,
          7,
          7,
          3,
          5,
          3,
          3,
          8,
          4,
          7,
          7,
          4,
          7,
          8,
          8,
          8,
          6,
          5,
          5,
          3,
          3,
          7,
          3,
          5,
          4,
          6,
          5,
          4,
          3,
          2,
          4,
          3,
          5,
          6,
          1,
          6,
          1,
          7,
          1,
          1,
          3,
          7,
          7,
          4,
          7,
          3,
          5,
          3,
          2,
          8,
          6,
          6,
          5,
          8,
          8,
          6,
          6,
          5,
          4,
          7,
          5,
          5,
          7,
          2,
          5,
          7,
          4,
          2,
          1,
          6,
          4,
          5,
          4,
          5,
          4,
          6,
          8,
          4,
          3,
          3,
          6,
          5,
          4,
          6,
          5,
          5,
          4,
          7,
          7,
          7,
          5,
          8,
          2,
          4,
          6,
          5,
          3,
          1,
          5,
          6,
          3,
          6,
          3,
          7,
          8,
          6,
          4,
          7,
          6,
          2,
          8,
          7,
          5,
          4,
          7,
          3,
          7,
          4,
          4,
          2,
          4,
          7,
          7,
          2,
          4,
          3,
          8,
          6,
          6,
          3,
          6,
          6,
          4,
          4,
          3,
          5,
          4,
          4,
          5,
          6,
          2,
          4,
          3,
          4,
          6,
          5,
          5,
          4,
          3,
          4,
          4,
          4,
          5,
          4,
          3,
          3,
          4,
          6,
          5,
          3,
          2,
          6,
          4,
          5,
          4,
          5,
          3,
          4,
          5,
          6,
          7,
          4,
          4,
          4,
          3,
          2,
          3,
          4,
          1
         ],
         "z": [
          654.492,
          2063.493,
          3143.88,
          1026.597,
          2298.432,
          2676.09,
          354.99,
          1703.31,
          473.112,
          1859.5320000000002,
          650.826,
          1817.898,
          919.974,
          2035.827,
          1303.77,
          2668.08,
          571.11,
          561.6,
          1686.51,
          1616.334,
          403.65000000000003,
          1947,
          207.228,
          822.288,
          52.047,
          1564.02,
          689.64,
          1321.1490000000001,
          1340.31,
          732.033,
          3006.996,
          904.9200000000001,
          398.91900000000004,
          1009.9739999999999,
          124.416,
          2537.1059999999998,
          1110.78,
          383.34000000000003,
          469.458,
          819.4499999999999,
          1679.76,
          1535.781,
          807.36,
          684.264,
          3105.816,
          2883.141,
          1601.73,
          636.0600000000001,
          1485.897,
          1232.568,
          1020.048,
          1158.18,
          1041.57,
          1433.3999999999999,
          782.3879999999999,
          1527.5819999999999,
          1821.219,
          1030.788,
          518.94,
          1116.204,
          950.697,
          662.28,
          1432.374,
          431.874,
          2245.92,
          1451.49,
          243.03,
          580.614,
          1741.578,
          2838.264,
          1188.012,
          714.072,
          1367.268,
          2671.227,
          1664.13,
          1894.5,
          422.778,
          1436.31,
          293.034,
          767.637,
          3051.18,
          513.03,
          671.232,
          387.021,
          548.682,
          2824.152,
          2207.712,
          800.004,
          2331.4139999999998,
          1292.13,
          81.432,
          273.76800000000003,
          1407.984,
          1502.964,
          1159.3500000000001,
          773.604,
          2191.266,
          185.136,
          1241.2259999999999,
          1216.587,
          131.808,
          3141.63,
          939.153,
          184.872,
          1267.6200000000001,
          2301.315,
          525.474,
          2629.674,
          1727.964,
          1531.083,
          1032.879,
          378.258,
          2855.874,
          1900.791,
          2585.898,
          734.856,
          487.95000000000005,
          814.572,
          1540.6380000000001,
          550.95,
          113.064,
          2935.614,
          1460.796,
          525.9,
          1821.912,
          700.692,
          1000.422,
          794.622,
          764.601,
          488.43,
          1590.402,
          791.502,
          1079.0639999999999,
          670.674,
          2099.973,
          354.588,
          1497.57,
          1121.22,
          1656.966,
          579.336,
          1196.682,
          391.93800000000005,
          1174.824,
          2830.4159999999997,
          1052.808,
          2064.066,
          2172.0299999999997,
          1881.006,
          606.105,
          1323.072,
          756.855,
          180.29999999999998,
          2275.5,
          2433.942,
          1487.385,
          208.38,
          2073.48,
          1890.126,
          1617.6,
          203.38799999999998,
          428.43,
          2513.07,
          1353.09,
          2729.3399999999997,
          2003.598,
          1131.912,
          847.827,
          880.3230000000001,
          1544.268,
          2227.524,
          2585.034,
          806.691,
          1944.06,
          1745.997,
          1573.038,
          307.8,
          747.21,
          1429.884,
          1945.32,
          238.548,
          216.78000000000003,
          1094.358,
          813.06,
          536.46,
          1454.76,
          205.98,
          622.452,
          2221.365,
          1795.866,
          1696.014,
          2184.06,
          891.3629999999999,
          2124.699,
          2928.654,
          318.72,
          1767.282,
          221.61,
          1532.124,
          2119.74,
          427.28999999999996,
          1897.95,
          1796.115,
          2487.402,
          2822.706,
          1049.52,
          556.518,
          745.65,
          840.792,
          973.212,
          1831.338,
          468.654,
          716.184,
          340.656,
          953.151,
          1522.014,
          1628.166,
          1554.06,
          208.41,
          695.286,
          659.34,
          826.35,
          1374.198,
          160.5,
          1517.5500000000002,
          301.71,
          2104.596,
          80.19,
          19.128,
          1685.34,
          1179.666,
          1260.702,
          1136.898,
          1049.4,
          193.134,
          810.8699999999999,
          933.192,
          58.11,
          567.093,
          2169.174,
          2325.24,
          1365.54,
          1456.806,
          1529.46,
          538.56,
          1500.588,
          952.536,
          1745.5739999999998,
          1059.477,
          434.616,
          1503.426,
          1250.871,
          442.32,
          1731.936,
          2746.47,
          2395.35,
          251.322,
          1540.53,
          2871.87,
          328.584,
          1507.758,
          265.05,
          1246.56,
          1160.43,
          1981.302,
          1746.8400000000001,
          948.456,
          992.784,
          759.21,
          1429.296,
          1522.1100000000001,
          1432.9859999999999,
          2973.15,
          1085.6399999999999,
          1706.202,
          1395.948,
          829.356,
          1081.002,
          1237.53,
          387.051,
          503.26800000000003,
          420.65999999999997,
          404.508,
          3179.154,
          586.761,
          282.594,
          37.44,
          1639.965,
          1967.403,
          950.13,
          571.722,
          3057.21,
          1837.788,
          2420.226,
          1274.352,
          1820.85,
          1376.91,
          1524.1499999999999,
          560.01,
          1398.996,
          1268.436,
          1975.404,
          476.334,
          918.522,
          1793.907,
          3166.518,
          1556.16,
          1929.081,
          328.02,
          1468.8990000000001,
          2944.494,
          2033.208,
          89.286,
          1368.1200000000001,
          613.71,
          2633.3160000000003,
          2476.302,
          1078.728,
          3086.67,
          2816.067,
          1424.778,
          129.03,
          658.98,
          454.06800000000004,
          1711.992,
          702.24,
          831.498,
          299.568,
          770.895,
          503.496,
          896.391,
          424.53,
          556.314,
          943.26,
          1256.472,
          1480.578,
          1164.15,
          2355.138,
          850.326,
          1115.3700000000001,
          752.0699999999999,
          1810.752,
          2214.9719999999998,
          780.378,
          714.417,
          1856.19,
          1870.17,
          283.83,
          300.666,
          187.35,
          1261.449,
          1950.9479999999999,
          857.37,
          2395.716,
          1130.07,
          641.646,
          2123.946,
          2011.14,
          452.88,
          745.14,
          602.352,
          386.172,
          1190.22,
          1615.662,
          182.532,
          1011.798,
          166.299,
          7.173
         ]
        },
        {
         "customdata": [
          [
           "Aaron Bergman"
          ],
          [
           "Alan Barnes"
          ],
          [
           "Alejandro Ballentine"
          ],
          [
           "Alyssa Crouse"
          ],
          [
           "Ann Chong"
          ],
          [
           "Art Ferguson"
          ],
          [
           "Aleksandra Gannaway"
          ],
          [
           "Alex Grayson"
          ],
          [
           "Aaron Hawkins"
          ],
          [
           "Adam Hart"
          ],
          [
           "Alan Hwang"
          ],
          [
           "Alice McCarthy"
          ],
          [
           "Anne McFarland"
          ],
          [
           "Andrew Roberts"
          ],
          [
           "Anthony Rawles"
          ],
          [
           "Aaron Smayling"
          ],
          [
           "Adam Shillingsburg"
          ],
          [
           "Alan Schoenberger"
          ],
          [
           "Alejandro Savely"
          ],
          [
           "Alyssa Tate"
          ],
          [
           "Annie Thurman"
          ],
          [
           "Anthony Witt"
          ],
          [
           "Bill Donatelli"
          ],
          [
           "Bradley Drucker"
          ],
          [
           "Brian Derr"
          ],
          [
           "Bruce Degenhardt"
          ],
          [
           "Brad Eason"
          ],
          [
           "Barry Franz"
          ],
          [
           "Barry Französisch"
          ],
          [
           "Ben Ferrer"
          ],
          [
           "Benjamin Farhat"
          ],
          [
           "Bruce Geld"
          ],
          [
           "Brosina Hoffman"
          ],
          [
           "Berenike Kampe"
          ],
          [
           "Becky Martin"
          ],
          [
           "Bryan Mills"
          ],
          [
           "Brad Norvell"
          ],
          [
           "Bradley Nguyen"
          ],
          [
           "Ben Peterman"
          ],
          [
           "Beth Paige"
          ],
          [
           "Bill Shonely"
          ],
          [
           "Bruce Stewart"
          ],
          [
           "Carol Adams"
          ],
          [
           "Cathy Armstrong"
          ],
          [
           "Cassandra Brandow"
          ],
          [
           "Christy Brittain"
          ],
          [
           "Chuck Clark"
          ],
          [
           "Cindy Chapman"
          ],
          [
           "Corey Catlett"
          ],
          [
           "Craig Carreira"
          ],
          [
           "Carlos Daly"
          ],
          [
           "Carol Darley"
          ],
          [
           "Carl Jackson"
          ],
          [
           "Chloris Kastensmidt"
          ],
          [
           "Carl Ludwig"
          ],
          [
           "Clay Ludtke"
          ],
          [
           "Craig Leslie"
          ],
          [
           "Cari MacIntyre"
          ],
          [
           "Charles McCrossin"
          ],
          [
           "Charlotte Melton"
          ],
          [
           "Chuck Magee"
          ],
          [
           "Christine Phan"
          ],
          [
           "Craig Reiter"
          ],
          [
           "Cari Sayre"
          ],
          [
           "Carlos Soltero"
          ],
          [
           "Chad Sievert"
          ],
          [
           "Chris Selesnick"
          ],
          [
           "Christopher Schild"
          ],
          [
           "Chuck Sachs"
          ],
          [
           "Cindy Schnelling"
          ],
          [
           "Carl Weiss"
          ],
          [
           "Corey-Lock"
          ],
          [
           "Dianna Arnett"
          ],
          [
           "Daniel Byrd"
          ],
          [
           "Dave Brooks"
          ],
          [
           "Dean Braden"
          ],
          [
           "Deborah Brumfield"
          ],
          [
           "Debra Catini"
          ],
          [
           "Deanra Eno"
          ],
          [
           "Denny Joy"
          ],
          [
           "Don Jones"
          ],
          [
           "Doug Jacobs"
          ],
          [
           "Damala Kotsonis"
          ],
          [
           "Darren Koutras"
          ],
          [
           "Dave Kipp"
          ],
          [
           "David Kendrick"
          ],
          [
           "Dennis Kane"
          ],
          [
           "Delfina Latchford"
          ],
          [
           "Denise Leinenbach"
          ],
          [
           "Dionis Lloyd"
          ],
          [
           "Darrin Martin"
          ],
          [
           "Denise Monton"
          ],
          [
           "Duane Noonan"
          ],
          [
           "Doug O'Connell"
          ],
          [
           "Dave Poirier"
          ],
          [
           "David Philippe"
          ],
          [
           "Dennis Pardue"
          ],
          [
           "Dan Reichenbach"
          ],
          [
           "David Smith"
          ],
          [
           "Darrin Van Huff"
          ],
          [
           "Dorothy Wardle"
          ],
          [
           "Dean percer"
          ],
          [
           "Ellis Ballard"
          ],
          [
           "Erica Bern"
          ],
          [
           "Emily Ducich"
          ],
          [
           "Edward Hooks"
          ],
          [
           "Erica Hernandez"
          ],
          [
           "Eric Murdock"
          ],
          [
           "Eugene Moren"
          ],
          [
           "Emily Phan"
          ],
          [
           "Erica Smith"
          ],
          [
           "Frank Atkinson"
          ],
          [
           "Frank Hawley"
          ],
          [
           "Fred Hopkins"
          ],
          [
           "Filia McAdams"
          ],
          [
           "Frank Olsen"
          ],
          [
           "Frank Preis"
          ],
          [
           "George Ashbrook"
          ],
          [
           "Giulietta Baptist"
          ],
          [
           "Giulietta Dortch"
          ],
          [
           "Gary Hansen"
          ],
          [
           "Gary Hwang"
          ],
          [
           "Greg Hansen"
          ],
          [
           "Grace Kelly"
          ],
          [
           "Gary McGarr"
          ],
          [
           "Greg Matthias"
          ],
          [
           "Guy Phonely"
          ],
          [
           "Greg Tran"
          ],
          [
           "Giulietta Weimer"
          ],
          [
           "Gary Zandusky"
          ],
          [
           "Harold Engle"
          ],
          [
           "Harry Greene"
          ],
          [
           "Henry Goldwyn"
          ],
          [
           "Hunter Glantz"
          ],
          [
           "Heather Jas"
          ],
          [
           "Harry Marie"
          ],
          [
           "Henry MacAllister"
          ],
          [
           "Ivan Gibson"
          ],
          [
           "Joseph Airdo"
          ],
          [
           "Jennifer Braxton"
          ],
          [
           "Joy Bell-"
          ],
          [
           "Julia Barnett"
          ],
          [
           "Jenna Caffey"
          ],
          [
           "John Castell"
          ],
          [
           "John Dryer"
          ],
          [
           "Jonathan Doherty"
          ],
          [
           "Justin Deggeller"
          ],
          [
           "Joe Elijah"
          ],
          [
           "Jamie Frazer"
          ],
          [
           "Jennifer Ferguson"
          ],
          [
           "Jill Fjeld"
          ],
          [
           "James Galang"
          ],
          [
           "Jason Gross"
          ],
          [
           "John Grady"
          ],
          [
           "Jennifer Halladay"
          ],
          [
           "John Huston"
          ],
          [
           "Joseph Holt"
          ],
          [
           "Joel Jenkins"
          ],
          [
           "Jay Kimmel"
          ],
          [
           "Jim Karlsson"
          ],
          [
           "Jim Kriz"
          ],
          [
           "Juliana Krohn"
          ],
          [
           "Jack Lebron"
          ],
          [
           "James Lanier"
          ],
          [
           "Janet Lee"
          ],
          [
           "John Lee"
          ],
          [
           "Jill Matthias"
          ],
          [
           "Jim Mitchum"
          ],
          [
           "Jeremy Pistek"
          ],
          [
           "Joy Smith"
          ],
          [
           "Jane Waco"
          ],
          [
           "Joni Wasserman"
          ],
          [
           "Julia West"
          ],
          [
           "Kelly Andreada"
          ],
          [
           "Karen Bern"
          ],
          [
           "Karl Braun"
          ],
          [
           "Katrina Bavinger"
          ],
          [
           "Ken Brennan"
          ],
          [
           "Kimberly Carter"
          ],
          [
           "Katrina Edelman"
          ],
          [
           "Katharine Harms"
          ],
          [
           "Katherine Hughes"
          ],
          [
           "Keith Herrera"
          ],
          [
           "Kristen Hastings"
          ],
          [
           "Kelly Lampkin"
          ],
          [
           "Katherine Murray"
          ],
          [
           "Khloe Miller"
          ],
          [
           "Katherine Nockton"
          ],
          [
           "Katrina Willman"
          ],
          [
           "Laura Armstrong"
          ],
          [
           "Larry Blacks"
          ],
          [
           "Lena Creighton"
          ],
          [
           "Lindsay Castell"
          ],
          [
           "Liz Carlisle"
          ],
          [
           "Logan Currie"
          ],
          [
           "Laurel Elliston"
          ],
          [
           "Luke Foster"
          ],
          [
           "Lena Hernandez"
          ],
          [
           "Lauren Leatherbury"
          ],
          [
           "Lori Olson"
          ],
          [
           "Liz Preis"
          ],
          [
           "Lena Radford"
          ],
          [
           "Luke Schmidt"
          ],
          [
           "Lycoris Saunders"
          ],
          [
           "Larry Tron"
          ],
          [
           "Luke Weiss"
          ],
          [
           "Maria Bertelson"
          ],
          [
           "Mark Cousins"
          ],
          [
           "Matthew Clasen"
          ],
          [
           "Michael Chen"
          ],
          [
           "Maribeth Dona"
          ],
          [
           "Maria Etezadi"
          ],
          [
           "Monica Federle"
          ],
          [
           "Maureen Gnade"
          ],
          [
           "Michael Grace"
          ],
          [
           "Michael Granlund"
          ],
          [
           "Mike Gockenbach"
          ],
          [
           "Mitch Gastineau"
          ],
          [
           "Maya Herman"
          ],
          [
           "Mick Hernandez"
          ],
          [
           "Max Jones"
          ],
          [
           "Michael Kennedy"
          ],
          [
           "Marina Lichtenstein"
          ],
          [
           "Max Ludwig"
          ],
          [
           "Magdelene Morse"
          ],
          [
           "Michael Moore"
          ],
          [
           "Michelle Moray"
          ],
          [
           "Meg O'Connel"
          ],
          [
           "Mark Packer"
          ],
          [
           "Mike Pelletier"
          ],
          [
           "Maribeth Schnelling"
          ],
          [
           "MaryBeth Skach"
          ],
          [
           "Melanie Seite"
          ],
          [
           "Michael Stewart"
          ],
          [
           "Mark Van Huff"
          ],
          [
           "Mike Vittorini"
          ],
          [
           "Mitch Webber"
          ],
          [
           "Mitch Willingham"
          ],
          [
           "Muhammed Yedwab"
          ],
          [
           "Maria Zettner"
          ],
          [
           "Mary Zewe"
          ],
          [
           "Nat Carroll"
          ],
          [
           "Nick Crebassa"
          ],
          [
           "Noah Childs"
          ],
          [
           "Natalie DeCherney"
          ],
          [
           "Neil Ducich"
          ],
          [
           "Natalie Fritzler"
          ],
          [
           "Neil Französisch"
          ],
          [
           "Nicole Fjeld"
          ],
          [
           "Nicole Hansen"
          ],
          [
           "Neil Knudson"
          ],
          [
           "Nancy Lomonaco"
          ],
          [
           "Neoma Murray"
          ],
          [
           "Naresj Patel"
          ],
          [
           "Nora Pelletier"
          ],
          [
           "Nick Radford"
          ],
          [
           "Neola Schneider"
          ],
          [
           "Phillip Breyer"
          ],
          [
           "Phillip Flathmann"
          ],
          [
           "Patrick Gardner"
          ],
          [
           "Paul Gonzalez"
          ],
          [
           "Pete Kriz"
          ],
          [
           "Paul MacIntyre"
          ],
          [
           "Peter McVee"
          ],
          [
           "Parhena Norris"
          ],
          [
           "Patrick O'Brill"
          ],
          [
           "Patrick O'Donnell"
          ],
          [
           "Patrick Ryan"
          ],
          [
           "Penelope Sewall"
          ],
          [
           "Paul Van Hugh"
          ],
          [
           "Pauline Webber"
          ],
          [
           "Quincy Jones"
          ],
          [
           "Ralph Arnett"
          ],
          [
           "Russell Applegate"
          ],
          [
           "Ryan Akin"
          ],
          [
           "Randy Bradley"
          ],
          [
           "Raymond Buch"
          ],
          [
           "Richard Bierner"
          ],
          [
           "Rick Bensley"
          ],
          [
           "Rob Beeghly"
          ],
          [
           "Rick Duston"
          ],
          [
           "Rob Dowd"
          ],
          [
           "Roger Demir"
          ],
          [
           "Roland Fjeld"
          ],
          [
           "Roy Französisch"
          ],
          [
           "Rick Hansen"
          ],
          [
           "Rick Huthwaite"
          ],
          [
           "Raymond Messe"
          ],
          [
           "Rachel Payne"
          ],
          [
           "Resi Pölking"
          ],
          [
           "Roy Phan"
          ],
          [
           "Rick Reed"
          ],
          [
           "Robert Waldorf"
          ],
          [
           "Sam Craven"
          ],
          [
           "Scot Coram"
          ],
          [
           "Steve Carroll"
          ],
          [
           "Steve Chapman"
          ],
          [
           "Steven Cartwright"
          ],
          [
           "Sung Chung"
          ],
          [
           "Shirley Daniels"
          ],
          [
           "Sanjit Engle"
          ],
          [
           "Sarah Foster"
          ],
          [
           "Susan Gilcrest"
          ],
          [
           "Sally Hughsby"
          ],
          [
           "Shahid Hopkins"
          ],
          [
           "Suzanne McNair"
          ],
          [
           "Stefania Perrino"
          ],
          [
           "Stephanie Phelps"
          ],
          [
           "Susan Pistek"
          ],
          [
           "Steven Roelle"
          ],
          [
           "Saphhira Shifley"
          ],
          [
           "Sonia Sunley"
          ],
          [
           "Shui Tom"
          ],
          [
           "Stewart Visinsky"
          ],
          [
           "Susan Vittorini"
          ],
          [
           "Scot Wooten"
          ],
          [
           "Scott Williamson"
          ],
          [
           "Steven Ward"
          ],
          [
           "Sam Zeldin"
          ],
          [
           "Tom Ashbrook"
          ],
          [
           "Tim Brockman"
          ],
          [
           "Tom Boeckenhauer"
          ],
          [
           "Theresa Coyne"
          ],
          [
           "Tony Chapman"
          ],
          [
           "Toby Gnade"
          ],
          [
           "Trudy Glocke"
          ],
          [
           "Thea Hendricks"
          ],
          [
           "Tiffany House"
          ],
          [
           "Tracy Hopkins"
          ],
          [
           "Theone Pippenger"
          ],
          [
           "Tracy Poddar"
          ],
          [
           "Toby Ritter"
          ],
          [
           "Thomas Seio"
          ],
          [
           "Toby Swindell"
          ],
          [
           "Tony Sayre"
          ],
          [
           "Troy Staebel"
          ],
          [
           "Ted Trevino"
          ],
          [
           "Tonja Turnell"
          ],
          [
           "Tom Zandusky"
          ],
          [
           "Vicky Freymann"
          ],
          [
           "Vivek Grady"
          ],
          [
           "Valerie Takahito"
          ],
          [
           "Victoria Wilson"
          ],
          [
           "William Brown"
          ],
          [
           "Yoseph Carroll"
          ],
          [
           "Yana Sorensen"
          ],
          [
           "Zuschuss Carroll"
          ]
         ],
         "hovertemplate": "Customer_Segment=Champions<br>Recency (Days)=%{x}<br>Frequency (Orders)=%{y}<br>Monetary Value ($)=%{z}<br>Customer Name=%{customdata[0]}<extra></extra>",
         "legendgroup": "Champions",
         "marker": {
          "color": "#FFA15A",
          "symbol": "circle"
         },
         "mode": "markers",
         "name": "Champions",
         "scene": "scene",
         "showlegend": true,
         "type": "scatter3d",
         "x": [
          17,
          14,
          6,
          7,
          7,
          7,
          3,
          9,
          13,
          3,
          7,
          16,
          26,
          15,
          23,
          24,
          16,
          13,
          19,
          13,
          3,
          17,
          6,
          20,
          10,
          5,
          4,
          9,
          16,
          17,
          27,
          7,
          24,
          27,
          9,
          3,
          12,
          10,
          2,
          13,
          1,
          2,
          19,
          14,
          10,
          27,
          1,
          17,
          17,
          17,
          3,
          2,
          14,
          5,
          14,
          6,
          9,
          7,
          27,
          1,
          16,
          9,
          23,
          16,
          26,
          12,
          27,
          2,
          7,
          3,
          9,
          5,
          14,
          3,
          17,
          8,
          10,
          19,
          20,
          23,
          7,
          13,
          22,
          2,
          9,
          11,
          5,
          19,
          13,
          23,
          6,
          3,
          20,
          27,
          7,
          8,
          1,
          4,
          15,
          20,
          6,
          19,
          3,
          1,
          16,
          3,
          3,
          3,
          25,
          13,
          1,
          23,
          5,
          2,
          8,
          23,
          24,
          23,
          14,
          6,
          21,
          19,
          3,
          13,
          20,
          2,
          2,
          9,
          19,
          8,
          7,
          13,
          24,
          7,
          6,
          2,
          26,
          14,
          1,
          8,
          2,
          1,
          9,
          2,
          16,
          7,
          1,
          10,
          7,
          3,
          2,
          2,
          3,
          1,
          6,
          14,
          12,
          3,
          2,
          2,
          1,
          9,
          9,
          7,
          14,
          22,
          1,
          9,
          9,
          22,
          13,
          6,
          2,
          17,
          5,
          3,
          20,
          2,
          3,
          27,
          17,
          2,
          23,
          3,
          16,
          3,
          16,
          20,
          27,
          14,
          10,
          17,
          3,
          5,
          14,
          15,
          23,
          22,
          27,
          3,
          10,
          27,
          16,
          5,
          7,
          22,
          2,
          24,
          6,
          2,
          27,
          6,
          8,
          1,
          6,
          6,
          3,
          3,
          1,
          6,
          22,
          22,
          1,
          2,
          5,
          8,
          16,
          7,
          6,
          17,
          6,
          16,
          24,
          27,
          17,
          20,
          18,
          17,
          1,
          22,
          24,
          6,
          7,
          21,
          13,
          6,
          8,
          7,
          12,
          21,
          27,
          26,
          20,
          2,
          15,
          3,
          7,
          9,
          3,
          21,
          3,
          9,
          22,
          13,
          16,
          5,
          1,
          26,
          21,
          9,
          8,
          26,
          6,
          13,
          2,
          16,
          21,
          20,
          1,
          21,
          1,
          26,
          22,
          2,
          7,
          25,
          21,
          19,
          8,
          16,
          22,
          1,
          16,
          9,
          17,
          22,
          10,
          8,
          9,
          16,
          10,
          6,
          17,
          26,
          24,
          26,
          6,
          21,
          7,
          24,
          16,
          6,
          7,
          23,
          1,
          13,
          22,
          16,
          14,
          19,
          3,
          26,
          12,
          2,
          15,
          6,
          7,
          9,
          6,
          3,
          15,
          2,
          27,
          9,
          12,
          21,
          15,
          13,
          9,
          14,
          3,
          8,
          7,
          21,
          5,
          10,
          4
         ],
         "y": [
          32,
          29,
          31,
          24,
          29,
          36,
          24,
          29,
          27,
          34,
          34,
          33,
          30,
          29,
          38,
          28,
          32,
          28,
          30,
          24,
          29,
          25,
          32,
          27,
          25,
          30,
          27,
          25,
          24,
          31,
          27,
          24,
          31,
          27,
          29,
          36,
          29,
          23,
          28,
          29,
          26,
          29,
          26,
          22,
          25,
          23,
          29,
          30,
          29,
          28,
          27,
          23,
          23,
          38,
          31,
          30,
          31,
          24,
          26,
          25,
          25,
          30,
          24,
          26,
          31,
          22,
          30,
          23,
          23,
          30,
          25,
          25,
          25,
          27,
          26,
          27,
          25,
          23,
          22,
          28,
          31,
          27,
          32,
          35,
          36,
          22,
          26,
          27,
          34,
          27,
          30,
          27,
          24,
          25,
          25,
          25,
          27,
          32,
          31,
          24,
          37,
          28,
          25,
          32,
          31,
          29,
          28,
          37,
          30,
          33,
          32,
          29,
          23,
          30,
          31,
          37,
          29,
          24,
          24,
          29,
          36,
          31,
          29,
          24,
          26,
          31,
          25,
          30,
          25,
          35,
          27,
          30,
          34,
          29,
          32,
          37,
          29,
          25,
          25,
          34,
          32,
          24,
          25,
          25,
          24,
          32,
          28,
          36,
          28,
          23,
          29,
          32,
          24,
          37,
          31,
          31,
          38,
          28,
          27,
          27,
          26,
          33,
          28,
          27,
          24,
          30,
          24,
          34,
          26,
          32,
          34,
          30,
          25,
          35,
          27,
          29,
          28,
          25,
          23,
          31,
          26,
          28,
          26,
          39,
          26,
          28,
          29,
          29,
          23,
          34,
          29,
          29,
          22,
          23,
          30,
          24,
          22,
          29,
          26,
          28,
          26,
          26,
          24,
          24,
          30,
          24,
          27,
          30,
          34,
          31,
          30,
          30,
          32,
          25,
          33,
          29,
          24,
          29,
          26,
          26,
          26,
          31,
          25,
          28,
          26,
          33,
          25,
          25,
          28,
          36,
          34,
          25,
          26,
          27,
          27,
          30,
          28,
          24,
          29,
          26,
          25,
          22,
          22,
          29,
          23,
          22,
          32,
          22,
          22,
          22,
          24,
          25,
          27,
          25,
          30,
          26,
          25,
          27,
          30,
          35,
          28,
          29,
          23,
          22,
          33,
          41,
          35,
          29,
          26,
          28,
          31,
          23,
          24,
          27,
          23,
          32,
          25,
          28,
          36,
          25,
          27,
          31,
          30,
          23,
          31,
          28,
          25,
          25,
          26,
          34,
          27,
          27,
          25,
          34,
          25,
          31,
          35,
          30,
          24,
          32,
          36,
          28,
          22,
          29,
          33,
          29,
          31,
          24,
          28,
          33,
          32,
          26,
          32,
          27,
          28,
          26,
          33,
          31,
          37,
          25,
          28,
          26,
          25,
          29,
          32,
          33,
          27,
          26,
          26,
          37,
          30,
          22,
          32,
          31,
          27,
          30,
          31,
          32,
          28,
          24,
          23,
          25,
          30,
          38,
          27,
          26,
          37
         ],
         "z": [
          20037.4975,
          11649.265,
          10786.7164,
          10607.6947,
          12729.72448,
          26487.2585,
          13013.8762,
          14534.50618,
          14439.49784,
          18109.86142,
          20365.74018,
          16730.3296,
          24218.5645,
          14277.88536,
          15311.035600000001,
          12596.2944,
          15009.47272,
          21366.8987,
          16179.86246,
          13654.3055,
          12984.1049,
          13200.25552,
          13390.267,
          13089.8495,
          11230.6983,
          10877.827,
          17643.5253,
          23347.83866,
          10201.2813,
          22314.84044,
          12968.9385,
          14689.342499999999,
          23537.335,
          13294.68736,
          25312.2927,
          18446.8529,
          23378.10388,
          10272.22552,
          15376.031719999999,
          12448.89978,
          22551.02596,
          17557.4595,
          21110.5214,
          10691.028,
          11685.3186,
          12705.54736,
          13997.592560000001,
          17159.80046,
          16822.64,
          9969.0279,
          18296.7474,
          11848.16246,
          12538.83296,
          13625.20784,
          17622.41136,
          17008.13588,
          17943.6508,
          16828.819,
          17910.03942,
          11375.05222,
          11971.70808,
          20109.46928,
          19487.963760000002,
          20471.0526,
          14222.97134,
          10981.231,
          12496.1053,
          10221.36436,
          20084.21728,
          11110.4965,
          12917.6316,
          12279.23076,
          13035.368260000001,
          12338.2837,
          23476.91166,
          13743.5959,
          11690.3695,
          16164.6499,
          10085.789999999999,
          22142.43114,
          15420.2879,
          12560.130000000001,
          17590.5547,
          14823.9685,
          19178.6392,
          15983.711,
          16258.534,
          18505.6005,
          16781.631,
          15872.184000000001,
          15626.5318,
          17054.8905,
          13098.338,
          12083.48092,
          18930.032199999998,
          22211.28212,
          10282.7912,
          14415.3383,
          13447.412,
          18106.01292,
          12143.0436,
          22225.61032,
          20188.15894,
          13405.6013,
          18018.879,
          20259.916,
          10374.9381,
          25228.52948,
          21507.29126,
          16283.35774,
          12827.272939999999,
          13535.0628,
          13569.566,
          27649.32652,
          14353.3978,
          15614.2155,
          9939.0502,
          12488.67232,
          10748.99238,
          18005.0006,
          13659.59598,
          20039.763,
          12921.45162,
          19215.7699,
          15782.46188,
          12010.60944,
          10793.729,
          34471.89028,
          16239.4915,
          20869.699,
          9902.49522,
          21228.55452,
          16810.6866,
          14737.8066,
          14312.7962,
          27434.1676,
          12718.7916,
          10383.13098,
          17105.4707,
          13085.5039,
          22127.18112,
          13851.27568,
          12978.930919999999,
          10582.78504,
          10267.74976,
          16711.32422,
          18281.84948,
          22275.2689,
          17064.7075,
          14717.46588,
          19844.14866,
          19963.41,
          12733.7039,
          22015.3862,
          11806.1963,
          23586.7205,
          18863.4044,
          18103.64108,
          10189.51404,
          12754.4081,
          12637.4495,
          21918.73684,
          12908.49914,
          13499.87246,
          18725.38964,
          22594.043,
          13295.857,
          16294.727060000001,
          16429.04996,
          19218.81298,
          23103.7263,
          10640.8287,
          19852.773,
          17449.90012,
          9900.698,
          14542.76228,
          13786.0925,
          10295.9567,
          13531.28104,
          12928.68672,
          15045.6445,
          9983.5094,
          15340.396,
          18158.4601,
          12064.3877,
          16394.46064,
          10785.2626,
          19350.14634,
          15319.9656,
          24273.0019,
          12686.03922,
          17058.8144,
          11812.0975,
          12933.87382,
          13128.24376,
          10429.2537,
          12864.7205,
          12098.37728,
          11287.78406,
          11256.3236,
          15598.1516,
          22434.08756,
          15258.74122,
          10577.17148,
          17253.78294,
          10529.49144,
          16729.34532,
          15055.40518,
          21113.5107,
          14947.88402,
          16455.32732,
          24527.029,
          20425.299600000002,
          16221.6268,
          14452.82062,
          13162.2489,
          18147.9582,
          16362.8956,
          11676.13204,
          12017.105,
          15347.655,
          13202.4489,
          14507.07948,
          14425.1044,
          15713.71812,
          20383.654,
          11163.587,
          13709.1228,
          12928.8028,
          22045.252800000002,
          20317.0067,
          13335.04236,
          11783.3973,
          16210.5722,
          10563.3673,
          15577.035600000001,
          20592.081299999998,
          17933.0609,
          25570.49418,
          14463.9343,
          13383.976840000001,
          13905.34712,
          11054.378,
          16901.51758,
          10913.15082,
          12061.44172,
          28044.3595,
          10630.9149,
          10535.301519999999,
          19181.9263,
          11483.193,
          10587.3308,
          12328.606,
          11778.491,
          11363.4332,
          10993.42058,
          14834.28974,
          18967.662,
          11915.1997,
          14635.9446,
          13941.6862,
          17668.910499999998,
          12893.5944,
          9857.6599,
          11370.46522,
          25274.4702,
          21051.0598,
          13243.62082,
          29252.3194,
          12540.661,
          12810.05846,
          18192.9231,
          16816.427,
          20975.19342,
          11696.0283,
          18359.76862,
          29197.634599999998,
          11618.07552,
          17178.4394,
          10961.631,
          16487.1909,
          16315.107899999999,
          10902.5255,
          12139.0877,
          15077.47568,
          13295.7486,
          11599.392960000001,
          16077.68112,
          13725.5769,
          16114.907500000001,
          11043.0844,
          15009.2866,
          11200.142,
          10579.47,
          20333.868,
          13477.05528,
          21931.0435,
          13975.42408,
          9898.62502,
          16802.0649,
          29532.62502,
          13019.6294,
          11260.30386,
          10893.50994,
          12849.17384,
          11552.77814,
          19113.6707,
          10377.86844,
          28124.21286,
          17220.18,
          20138.603039999998,
          12181.4264,
          14064.01106,
          14262.9351,
          15197.6927,
          13576.68382,
          15564.966699999999,
          23321.579999999998,
          15192.376,
          35668.120800000004,
          11830.0907,
          21375.988,
          18419.94306,
          10722.52656,
          12305.231600000001,
          13973.7773,
          13684.8726,
          12896.252,
          12808.9063,
          22697.57728,
          12429.8013,
          10033.18706,
          13888.62492,
          16997.02948,
          17613.4163,
          20565.95,
          15673.063900000001,
          18432.013460000002,
          14601.6714,
          12000.133,
          22573.37116,
          18099.3061,
          15785.3774,
          16704.6612,
          19998.0786,
          18703.606,
          28472.81926
         ]
        },
        {
         "customdata": [
          [
           "Aaron Bergman"
          ],
          [
           "Alan Hwang"
          ],
          [
           "Aaron Hawkins"
          ],
          [
           "Ashley Jarboe"
          ],
          [
           "Adrian Shami"
          ],
          [
           "Bryan Davis"
          ],
          [
           "Bart Folk"
          ],
          [
           "Benjamin Patterson"
          ],
          [
           "Brian Stugart"
          ],
          [
           "Christina Anderson"
          ],
          [
           "Cindy Chapman"
          ],
          [
           "Craig Carroll"
          ],
          [
           "Cathy Hwang"
          ],
          [
           "Christine Phan"
          ],
          [
           "Charles Sheldon"
          ],
          [
           "Cynthia Voltz"
          ],
          [
           "Dennis Bolton"
          ],
          [
           "Denise Monton"
          ],
          [
           "Dave Poirier"
          ],
          [
           "Evan Henry"
          ],
          [
           "Elpida Rittenbach"
          ],
          [
           "Gene McClure"
          ],
          [
           "Guy Phonely"
          ],
          [
           "Georgia Rosenberg"
          ],
          [
           "Gary Zandusky"
          ],
          [
           "Harold Dahlen"
          ],
          [
           "Henry MacAllister"
          ],
          [
           "Hallie Redmond"
          ],
          [
           "Julie Creighton"
          ],
          [
           "Jamie Frazer"
          ],
          [
           "Jill Fjeld"
          ],
          [
           "Jay Kimmel"
          ],
          [
           "Jim Karlsson"
          ],
          [
           "Joe Kamberova"
          ],
          [
           "John Lee"
          ],
          [
           "Jim Mitchum"
          ],
          [
           "Jane Waco"
          ],
          [
           "Kristina Nunn"
          ],
          [
           "Logan Haushalter"
          ],
          [
           "Liz Thompson"
          ],
          [
           "Marc Crier"
          ],
          [
           "Michael Dominguez"
          ],
          [
           "Mike Gockenbach"
          ],
          [
           "Mark Haberlin"
          ],
          [
           "Magdelene Morse"
          ],
          [
           "Michelle Tran"
          ],
          [
           "Maria Zettner"
          ],
          [
           "Nora Pelletier"
          ],
          [
           "Natalie Webber"
          ],
          [
           "Pete Armstrong"
          ],
          [
           "Phillip Breyer"
          ],
          [
           "Pauline Johnson"
          ],
          [
           "Paul Van Hugh"
          ],
          [
           "Randy Bradley"
          ],
          [
           "Rick Bensley"
          ],
          [
           "Roger Demir"
          ],
          [
           "Ross DeVincentis"
          ],
          [
           "Rob Haberlin"
          ],
          [
           "Resi Pölking"
          ],
          [
           "Roy Phan"
          ],
          [
           "Steve Carroll"
          ],
          [
           "Sandra Flanagan"
          ],
          [
           "Sally Hughsby"
          ],
          [
           "Sally Matthias"
          ],
          [
           "Sean Miller"
          ],
          [
           "Tom Stivers"
          ]
         ],
         "hovertemplate": "Customer_Segment=Cant Lose Them<br>Recency (Days)=%{x}<br>Frequency (Orders)=%{y}<br>Monetary Value ($)=%{z}<br>Customer Name=%{customdata[0]}<extra></extra>",
         "legendgroup": "Cant Lose Them",
         "marker": {
          "color": "#19d3f3",
          "symbol": "circle"
         },
         "mode": "markers",
         "name": "Cant Lose Them",
         "scene": "scene",
         "showlegend": true,
         "type": "scatter3d",
         "x": [
          413,
          458,
          469,
          105,
          93,
          239,
          210,
          84,
          153,
          106,
          56,
          132,
          307,
          464,
          58,
          258,
          435,
          146,
          65,
          122,
          54,
          105,
          152,
          154,
          148,
          107,
          465,
          188,
          103,
          150,
          421,
          145,
          317,
          484,
          55,
          123,
          101,
          124,
          128,
          56,
          236,
          104,
          282,
          97,
          132,
          324,
          113,
          115,
          118,
          178,
          308,
          197,
          145,
          113,
          288,
          59,
          54,
          174,
          271,
          401,
          190,
          230,
          65,
          105,
          77,
          119
         ],
         "y": [
          5,
          4,
          7,
          7,
          5,
          5,
          6,
          8,
          7,
          7,
          7,
          5,
          8,
          4,
          5,
          7,
          2,
          6,
          6,
          8,
          7,
          5,
          8,
          6,
          8,
          7,
          5,
          8,
          6,
          8,
          6,
          6,
          8,
          6,
          7,
          8,
          6,
          5,
          8,
          6,
          5,
          5,
          3,
          8,
          5,
          7,
          5,
          4,
          7,
          6,
          7,
          8,
          6,
          8,
          3,
          8,
          7,
          8,
          7,
          6,
          4,
          8,
          8,
          8,
          7,
          7
         ],
         "z": [
          4607.13,
          3277.11,
          6320.0160000000005,
          4860.924,
          3978.81,
          3405.066,
          3808.17,
          6134.988,
          5101.907999999999,
          3364.638,
          3709.881,
          4019.4120000000003,
          4545.6179999999995,
          5044.65,
          3340.098,
          5088.852,
          3691.53,
          4998.42,
          6970.715999999999,
          3577.77,
          3736.296,
          4298.37,
          4610.103,
          4955.5289999999995,
          3835.626,
          3325.6079999999997,
          4409.298,
          4550.322,
          3914.94,
          3510.1679999999997,
          3776.7000000000003,
          3211.452,
          4364.763,
          5862.87,
          3388.275,
          3602.67,
          7184.724,
          4830.858,
          3228.75,
          8234.994,
          4301.043,
          6853.512,
          5229.1140000000005,
          3357.7799999999997,
          5510.358,
          6851.922,
          3494.226,
          4994.849999999999,
          7046.736,
          3670.581,
          5302.197,
          6612.66,
          6390.636,
          4538.256,
          3675.2400000000002,
          3833.712,
          3214.788,
          3340.4700000000003,
          5935.98,
          3569.139,
          6344.79,
          3861.429,
          8058.147,
          6262.38,
          4045.638,
          5812.08
         ]
        },
        {
         "customdata": [
          [
           "Adam Bellavance"
          ],
          [
           "Alyssa Crouse"
          ],
          [
           "Art Ferguson"
          ],
          [
           "Andrew Gjertsen"
          ],
          [
           "Anthony Jacobs"
          ],
          [
           "Ann Steele"
          ],
          [
           "Alyssa Tate"
          ],
          [
           "Andy Yotov"
          ],
          [
           "Annie Zypern"
          ],
          [
           "Brendan Murry"
          ],
          [
           "Bryan Mills"
          ],
          [
           "Ben Peterman"
          ],
          [
           "Beth Thompson"
          ],
          [
           "Craig Reiter"
          ],
          [
           "Dario Medina"
          ],
          [
           "Darren Powers"
          ],
          [
           "Eric Barreto"
          ],
          [
           "Erica Bern"
          ],
          [
           "Eugene Barchas"
          ],
          [
           "Greg Hansen"
          ],
          [
           "Jack Garza"
          ],
          [
           "Jennifer Halladay"
          ],
          [
           "Joni Sundaresam"
          ],
          [
           "Karl Braun"
          ],
          [
           "Ken Brennan"
          ],
          [
           "Karen Ferguson"
          ],
          [
           "Linda Southworth"
          ],
          [
           "Laurel Workman"
          ],
          [
           "Lindsay Williams"
          ],
          [
           "Liz Willingham"
          ],
          [
           "Michelle Arnett"
          ],
          [
           "Maria Etezadi"
          ],
          [
           "Max Engle"
          ],
          [
           "Maya Herman"
          ],
          [
           "Michelle Huthwaite"
          ],
          [
           "Mike Kennedy"
          ],
          [
           "Muhammed Lee"
          ],
          [
           "Nat Carroll"
          ],
          [
           "Neil Ducich"
          ],
          [
           "Philisse Overcash"
          ],
          [
           "Ryan Akin"
          ],
          [
           "Rose O'Brian"
          ],
          [
           "Sue Ann Reed"
          ],
          [
           "Shahid Shariari"
          ],
          [
           "Shaun Weien"
          ],
          [
           "Thomas Thornton"
          ],
          [
           "Tonja Turnell"
          ],
          [
           "Tamara Willingham"
          ],
          [
           "Valerie Dominguez"
          ],
          [
           "Zuschuss Donatelli"
          ]
         ],
         "hovertemplate": "Customer_Segment=Others<br>Recency (Days)=%{x}<br>Frequency (Orders)=%{y}<br>Monetary Value ($)=%{z}<br>Customer Name=%{customdata[0]}<extra></extra>",
         "legendgroup": "Others",
         "marker": {
          "color": "#FF6692",
          "symbol": "circle"
         },
         "mode": "markers",
         "name": "Others",
         "scene": "scene",
         "showlegend": true,
         "type": "scatter3d",
         "x": [
          36,
          14,
          6,
          49,
          2,
          34,
          29,
          36,
          27,
          41,
          49,
          5,
          32,
          6,
          13,
          15,
          8,
          36,
          21,
          2,
          6,
          8,
          24,
          23,
          10,
          33,
          7,
          33,
          15,
          34,
          17,
          21,
          12,
          8,
          15,
          41,
          9,
          36,
          9,
          30,
          21,
          5,
          11,
          27,
          8,
          6,
          43,
          20,
          1,
          4
         ],
         "y": [
          9,
          9,
          9,
          11,
          12,
          11,
          12,
          11,
          10,
          9,
          9,
          10,
          10,
          11,
          9,
          10,
          9,
          9,
          10,
          9,
          9,
          9,
          13,
          11,
          11,
          9,
          12,
          11,
          11,
          9,
          11,
          10,
          11,
          9,
          9,
          10,
          9,
          9,
          10,
          9,
          9,
          9,
          10,
          10,
          9,
          9,
          8,
          8,
          9,
          9
         ],
         "z": [
          1770.2279999999998,
          1689.675,
          1700.082,
          1003.9920000000001,
          2570.994,
          2000.01,
          1287.993,
          3096.42,
          2231.277,
          1703.982,
          2244.342,
          1430.616,
          1305.96,
          1359.576,
          2437.407,
          2093.61,
          2433.516,
          2713.62,
          2417.757,
          1077.069,
          2907.678,
          883.476,
          2927.3399999999997,
          2957.715,
          1167.738,
          3100.152,
          2726.034,
          881.754,
          1869.771,
          2677.341,
          1928.007,
          1720.1879999999999,
          2083.875,
          1914.834,
          1095.426,
          2697.066,
          1170.72,
          2707.962,
          2722.98,
          1231.068,
          2044.587,
          3080.1059999999998,
          872.676,
          2348.46,
          2205.252,
          1826.4,
          1649.784,
          323.109,
          1230.051,
          2951.226
         ]
        }
       ],
       "layout": {
        "height": 600,
        "legend": {
         "title": {
          "text": "Customer_Segment"
         },
         "tracegroupgap": 0
        },
        "scene": {
         "domain": {
          "x": [
           0,
           1
          ],
          "y": [
           0,
           1
          ]
         },
         "xaxis": {
          "title": {
           "text": "Recency (Days)"
          }
         },
         "yaxis": {
          "title": {
           "text": "Frequency (Orders)"
          }
         },
         "zaxis": {
          "title": {
           "text": "Monetary Value ($)"
          }
         }
        },
        "template": {
         "data": {
          "bar": [
           {
            "error_x": {
             "color": "#2a3f5f"
            },
            "error_y": {
             "color": "#2a3f5f"
            },
            "marker": {
             "line": {
              "color": "#E5ECF6",
              "width": 0.5
             },
             "pattern": {
              "fillmode": "overlay",
              "size": 10,
              "solidity": 0.2
             }
            },
            "type": "bar"
           }
          ],
          "barpolar": [
           {
            "marker": {
             "line": {
              "color": "#E5ECF6",
              "width": 0.5
             },
             "pattern": {
              "fillmode": "overlay",
              "size": 10,
              "solidity": 0.2
             }
            },
            "type": "barpolar"
           }
          ],
          "carpet": [
           {
            "aaxis": {
             "endlinecolor": "#2a3f5f",
             "gridcolor": "white",
             "linecolor": "white",
             "minorgridcolor": "white",
             "startlinecolor": "#2a3f5f"
            },
            "baxis": {
             "endlinecolor": "#2a3f5f",
             "gridcolor": "white",
             "linecolor": "white",
             "minorgridcolor": "white",
             "startlinecolor": "#2a3f5f"
            },
            "type": "carpet"
           }
          ],
          "choropleth": [
           {
            "colorbar": {
             "outlinewidth": 0,
             "ticks": ""
            },
            "type": "choropleth"
           }
          ],
          "contour": [
           {
            "colorbar": {
             "outlinewidth": 0,
             "ticks": ""
            },
            "colorscale": [
             [
              0,
              "#0d0887"
             ],
             [
              0.1111111111111111,
              "#46039f"
             ],
             [
              0.2222222222222222,
              "#7201a8"
             ],
             [
              0.3333333333333333,
              "#9c179e"
             ],
             [
              0.4444444444444444,
              "#bd3786"
             ],
             [
              0.5555555555555556,
              "#d8576b"
             ],
             [
              0.6666666666666666,
              "#ed7953"
             ],
             [
              0.7777777777777778,
              "#fb9f3a"
             ],
             [
              0.8888888888888888,
              "#fdca26"
             ],
             [
              1,
              "#f0f921"
             ]
            ],
            "type": "contour"
           }
          ],
          "contourcarpet": [
           {
            "colorbar": {
             "outlinewidth": 0,
             "ticks": ""
            },
            "type": "contourcarpet"
           }
          ],
          "heatmap": [
           {
            "colorbar": {
             "outlinewidth": 0,
             "ticks": ""
            },
            "colorscale": [
             [
              0,
              "#0d0887"
             ],
             [
              0.1111111111111111,
              "#46039f"
             ],
             [
              0.2222222222222222,
              "#7201a8"
             ],
             [
              0.3333333333333333,
              "#9c179e"
             ],
             [
              0.4444444444444444,
              "#bd3786"
             ],
             [
              0.5555555555555556,
              "#d8576b"
             ],
             [
              0.6666666666666666,
              "#ed7953"
             ],
             [
              0.7777777777777778,
              "#fb9f3a"
             ],
             [
              0.8888888888888888,
              "#fdca26"
             ],
             [
              1,
              "#f0f921"
             ]
            ],
            "type": "heatmap"
           }
          ],
          "heatmapgl": [
           {
            "colorbar": {
             "outlinewidth": 0,
             "ticks": ""
            },
            "colorscale": [
             [
              0,
              "#0d0887"
             ],
             [
              0.1111111111111111,
              "#46039f"
             ],
             [
              0.2222222222222222,
              "#7201a8"
             ],
             [
              0.3333333333333333,
              "#9c179e"
             ],
             [
              0.4444444444444444,
              "#bd3786"
             ],
             [
              0.5555555555555556,
              "#d8576b"
             ],
             [
              0.6666666666666666,
              "#ed7953"
             ],
             [
              0.7777777777777778,
              "#fb9f3a"
             ],
             [
              0.8888888888888888,
              "#fdca26"
             ],
             [
              1,
              "#f0f921"
             ]
            ],
            "type": "heatmapgl"
           }
          ],
          "histogram": [
           {
            "marker": {
             "pattern": {
              "fillmode": "overlay",
              "size": 10,
              "solidity": 0.2
             }
            },
            "type": "histogram"
           }
          ],
          "histogram2d": [
           {
            "colorbar": {
             "outlinewidth": 0,
             "ticks": ""
            },
            "colorscale": [
             [
              0,
              "#0d0887"
             ],
             [
              0.1111111111111111,
              "#46039f"
             ],
             [
              0.2222222222222222,
              "#7201a8"
             ],
             [
              0.3333333333333333,
              "#9c179e"
             ],
             [
              0.4444444444444444,
              "#bd3786"
             ],
             [
              0.5555555555555556,
              "#d8576b"
             ],
             [
              0.6666666666666666,
              "#ed7953"
             ],
             [
              0.7777777777777778,
              "#fb9f3a"
             ],
             [
              0.8888888888888888,
              "#fdca26"
             ],
             [
              1,
              "#f0f921"
             ]
            ],
            "type": "histogram2d"
           }
          ],
          "histogram2dcontour": [
           {
            "colorbar": {
             "outlinewidth": 0,
             "ticks": ""
            },
            "colorscale": [
             [
              0,
              "#0d0887"
             ],
             [
              0.1111111111111111,
              "#46039f"
             ],
             [
              0.2222222222222222,
              "#7201a8"
             ],
             [
              0.3333333333333333,
              "#9c179e"
             ],
             [
              0.4444444444444444,
              "#bd3786"
             ],
             [
              0.5555555555555556,
              "#d8576b"
             ],
             [
              0.6666666666666666,
              "#ed7953"
             ],
             [
              0.7777777777777778,
              "#fb9f3a"
             ],
             [
              0.8888888888888888,
              "#fdca26"
             ],
             [
              1,
              "#f0f921"
             ]
            ],
            "type": "histogram2dcontour"
           }
          ],
          "mesh3d": [
           {
            "colorbar": {
             "outlinewidth": 0,
             "ticks": ""
            },
            "type": "mesh3d"
           }
          ],
          "parcoords": [
           {
            "line": {
             "colorbar": {
              "outlinewidth": 0,
              "ticks": ""
             }
            },
            "type": "parcoords"
           }
          ],
          "pie": [
           {
            "automargin": true,
            "type": "pie"
           }
          ],
          "scatter": [
           {
            "fillpattern": {
             "fillmode": "overlay",
             "size": 10,
             "solidity": 0.2
            },
            "type": "scatter"
           }
          ],
          "scatter3d": [
           {
            "line": {
             "colorbar": {
              "outlinewidth": 0,
              "ticks": ""
             }
            },
            "marker": {
             "colorbar": {
              "outlinewidth": 0,
              "ticks": ""
             }
            },
            "type": "scatter3d"
           }
          ],
          "scattercarpet": [
           {
            "marker": {
             "colorbar": {
              "outlinewidth": 0,
              "ticks": ""
             }
            },
            "type": "scattercarpet"
           }
          ],
          "scattergeo": [
           {
            "marker": {
             "colorbar": {
              "outlinewidth": 0,
              "ticks": ""
             }
            },
            "type": "scattergeo"
           }
          ],
          "scattergl": [
           {
            "marker": {
             "colorbar": {
              "outlinewidth": 0,
              "ticks": ""
             }
            },
            "type": "scattergl"
           }
          ],
          "scattermapbox": [
           {
            "marker": {
             "colorbar": {
              "outlinewidth": 0,
              "ticks": ""
             }
            },
            "type": "scattermapbox"
           }
          ],
          "scatterpolar": [
           {
            "marker": {
             "colorbar": {
              "outlinewidth": 0,
              "ticks": ""
             }
            },
            "type": "scatterpolar"
           }
          ],
          "scatterpolargl": [
           {
            "marker": {
             "colorbar": {
              "outlinewidth": 0,
              "ticks": ""
             }
            },
            "type": "scatterpolargl"
           }
          ],
          "scatterternary": [
           {
            "marker": {
             "colorbar": {
              "outlinewidth": 0,
              "ticks": ""
             }
            },
            "type": "scatterternary"
           }
          ],
          "surface": [
           {
            "colorbar": {
             "outlinewidth": 0,
             "ticks": ""
            },
            "colorscale": [
             [
              0,
              "#0d0887"
             ],
             [
              0.1111111111111111,
              "#46039f"
             ],
             [
              0.2222222222222222,
              "#7201a8"
             ],
             [
              0.3333333333333333,
              "#9c179e"
             ],
             [
              0.4444444444444444,
              "#bd3786"
             ],
             [
              0.5555555555555556,
              "#d8576b"
             ],
             [
              0.6666666666666666,
              "#ed7953"
             ],
             [
              0.7777777777777778,
              "#fb9f3a"
             ],
             [
              0.8888888888888888,
              "#fdca26"
             ],
             [
              1,
              "#f0f921"
             ]
            ],
            "type": "surface"
           }
          ],
          "table": [
           {
            "cells": {
             "fill": {
              "color": "#EBF0F8"
             },
             "line": {
              "color": "white"
             }
            },
            "header": {
             "fill": {
              "color": "#C8D4E3"
             },
             "line": {
              "color": "white"
             }
            },
            "type": "table"
           }
          ]
         },
         "layout": {
          "annotationdefaults": {
           "arrowcolor": "#2a3f5f",
           "arrowhead": 0,
           "arrowwidth": 1
          },
          "autotypenumbers": "strict",
          "coloraxis": {
           "colorbar": {
            "outlinewidth": 0,
            "ticks": ""
           }
          },
          "colorscale": {
           "diverging": [
            [
             0,
             "#8e0152"
            ],
            [
             0.1,
             "#c51b7d"
            ],
            [
             0.2,
             "#de77ae"
            ],
            [
             0.3,
             "#f1b6da"
            ],
            [
             0.4,
             "#fde0ef"
            ],
            [
             0.5,
             "#f7f7f7"
            ],
            [
             0.6,
             "#e6f5d0"
            ],
            [
             0.7,
             "#b8e186"
            ],
            [
             0.8,
             "#7fbc41"
            ],
            [
             0.9,
             "#4d9221"
            ],
            [
             1,
             "#276419"
            ]
           ],
           "sequential": [
            [
             0,
             "#0d0887"
            ],
            [
             0.1111111111111111,
             "#46039f"
            ],
            [
             0.2222222222222222,
             "#7201a8"
            ],
            [
             0.3333333333333333,
             "#9c179e"
            ],
            [
             0.4444444444444444,
             "#bd3786"
            ],
            [
             0.5555555555555556,
             "#d8576b"
            ],
            [
             0.6666666666666666,
             "#ed7953"
            ],
            [
             0.7777777777777778,
             "#fb9f3a"
            ],
            [
             0.8888888888888888,
             "#fdca26"
            ],
            [
             1,
             "#f0f921"
            ]
           ],
           "sequentialminus": [
            [
             0,
             "#0d0887"
            ],
            [
             0.1111111111111111,
             "#46039f"
            ],
            [
             0.2222222222222222,
             "#7201a8"
            ],
            [
             0.3333333333333333,
             "#9c179e"
            ],
            [
             0.4444444444444444,
             "#bd3786"
            ],
            [
             0.5555555555555556,
             "#d8576b"
            ],
            [
             0.6666666666666666,
             "#ed7953"
            ],
            [
             0.7777777777777778,
             "#fb9f3a"
            ],
            [
             0.8888888888888888,
             "#fdca26"
            ],
            [
             1,
             "#f0f921"
            ]
           ]
          },
          "colorway": [
           "#636efa",
           "#EF553B",
           "#00cc96",
           "#ab63fa",
           "#FFA15A",
           "#19d3f3",
           "#FF6692",
           "#B6E880",
           "#FF97FF",
           "#FECB52"
          ],
          "font": {
           "color": "#2a3f5f"
          },
          "geo": {
           "bgcolor": "white",
           "lakecolor": "white",
           "landcolor": "#E5ECF6",
           "showlakes": true,
           "showland": true,
           "subunitcolor": "white"
          },
          "hoverlabel": {
           "align": "left"
          },
          "hovermode": "closest",
          "mapbox": {
           "style": "light"
          },
          "paper_bgcolor": "white",
          "plot_bgcolor": "#E5ECF6",
          "polar": {
           "angularaxis": {
            "gridcolor": "white",
            "linecolor": "white",
            "ticks": ""
           },
           "bgcolor": "#E5ECF6",
           "radialaxis": {
            "gridcolor": "white",
            "linecolor": "white",
            "ticks": ""
           }
          },
          "scene": {
           "xaxis": {
            "backgroundcolor": "#E5ECF6",
            "gridcolor": "white",
            "gridwidth": 2,
            "linecolor": "white",
            "showbackground": true,
            "ticks": "",
            "zerolinecolor": "white"
           },
           "yaxis": {
            "backgroundcolor": "#E5ECF6",
            "gridcolor": "white",
            "gridwidth": 2,
            "linecolor": "white",
            "showbackground": true,
            "ticks": "",
            "zerolinecolor": "white"
           },
           "zaxis": {
            "backgroundcolor": "#E5ECF6",
            "gridcolor": "white",
            "gridwidth": 2,
            "linecolor": "white",
            "showbackground": true,
            "ticks": "",
            "zerolinecolor": "white"
           }
          },
          "shapedefaults": {
           "line": {
            "color": "#2a3f5f"
           }
          },
          "ternary": {
           "aaxis": {
            "gridcolor": "white",
            "linecolor": "white",
            "ticks": ""
           },
           "baxis": {
            "gridcolor": "white",
            "linecolor": "white",
            "ticks": ""
           },
           "bgcolor": "#E5ECF6",
           "caxis": {
            "gridcolor": "white",
            "linecolor": "white",
            "ticks": ""
           }
          },
          "title": {
           "x": 0.05
          },
          "xaxis": {
           "automargin": true,
           "gridcolor": "white",
           "linecolor": "white",
           "ticks": "",
           "title": {
            "standoff": 15
           },
           "zerolinecolor": "white",
           "zerolinewidth": 2
          },
          "yaxis": {
           "automargin": true,
           "gridcolor": "white",
           "linecolor": "white",
           "ticks": "",
           "title": {
            "standoff": 15
           },
           "zerolinecolor": "white",
           "zerolinewidth": 2
          }
         }
        },
        "title": {
         "text": "RFM Customer Segmentation (3D View)"
        }
       }
      }
     },
     "metadata": {},
     "output_type": "display_data"
    },
    {
     "data": {
      "image/png": "[encoded data removed]",
      "text/plain": [
       "<Figure size 1000x800 with 2 Axes>"
      ]
     },
     "metadata": {},
     "output_type": "display_data"
    },
    {
     "data": {
      "application/vnd.plotly.v1+json": {
       "config": {
        "plotlyServerURL": "https://plot.ly"
       },
       "data": [
        {
         "domain": {
          "x": [
           0,
           1
          ],
          "y": [
           0,
           1
          ]
         },
         "hovertemplate": "Customer_Segment=%{label}<br>Count=%{value}<extra></extra>",
         "labels": [
          "At Risk",
          "Cant Lose Them",
          "Champions",
          "Lost",
          "Loyal Customers",
          "Others",
          "Potential Loyalists"
         ],
         "legendgroup": "",
         "name": "",
         "showlegend": true,
         "textinfo": "percent+label",
         "textposition": "inside",
         "type": "pie",
         "values": [
          202,
          66,
          347,
          367,
          355,
          50,
          203
         ]
        }
       ],
       "layout": {
        "height": 500,
        "legend": {
         "tracegroupgap": 0
        },
        "template": {
         "data": {
          "bar": [
           {
            "error_x": {
             "color": "#2a3f5f"
            },
            "error_y": {
             "color": "#2a3f5f"
            },
            "marker": {
             "line": {
              "color": "#E5ECF6",
              "width": 0.5
             },
             "pattern": {
              "fillmode": "overlay",
              "size": 10,
              "solidity": 0.2
             }
            },
            "type": "bar"
           }
          ],
          "barpolar": [
           {
            "marker": {
             "line": {
              "color": "#E5ECF6",
              "width": 0.5
             },
             "pattern": {
              "fillmode": "overlay",
              "size": 10,
              "solidity": 0.2
             }
            },
            "type": "barpolar"
           }
          ],
          "carpet": [
           {
            "aaxis": {
             "endlinecolor": "#2a3f5f",
             "gridcolor": "white",
             "linecolor": "white",
             "minorgridcolor": "white",
             "startlinecolor": "#2a3f5f"
            },
            "baxis": {
             "endlinecolor": "#2a3f5f",
             "gridcolor": "white",
             "linecolor": "white",
             "minorgridcolor": "white",
             "startlinecolor": "#2a3f5f"
            },
            "type": "carpet"
           }
          ],
          "choropleth": [
           {
            "colorbar": {
             "outlinewidth": 0,
             "ticks": ""
            },
            "type": "choropleth"
           }
          ],
          "contour": [
           {
            "colorbar": {
             "outlinewidth": 0,
             "ticks": ""
            },
            "colorscale": [
             [
              0,
              "#0d0887"
             ],
             [
              0.1111111111111111,
              "#46039f"
             ],
             [
              0.2222222222222222,
              "#7201a8"
             ],
             [
              0.3333333333333333,
              "#9c179e"
             ],
             [
              0.4444444444444444,
              "#bd3786"
             ],
             [
              0.5555555555555556,
              "#d8576b"
             ],
             [
              0.6666666666666666,
              "#ed7953"
             ],
             [
              0.7777777777777778,
              "#fb9f3a"
             ],
             [
              0.8888888888888888,
              "#fdca26"
             ],
             [
              1,
              "#f0f921"
             ]
            ],
            "type": "contour"
           }
          ],
          "contourcarpet": [
           {
            "colorbar": {
             "outlinewidth": 0,
             "ticks": ""
            },
            "type": "contourcarpet"
           }
          ],
          "heatmap": [
           {
            "colorbar": {
             "outlinewidth": 0,
             "ticks": ""
            },
            "colorscale": [
             [
              0,
              "#0d0887"
             ],
             [
              0.1111111111111111,
              "#46039f"
             ],
             [
              0.2222222222222222,
              "#7201a8"
             ],
             [
              0.3333333333333333,
              "#9c179e"
             ],
             [
              0.4444444444444444,
              "#bd3786"
             ],
             [
              0.5555555555555556,
              "#d8576b"
             ],
             [
              0.6666666666666666,
              "#ed7953"
             ],
             [
              0.7777777777777778,
              "#fb9f3a"
             ],
             [
              0.8888888888888888,
              "#fdca26"
             ],
             [
              1,
              "#f0f921"
             ]
            ],
            "type": "heatmap"
           }
          ],
          "heatmapgl": [
           {
            "colorbar": {
             "outlinewidth": 0,
             "ticks": ""
            },
            "colorscale": [
             [
              0,
              "#0d0887"
             ],
             [
              0.1111111111111111,
              "#46039f"
             ],
             [
              0.2222222222222222,
              "#7201a8"
             ],
             [
              0.3333333333333333,
              "#9c179e"
             ],
             [
              0.4444444444444444,
              "#bd3786"
             ],
             [
              0.5555555555555556,
              "#d8576b"
             ],
             [
              0.6666666666666666,
              "#ed7953"
             ],
             [
              0.7777777777777778,
              "#fb9f3a"
             ],
             [
              0.8888888888888888,
              "#fdca26"
             ],
             [
              1,
              "#f0f921"
             ]
            ],
            "type": "heatmapgl"
           }
          ],
          "histogram": [
           {
            "marker": {
             "pattern": {
              "fillmode": "overlay",
              "size": 10,
              "solidity": 0.2
             }
            },
            "type": "histogram"
           }
          ],
          "histogram2d": [
           {
            "colorbar": {
             "outlinewidth": 0,
             "ticks": ""
            },
            "colorscale": [
             [
              0,
              "#0d0887"
             ],
             [
              0.1111111111111111,
              "#46039f"
             ],
             [
              0.2222222222222222,
              "#7201a8"
             ],
             [
              0.3333333333333333,
              "#9c179e"
             ],
             [
              0.4444444444444444,
              "#bd3786"
             ],
             [
              0.5555555555555556,
              "#d8576b"
             ],
             [
              0.6666666666666666,
              "#ed7953"
             ],
             [
              0.7777777777777778,
              "#fb9f3a"
             ],
             [
              0.8888888888888888,
              "#fdca26"
             ],
             [
              1,
              "#f0f921"
             ]
            ],
            "type": "histogram2d"
           }
          ],
          "histogram2dcontour": [
           {
            "colorbar": {
             "outlinewidth": 0,
             "ticks": ""
            },
            "colorscale": [
             [
              0,
              "#0d0887"
             ],
             [
              0.1111111111111111,
              "#46039f"
             ],
             [
              0.2222222222222222,
              "#7201a8"
             ],
             [
              0.3333333333333333,
              "#9c179e"
             ],
             [
              0.4444444444444444,
              "#bd3786"
             ],
             [
              0.5555555555555556,
              "#d8576b"
             ],
             [
              0.6666666666666666,
              "#ed7953"
             ],
             [
              0.7777777777777778,
              "#fb9f3a"
             ],
             [
              0.8888888888888888,
              "#fdca26"
             ],
             [
              1,
              "#f0f921"
             ]
            ],
            "type": "histogram2dcontour"
           }
          ],
          "mesh3d": [
           {
            "colorbar": {
             "outlinewidth": 0,
             "ticks": ""
            },
            "type": "mesh3d"
           }
          ],
          "parcoords": [
           {
            "line": {
             "colorbar": {
              "outlinewidth": 0,
              "ticks": ""
             }
            },
            "type": "parcoords"
           }
          ],
          "pie": [
           {
            "automargin": true,
            "type": "pie"
           }
          ],
          "scatter": [
           {
            "fillpattern": {
             "fillmode": "overlay",
             "size": 10,
             "solidity": 0.2
            },
            "type": "scatter"
           }
          ],
          "scatter3d": [
           {
            "line": {
             "colorbar": {
              "outlinewidth": 0,
              "ticks": ""
             }
            },
            "marker": {
             "colorbar": {
              "outlinewidth": 0,
              "ticks": ""
             }
            },
            "type": "scatter3d"
           }
          ],
          "scattercarpet": [
           {
            "marker": {
             "colorbar": {
              "outlinewidth": 0,
              "ticks": ""
             }
            },
            "type": "scattercarpet"
           }
          ],
          "scattergeo": [
           {
            "marker": {
             "colorbar": {
              "outlinewidth": 0,
              "ticks": ""
             }
            },
            "type": "scattergeo"
           }
          ],
          "scattergl": [
           {
            "marker": {
             "colorbar": {
              "outlinewidth": 0,
              "ticks": ""
             }
            },
            "type": "scattergl"
           }
          ],
          "scattermapbox": [
           {
            "marker": {
             "colorbar": {
              "outlinewidth": 0,
              "ticks": ""
             }
            },
            "type": "scattermapbox"
           }
          ],
          "scatterpolar": [
           {
            "marker": {
             "colorbar": {
              "outlinewidth": 0,
              "ticks": ""
             }
            },
            "type": "scatterpolar"
           }
          ],
          "scatterpolargl": [
           {
            "marker": {
             "colorbar": {
              "outlinewidth": 0,
              "ticks": ""
             }
            },
            "type": "scatterpolargl"
           }
          ],
          "scatterternary": [
           {
            "marker": {
             "colorbar": {
              "outlinewidth": 0,
              "ticks": ""
             }
            },
            "type": "scatterternary"
           }
          ],
          "surface": [
           {
            "colorbar": {
             "outlinewidth": 0,
             "ticks": ""
            },
            "colorscale": [
             [
              0,
              "#0d0887"
             ],
             [
              0.1111111111111111,
              "#46039f"
             ],
             [
              0.2222222222222222,
              "#7201a8"
             ],
             [
              0.3333333333333333,
              "#9c179e"
             ],
             [
              0.4444444444444444,
              "#bd3786"
             ],
             [
              0.5555555555555556,
              "#d8576b"
             ],
             [
              0.6666666666666666,
              "#ed7953"
             ],
             [
              0.7777777777777778,
              "#fb9f3a"
             ],
             [
              0.8888888888888888,
              "#fdca26"
             ],
             [
              1,
              "#f0f921"
             ]
            ],
            "type": "surface"
           }
          ],
          "table": [
           {
            "cells": {
             "fill": {
              "color": "#EBF0F8"
             },
             "line": {
              "color": "white"
             }
            },
            "header": {
             "fill": {
              "color": "#C8D4E3"
             },
             "line": {
              "color": "white"
             }
            },
            "type": "table"
           }
          ]
         },
         "layout": {
          "annotationdefaults": {
           "arrowcolor": "#2a3f5f",
           "arrowhead": 0,
           "arrowwidth": 1
          },
          "autotypenumbers": "strict",
          "coloraxis": {
           "colorbar": {
            "outlinewidth": 0,
            "ticks": ""
           }
          },
          "colorscale": {
           "diverging": [
            [
             0,
             "#8e0152"
            ],
            [
             0.1,
             "#c51b7d"
            ],
            [
             0.2,
             "#de77ae"
            ],
            [
             0.3,
             "#f1b6da"
            ],
            [
             0.4,
             "#fde0ef"
            ],
            [
             0.5,
             "#f7f7f7"
            ],
            [
             0.6,
             "#e6f5d0"
            ],
            [
             0.7,
             "#b8e186"
            ],
            [
             0.8,
             "#7fbc41"
            ],
            [
             0.9,
             "#4d9221"
            ],
            [
             1,
             "#276419"
            ]
           ],
           "sequential": [
            [
             0,
             "#0d0887"
            ],
            [
             0.1111111111111111,
             "#46039f"
            ],
            [
             0.2222222222222222,
             "#7201a8"
            ],
            [
             0.3333333333333333,
             "#9c179e"
            ],
            [
             0.4444444444444444,
             "#bd3786"
            ],
            [
             0.5555555555555556,
             "#d8576b"
            ],
            [
             0.6666666666666666,
             "#ed7953"
            ],
            [
             0.7777777777777778,
             "#fb9f3a"
            ],
            [
             0.8888888888888888,
             "#fdca26"
            ],
            [
             1,
             "#f0f921"
            ]
           ],
           "sequentialminus": [
            [
             0,
             "#0d0887"
            ],
            [
             0.1111111111111111,
             "#46039f"
            ],
            [
             0.2222222222222222,
             "#7201a8"
            ],
            [
             0.3333333333333333,
             "#9c179e"
            ],
            [
             0.4444444444444444,
             "#bd3786"
            ],
            [
             0.5555555555555556,
             "#d8576b"
            ],
            [
             0.6666666666666666,
             "#ed7953"
            ],
            [
             0.7777777777777778,
             "#fb9f3a"
            ],
            [
             0.8888888888888888,
             "#fdca26"
            ],
            [
             1,
             "#f0f921"
            ]
           ]
          },
          "colorway": [
           "#636efa",
           "#EF553B",
           "#00cc96",
           "#ab63fa",
           "#FFA15A",
           "#19d3f3",
           "#FF6692",
           "#B6E880",
           "#FF97FF",
           "#FECB52"
          ],
          "font": {
           "color": "#2a3f5f"
          },
          "geo": {
           "bgcolor": "white",
           "lakecolor": "white",
           "landcolor": "#E5ECF6",
           "showlakes": true,
           "showland": true,
           "subunitcolor": "white"
          },
          "hoverlabel": {
           "align": "left"
          },
          "hovermode": "closest",
          "mapbox": {
           "style": "light"
          },
          "paper_bgcolor": "white",
          "plot_bgcolor": "#E5ECF6",
          "polar": {
           "angularaxis": {
            "gridcolor": "white",
            "linecolor": "white",
            "ticks": ""
           },
           "bgcolor": "#E5ECF6",
           "radialaxis": {
            "gridcolor": "white",
            "linecolor": "white",
            "ticks": ""
           }
          },
          "scene": {
           "xaxis": {
            "backgroundcolor": "#E5ECF6",
            "gridcolor": "white",
            "gridwidth": 2,
            "linecolor": "white",
            "showbackground": true,
            "ticks": "",
            "zerolinecolor": "white"
           },
           "yaxis": {
            "backgroundcolor": "#E5ECF6",
            "gridcolor": "white",
            "gridwidth": 2,
            "linecolor": "white",
            "showbackground": true,
            "ticks": "",
            "zerolinecolor": "white"
           },
           "zaxis": {
            "backgroundcolor": "#E5ECF6",
            "gridcolor": "white",
            "gridwidth": 2,
            "linecolor": "white",
            "showbackground": true,
            "ticks": "",
            "zerolinecolor": "white"
           }
          },
          "shapedefaults": {
           "line": {
            "color": "#2a3f5f"
           }
          },
          "ternary": {
           "aaxis": {
            "gridcolor": "white",
            "linecolor": "white",
            "ticks": ""
           },
           "baxis": {
            "gridcolor": "white",
            "linecolor": "white",
            "ticks": ""
           },
           "bgcolor": "#E5ECF6",
           "caxis": {
            "gridcolor": "white",
            "linecolor": "white",
            "ticks": ""
           }
          },
          "title": {
           "x": 0.05
          },
          "xaxis": {
           "automargin": true,
           "gridcolor": "white",
           "linecolor": "white",
           "ticks": "",
           "title": {
            "standoff": 15
           },
           "zerolinecolor": "white",
           "zerolinewidth": 2
          },
          "yaxis": {
           "automargin": true,
           "gridcolor": "white",
           "linecolor": "white",
           "ticks": "",
           "title": {
            "standoff": 15
           },
           "zerolinecolor": "white",
           "zerolinewidth": 2
          }
         }
        },
        "title": {
         "text": "Customer Segment Distribution"
        }
       }
      }
     },
     "metadata": {},
     "output_type": "display_data"
    }
   ],
   "source": [
    "# Save RFM results\n",
    "rfm.to_csv('../data/rfm_table.csv', index=False)\n",
    "\n",
    "# RFM visualization - 3D scatter plot\n",
    "fig = px.scatter_3d(rfm, \n",
    "                    x='Recency', \n",
    "                    y='Frequency', \n",
    "                    z='Monetary',\n",
    "                    color='Customer_Segment',\n",
    "                    hover_data=['Customer Name'],\n",
    "                    title='RFM Customer Segmentation (3D View)',\n",
    "                    labels={'Recency': 'Recency (Days)',\n",
    "                           'Frequency': 'Frequency (Orders)',\n",
    "                           'Monetary': 'Monetary Value ($)'})\n",
    "\n",
    "fig.update_layout(height=600)\n",
    "fig.show()\n",
    "\n",
    "fig.write_html('../visuals/rfm_3d_segmentation.html')\n",
    "\n",
    "# 2D RFM heatmap\n",
    "rfm_pivot = rfm.pivot_table(values='Customer ID', \n",
    "                           index='F_Score', \n",
    "                           columns='R_Score', \n",
    "                           aggfunc='count', \n",
    "                           fill_value=0)\n",
    "\n",
    "plt.figure(figsize=(10, 8))\n",
    "sns.heatmap(rfm_pivot, annot=True, fmt='d', cmap='YlOrRd')\n",
    "plt.title('RFM Segments Distribution (Frequency vs Recency)')\n",
    "plt.xlabel('Recency Score')\n",
    "plt.ylabel('Frequency Score')\n",
    "plt.tight_layout()\n",
    "plt.savefig('../visuals/rfm_heatmap.png', dpi=300, bbox_inches='tight')\n",
    "plt.show()\n",
    "\n",
    "# Segment distribution pie chart\n",
    "fig = px.pie(segment_summary.reset_index(), \n",
    "             values='Count', \n",
    "             names='Customer_Segment',\n",
    "             title='Customer Segment Distribution')\n",
    "\n",
    "fig.update_traces(textposition='inside', textinfo='percent+label')\n",
    "fig.update_layout(height=500)\n",
    "fig.show()\n",
    "\n",
    "fig.write_html('../visuals/customer_segments_pie.html')\n",
    "fig.write_image('../visuals/customer_segments_pie.png', width=800, height=500)"
   ]
  },
  {
   "cell_type": "markdown",
   "metadata": {},
   "source": [
    "## 7. Cohort Analysis"
   ]
  },
  {
   "cell_type": "code",
   "execution_count": 13,
   "metadata": {},
   "outputs": [
    {
     "data": {
      "image/png": "[encoded data removed]",
      "text/plain": [
       "<Figure size 1500x800 with 2 Axes>"
      ]
     },
     "metadata": {},
     "output_type": "display_data"
    },
    {
     "data": {
      "image/png": "[encoded data removed]",
      "text/plain": [
       "<Figure size 1200x600 with 1 Axes>"
      ]
     },
     "metadata": {},
     "output_type": "display_data"
    },
    {
     "name": "stdout",
     "output_type": "stream",
     "text": [
      "Average retention rates by month:\n",
      "Month 0: 100.0%\n",
      "Month 1: 15.2%\n",
      "Month 2: 17.8%\n",
      "Month 3: 17.2%\n",
      "Month 4: 15.6%\n",
      "Month 5: 14.5%\n"
     ]
    }
   ],
   "source": [
    "# Cohort analysis\n",
    "df['Order_Month'] = df['Order Date'].dt.to_period('M')\n",
    "\n",
    "# Get first purchase month for each customer\n",
    "cohort_data = df.groupby('Customer ID')['Order_Month'].min().reset_index()\n",
    "cohort_data.columns = ['Customer ID', 'Cohort_Month']\n",
    "\n",
    "# Merge back with main dataframe\n",
    "df_cohort = df.merge(cohort_data, on='Customer ID')\n",
    "\n",
    "# Calculate months since first purchase\n",
    "df_cohort['Months_Since_First_Purchase'] = (\n",
    "    df_cohort['Order_Month'] - df_cohort['Cohort_Month']\n",
    ").apply(lambda x: x.n)\n",
    "\n",
    "# Create cohort table\n",
    "cohort_table = df_cohort.pivot_table(\n",
    "    index='Cohort_Month',\n",
    "    columns='Months_Since_First_Purchase',\n",
    "    values='Customer ID',\n",
    "    aggfunc='nunique'\n",
    ").fillna(0)\n",
    "\n",
    "# Calculate retention rates\n",
    "cohort_sizes = cohort_table.iloc[:, 0]\n",
    "retention_table = cohort_table.divide(cohort_sizes, axis=0)\n",
    "\n",
    "# Visualize cohort retention\n",
    "plt.figure(figsize=(15, 8))\n",
    "sns.heatmap(retention_table.iloc[:, :12], \n",
    "            annot=True, \n",
    "            fmt='.2%', \n",
    "            cmap='YlOrRd',\n",
    "            cbar_kws={'label': 'Retention Rate'})\n",
    "plt.title('Cohort Retention Rates (Monthly)')\n",
    "plt.xlabel('Months Since First Purchase')\n",
    "plt.ylabel('Cohort Month')\n",
    "plt.tight_layout()\n",
    "plt.savefig('../visuals/cohort_retention.png', dpi=300, bbox_inches='tight')\n",
    "plt.show()\n",
    "\n",
    "# Average retention by month\n",
    "avg_retention = retention_table.mean().iloc[:12]\n",
    "plt.figure(figsize=(12, 6))\n",
    "avg_retention.plot(kind='line', marker='o', linewidth=2, markersize=8)\n",
    "plt.title('Average Customer Retention Rate by Month')\n",
    "plt.xlabel('Months Since First Purchase')\n",
    "plt.ylabel('Retention Rate')\n",
    "plt.gca().yaxis.set_major_formatter(plt.FuncFormatter(lambda y, _: '{:.0%}'.format(y)))\n",
    "plt.grid(True, alpha=0.3)\n",
    "plt.tight_layout()\n",
    "plt.savefig('../visuals/avg_retention_curve.png', dpi=300, bbox_inches='tight')\n",
    "plt.show()\n",
    "\n",
    "print(\"Average retention rates by month:\")\n",
    "for i, rate in enumerate(avg_retention.iloc[:6]):\n",
    "    print(f\"Month {i}: {rate:.1%}\")"
   ]
  },
  {
   "cell_type": "markdown",
   "metadata": {},
   "source": [
    "## 8. Seasonal Trends Analysis"
   ]
  },
  {
   "cell_type": "code",
   "execution_count": 14,
   "metadata": {},
   "outputs": [
    {
     "data": {
      "application/vnd.plotly.v1+json": {
       "config": {
        "plotlyServerURL": "https://plot.ly"
       },
       "data": [
        {
         "marker": {
          "color": "lightblue"
         },
         "name": "Monthly Sales",
         "type": "bar",
         "x": [
          "January",
          "February",
          "March",
          "April",
          "May",
          "June",
          "July",
          "August",
          "September",
          "October",
          "November",
          "December"
         ],
         "xaxis": "x",
         "y": [
          675133.67214,
          543739.37992,
          770500.94126,
          698561.21184,
          904012.33818,
          1269716.75364,
          749381.83672,
          1293833.16532,
          1437380.11036,
          1168184.38628,
          1551277.34152,
          1580780.7727
         ],
         "yaxis": "y"
        },
        {
         "marker": {
          "color": "lightcoral"
         },
         "name": "Weekly Sales",
         "type": "bar",
         "x": [
          "Monday",
          "Tuesday",
          "Wednesday",
          "Thursday",
          "Friday",
          "Saturday",
          "Sunday"
         ],
         "xaxis": "x2",
         "y": [
          2235913.41906,
          2268417.17012,
          2169218.45346,
          2245836.63892,
          2322847.86744,
          1177963.89766,
          222304.46322
         ],
         "yaxis": "y2"
        }
       ],
       "layout": {
        "annotations": [
         {
          "font": {
           "size": 16
          },
          "showarrow": false,
          "text": "Monthly Sales Pattern",
          "x": 0.5,
          "xanchor": "center",
          "xref": "paper",
          "y": 1,
          "yanchor": "bottom",
          "yref": "paper"
         },
         {
          "font": {
           "size": 16
          },
          "showarrow": false,
          "text": "Weekly Sales Pattern",
          "x": 0.5,
          "xanchor": "center",
          "xref": "paper",
          "y": 0.375,
          "yanchor": "bottom",
          "yref": "paper"
         }
        ],
        "height": 600,
        "showlegend": false,
        "template": {
         "data": {
          "bar": [
           {
            "error_x": {
             "color": "#2a3f5f"
            },
            "error_y": {
             "color": "#2a3f5f"
            },
            "marker": {
             "line": {
              "color": "#E5ECF6",
              "width": 0.5
             },
             "pattern": {
              "fillmode": "overlay",
              "size": 10,
              "solidity": 0.2
             }
            },
            "type": "bar"
           }
          ],
          "barpolar": [
           {
            "marker": {
             "line": {
              "color": "#E5ECF6",
              "width": 0.5
             },
             "pattern": {
              "fillmode": "overlay",
              "size": 10,
              "solidity": 0.2
             }
            },
            "type": "barpolar"
           }
          ],
          "carpet": [
           {
            "aaxis": {
             "endlinecolor": "#2a3f5f",
             "gridcolor": "white",
             "linecolor": "white",
             "minorgridcolor": "white",
             "startlinecolor": "#2a3f5f"
            },
            "baxis": {
             "endlinecolor": "#2a3f5f",
             "gridcolor": "white",
             "linecolor": "white",
             "minorgridcolor": "white",
             "startlinecolor": "#2a3f5f"
            },
            "type": "carpet"
           }
          ],
          "choropleth": [
           {
            "colorbar": {
             "outlinewidth": 0,
             "ticks": ""
            },
            "type": "choropleth"
           }
          ],
          "contour": [
           {
            "colorbar": {
             "outlinewidth": 0,
             "ticks": ""
            },
            "colorscale": [
             [
              0,
              "#0d0887"
             ],
             [
              0.1111111111111111,
              "#46039f"
             ],
             [
              0.2222222222222222,
              "#7201a8"
             ],
             [
              0.3333333333333333,
              "#9c179e"
             ],
             [
              0.4444444444444444,
              "#bd3786"
             ],
             [
              0.5555555555555556,
              "#d8576b"
             ],
             [
              0.6666666666666666,
              "#ed7953"
             ],
             [
              0.7777777777777778,
              "#fb9f3a"
             ],
             [
              0.8888888888888888,
              "#fdca26"
             ],
             [
              1,
              "#f0f921"
             ]
            ],
            "type": "contour"
           }
          ],
          "contourcarpet": [
           {
            "colorbar": {
             "outlinewidth": 0,
             "ticks": ""
            },
            "type": "contourcarpet"
           }
          ],
          "heatmap": [
           {
            "colorbar": {
             "outlinewidth": 0,
             "ticks": ""
            },
            "colorscale": [
             [
              0,
              "#0d0887"
             ],
             [
              0.1111111111111111,
              "#46039f"
             ],
             [
              0.2222222222222222,
              "#7201a8"
             ],
             [
              0.3333333333333333,
              "#9c179e"
             ],
             [
              0.4444444444444444,
              "#bd3786"
             ],
             [
              0.5555555555555556,
              "#d8576b"
             ],
             [
              0.6666666666666666,
              "#ed7953"
             ],
             [
              0.7777777777777778,
              "#fb9f3a"
             ],
             [
              0.8888888888888888,
              "#fdca26"
             ],
             [
              1,
              "#f0f921"
             ]
            ],
            "type": "heatmap"
           }
          ],
          "heatmapgl": [
           {
            "colorbar": {
             "outlinewidth": 0,
             "ticks": ""
            },
            "colorscale": [
             [
              0,
              "#0d0887"
             ],
             [
              0.1111111111111111,
              "#46039f"
             ],
             [
              0.2222222222222222,
              "#7201a8"
             ],
             [
              0.3333333333333333,
              "#9c179e"
             ],
             [
              0.4444444444444444,
              "#bd3786"
             ],
             [
              0.5555555555555556,
              "#d8576b"
             ],
             [
              0.6666666666666666,
              "#ed7953"
             ],
             [
              0.7777777777777778,
              "#fb9f3a"
             ],
             [
              0.8888888888888888,
              "#fdca26"
             ],
             [
              1,
              "#f0f921"
             ]
            ],
            "type": "heatmapgl"
           }
          ],
          "histogram": [
           {
            "marker": {
             "pattern": {
              "fillmode": "overlay",
              "size": 10,
              "solidity": 0.2
             }
            },
            "type": "histogram"
           }
          ],
          "histogram2d": [
           {
            "colorbar": {
             "outlinewidth": 0,
             "ticks": ""
            },
            "colorscale": [
             [
              0,
              "#0d0887"
             ],
             [
              0.1111111111111111,
              "#46039f"
             ],
             [
              0.2222222222222222,
              "#7201a8"
             ],
             [
              0.3333333333333333,
              "#9c179e"
             ],
             [
              0.4444444444444444,
              "#bd3786"
             ],
             [
              0.5555555555555556,
              "#d8576b"
             ],
             [
              0.6666666666666666,
              "#ed7953"
             ],
             [
              0.7777777777777778,
              "#fb9f3a"
             ],
             [
              0.8888888888888888,
              "#fdca26"
             ],
             [
              1,
              "#f0f921"
             ]
            ],
            "type": "histogram2d"
           }
          ],
          "histogram2dcontour": [
           {
            "colorbar": {
             "outlinewidth": 0,
             "ticks": ""
            },
            "colorscale": [
             [
              0,
              "#0d0887"
             ],
             [
              0.1111111111111111,
              "#46039f"
             ],
             [
              0.2222222222222222,
              "#7201a8"
             ],
             [
              0.3333333333333333,
              "#9c179e"
             ],
             [
              0.4444444444444444,
              "#bd3786"
             ],
             [
              0.5555555555555556,
              "#d8576b"
             ],
             [
              0.6666666666666666,
              "#ed7953"
             ],
             [
              0.7777777777777778,
              "#fb9f3a"
             ],
             [
              0.8888888888888888,
              "#fdca26"
             ],
             [
              1,
              "#f0f921"
             ]
            ],
            "type": "histogram2dcontour"
           }
          ],
          "mesh3d": [
           {
            "colorbar": {
             "outlinewidth": 0,
             "ticks": ""
            },
            "type": "mesh3d"
           }
          ],
          "parcoords": [
           {
            "line": {
             "colorbar": {
              "outlinewidth": 0,
              "ticks": ""
             }
            },
            "type": "parcoords"
           }
          ],
          "pie": [
           {
            "automargin": true,
            "type": "pie"
           }
          ],
          "scatter": [
           {
            "fillpattern": {
             "fillmode": "overlay",
             "size": 10,
             "solidity": 0.2
            },
            "type": "scatter"
           }
          ],
          "scatter3d": [
           {
            "line": {
             "colorbar": {
              "outlinewidth": 0,
              "ticks": ""
             }
            },
            "marker": {
             "colorbar": {
              "outlinewidth": 0,
              "ticks": ""
             }
            },
            "type": "scatter3d"
           }
          ],
          "scattercarpet": [
           {
            "marker": {
             "colorbar": {
              "outlinewidth": 0,
              "ticks": ""
             }
            },
            "type": "scattercarpet"
           }
          ],
          "scattergeo": [
           {
            "marker": {
             "colorbar": {
              "outlinewidth": 0,
              "ticks": ""
             }
            },
            "type": "scattergeo"
           }
          ],
          "scattergl": [
           {
            "marker": {
             "colorbar": {
              "outlinewidth": 0,
              "ticks": ""
             }
            },
            "type": "scattergl"
           }
          ],
          "scattermapbox": [
           {
            "marker": {
             "colorbar": {
              "outlinewidth": 0,
              "ticks": ""
             }
            },
            "type": "scattermapbox"
           }
          ],
          "scatterpolar": [
           {
            "marker": {
             "colorbar": {
              "outlinewidth": 0,
              "ticks": ""
             }
            },
            "type": "scatterpolar"
           }
          ],
          "scatterpolargl": [
           {
            "marker": {
             "colorbar": {
              "outlinewidth": 0,
              "ticks": ""
             }
            },
            "type": "scatterpolargl"
           }
          ],
          "scatterternary": [
           {
            "marker": {
             "colorbar": {
              "outlinewidth": 0,
              "ticks": ""
             }
            },
            "type": "scatterternary"
           }
          ],
          "surface": [
           {
            "colorbar": {
             "outlinewidth": 0,
             "ticks": ""
            },
            "colorscale": [
             [
              0,
              "#0d0887"
             ],
             [
              0.1111111111111111,
              "#46039f"
             ],
             [
              0.2222222222222222,
              "#7201a8"
             ],
             [
              0.3333333333333333,
              "#9c179e"
             ],
             [
              0.4444444444444444,
              "#bd3786"
             ],
             [
              0.5555555555555556,
              "#d8576b"
             ],
             [
              0.6666666666666666,
              "#ed7953"
             ],
             [
              0.7777777777777778,
              "#fb9f3a"
             ],
             [
              0.8888888888888888,
              "#fdca26"
             ],
             [
              1,
              "#f0f921"
             ]
            ],
            "type": "surface"
           }
          ],
          "table": [
           {
            "cells": {
             "fill": {
              "color": "#EBF0F8"
             },
             "line": {
              "color": "white"
             }
            },
            "header": {
             "fill": {
              "color": "#C8D4E3"
             },
             "line": {
              "color": "white"
             }
            },
            "type": "table"
           }
          ]
         },
         "layout": {
          "annotationdefaults": {
           "arrowcolor": "#2a3f5f",
           "arrowhead": 0,
           "arrowwidth": 1
          },
          "autotypenumbers": "strict",
          "coloraxis": {
           "colorbar": {
            "outlinewidth": 0,
            "ticks": ""
           }
          },
          "colorscale": {
           "diverging": [
            [
             0,
             "#8e0152"
            ],
            [
             0.1,
             "#c51b7d"
            ],
            [
             0.2,
             "#de77ae"
            ],
            [
             0.3,
             "#f1b6da"
            ],
            [
             0.4,
             "#fde0ef"
            ],
            [
             0.5,
             "#f7f7f7"
            ],
            [
             0.6,
             "#e6f5d0"
            ],
            [
             0.7,
             "#b8e186"
            ],
            [
             0.8,
             "#7fbc41"
            ],
            [
             0.9,
             "#4d9221"
            ],
            [
             1,
             "#276419"
            ]
           ],
           "sequential": [
            [
             0,
             "#0d0887"
            ],
            [
             0.1111111111111111,
             "#46039f"
            ],
            [
             0.2222222222222222,
             "#7201a8"
            ],
            [
             0.3333333333333333,
             "#9c179e"
            ],
            [
             0.4444444444444444,
             "#bd3786"
            ],
            [
             0.5555555555555556,
             "#d8576b"
            ],
            [
             0.6666666666666666,
             "#ed7953"
            ],
            [
             0.7777777777777778,
             "#fb9f3a"
            ],
            [
             0.8888888888888888,
             "#fdca26"
            ],
            [
             1,
             "#f0f921"
            ]
           ],
           "sequentialminus": [
            [
             0,
             "#0d0887"
            ],
            [
             0.1111111111111111,
             "#46039f"
            ],
            [
             0.2222222222222222,
             "#7201a8"
            ],
            [
             0.3333333333333333,
             "#9c179e"
            ],
            [
             0.4444444444444444,
             "#bd3786"
            ],
            [
             0.5555555555555556,
             "#d8576b"
            ],
            [
             0.6666666666666666,
             "#ed7953"
            ],
            [
             0.7777777777777778,
             "#fb9f3a"
            ],
            [
             0.8888888888888888,
             "#fdca26"
            ],
            [
             1,
             "#f0f921"
            ]
           ]
          },
          "colorway": [
           "#636efa",
           "#EF553B",
           "#00cc96",
           "#ab63fa",
           "#FFA15A",
           "#19d3f3",
           "#FF6692",
           "#B6E880",
           "#FF97FF",
           "#FECB52"
          ],
          "font": {
           "color": "#2a3f5f"
          },
          "geo": {
           "bgcolor": "white",
           "lakecolor": "white",
           "landcolor": "#E5ECF6",
           "showlakes": true,
           "showland": true,
           "subunitcolor": "white"
          },
          "hoverlabel": {
           "align": "left"
          },
          "hovermode": "closest",
          "mapbox": {
           "style": "light"
          },
          "paper_bgcolor": "white",
          "plot_bgcolor": "#E5ECF6",
          "polar": {
           "angularaxis": {
            "gridcolor": "white",
            "linecolor": "white",
            "ticks": ""
           },
           "bgcolor": "#E5ECF6",
           "radialaxis": {
            "gridcolor": "white",
            "linecolor": "white",
            "ticks": ""
           }
          },
          "scene": {
           "xaxis": {
            "backgroundcolor": "#E5ECF6",
            "gridcolor": "white",
            "gridwidth": 2,
            "linecolor": "white",
            "showbackground": true,
            "ticks": "",
            "zerolinecolor": "white"
           },
           "yaxis": {
            "backgroundcolor": "#E5ECF6",
            "gridcolor": "white",
            "gridwidth": 2,
            "linecolor": "white",
            "showbackground": true,
            "ticks": "",
            "zerolinecolor": "white"
           },
           "zaxis": {
            "backgroundcolor": "#E5ECF6",
            "gridcolor": "white",
            "gridwidth": 2,
            "linecolor": "white",
            "showbackground": true,
            "ticks": "",
            "zerolinecolor": "white"
           }
          },
          "shapedefaults": {
           "line": {
            "color": "#2a3f5f"
           }
          },
          "ternary": {
           "aaxis": {
            "gridcolor": "white",
            "linecolor": "white",
            "ticks": ""
           },
           "baxis": {
            "gridcolor": "white",
            "linecolor": "white",
            "ticks": ""
           },
           "bgcolor": "#E5ECF6",
           "caxis": {
            "gridcolor": "white",
            "linecolor": "white",
            "ticks": ""
           }
          },
          "title": {
           "x": 0.05
          },
          "xaxis": {
           "automargin": true,
           "gridcolor": "white",
           "linecolor": "white",
           "ticks": "",
           "title": {
            "standoff": 15
           },
           "zerolinecolor": "white",
           "zerolinewidth": 2
          },
          "yaxis": {
           "automargin": true,
           "gridcolor": "white",
           "linecolor": "white",
           "ticks": "",
           "title": {
            "standoff": 15
           },
           "zerolinecolor": "white",
           "zerolinewidth": 2
          }
         }
        },
        "title": {
         "text": "Seasonal Sales Patterns"
        },
        "xaxis": {
         "anchor": "y",
         "domain": [
          0,
          1
         ]
        },
        "xaxis2": {
         "anchor": "y2",
         "domain": [
          0,
          1
         ]
        },
        "yaxis": {
         "anchor": "x",
         "domain": [
          0.625,
          1
         ]
        },
        "yaxis2": {
         "anchor": "x2",
         "domain": [
          0,
          0.375
         ]
        }
       }
      }
     },
     "metadata": {},
     "output_type": "display_data"
    },
    {
     "name": "stdout",
     "output_type": "stream",
     "text": [
      "Top 3 months by sales:\n",
      "                   Sales  Order ID\n",
      "Month_Name                        \n",
      "December    1.580781e+06      3166\n",
      "November    1.551277e+06      3145\n",
      "September   1.437380e+06      3021\n",
      "\n",
      "Top 3 days by sales:\n",
      "                 Sales  Order ID\n",
      "Day_Name                        \n",
      "Friday    2.322848e+06      4608\n",
      "Tuesday   2.268417e+06      4632\n",
      "Thursday  2.245837e+06      4433\n"
     ]
    }
   ],
   "source": [
    "# Seasonal analysis\n",
    "df['Month'] = df['Order Date'].dt.month\n",
    "df['Quarter'] = df['Order Date'].dt.quarter\n",
    "df['Day_of_Week'] = df['Order Date'].dt.dayofweek\n",
    "df['Month_Name'] = df['Order Date'].dt.month_name()\n",
    "df['Day_Name'] = df['Order Date'].dt.day_name()\n",
    "\n",
    "# Monthly seasonality\n",
    "monthly_sales = df.groupby('Month_Name').agg({\n",
    "    'Sales': 'sum',\n",
    "    'Order ID': 'nunique'\n",
    "}).reindex(['January', 'February', 'March', 'April', 'May', 'June',\n",
    "           'July', 'August', 'September', 'October', 'November', 'December'])\n",
    "\n",
    "# Weekly seasonality\n",
    "weekly_sales = df.groupby('Day_Name').agg({\n",
    "    'Sales': 'sum',\n",
    "    'Order ID': 'nunique'\n",
    "}).reindex(['Monday', 'Tuesday', 'Wednesday', 'Thursday', 'Friday', 'Saturday', 'Sunday'])\n",
    "\n",
    "# Create seasonal plots\n",
    "fig = make_subplots(\n",
    "    rows=2, cols=1,\n",
    "    subplot_titles=('Monthly Sales Pattern', 'Weekly Sales Pattern')\n",
    ")\n",
    "\n",
    "# Monthly pattern\n",
    "fig.add_trace(\n",
    "    go.Bar(x=monthly_sales.index, y=monthly_sales['Sales'], \n",
    "           name='Monthly Sales', marker_color='lightblue'),\n",
    "    row=1, col=1\n",
    ")\n",
    "\n",
    "# Weekly pattern\n",
    "fig.add_trace(\n",
    "    go.Bar(x=weekly_sales.index, y=weekly_sales['Sales'], \n",
    "           name='Weekly Sales', marker_color='lightcoral'),\n",
    "    row=2, col=1\n",
    ")\n",
    "\n",
    "fig.update_layout(height=600, title_text=\"Seasonal Sales Patterns\", showlegend=False)\n",
    "fig.show()\n",
    "\n",
    "fig.write_html('../visuals/seasonal_patterns.html')\n",
    "fig.write_image('../visuals/seasonal_patterns.png', width=1200, height=600)\n",
    "\n",
    "print(\"Top 3 months by sales:\")\n",
    "print(monthly_sales.sort_values('Sales', ascending=False).head(3))\n",
    "\n",
    "print(\"\\nTop 3 days by sales:\")\n",
    "print(weekly_sales.sort_values('Sales', ascending=False).head(3))"
   ]
  },
  {
   "cell_type": "markdown",
   "metadata": {},
   "source": [
    "## 9. Churn Analysis"
   ]
  },
  {
   "cell_type": "code",
   "execution_count": 15,
   "metadata": {},
   "outputs": [
    {
     "data": {
      "application/vnd.plotly.v1+json": {
       "config": {
        "plotlyServerURL": "https://plot.ly"
       },
       "data": [
        {
         "alignmentgroup": "True",
         "hovertemplate": "Segment=%{x}<br>Churn Rate (%)=%{y}<br>Avg Customer Value ($)=%{marker.color}<extra></extra>",
         "legendgroup": "",
         "marker": {
          "color": [
           7955.93,
           8035.08,
           7803.56
          ],
          "coloraxis": "coloraxis",
          "pattern": {
           "shape": ""
          }
         },
         "name": "",
         "offsetgroup": "",
         "orientation": "v",
         "showlegend": false,
         "textposition": "auto",
         "type": "bar",
         "x": [
          "Consumer",
          "Corporate",
          "Home Office"
         ],
         "xaxis": "x",
         "y": [
          26.7,
          28.6,
          28.4
         ],
         "yaxis": "y"
        }
       ],
       "layout": {
        "barmode": "relative",
        "coloraxis": {
         "colorbar": {
          "title": {
           "text": "Avg Customer Value ($)"
          }
         },
         "colorscale": [
          [
           0,
           "#0d0887"
          ],
          [
           0.1111111111111111,
           "#46039f"
          ],
          [
           0.2222222222222222,
           "#7201a8"
          ],
          [
           0.3333333333333333,
           "#9c179e"
          ],
          [
           0.4444444444444444,
           "#bd3786"
          ],
          [
           0.5555555555555556,
           "#d8576b"
          ],
          [
           0.6666666666666666,
           "#ed7953"
          ],
          [
           0.7777777777777778,
           "#fb9f3a"
          ],
          [
           0.8888888888888888,
           "#fdca26"
          ],
          [
           1,
           "#f0f921"
          ]
         ]
        },
        "height": 500,
        "legend": {
         "tracegroupgap": 0
        },
        "template": {
         "data": {
          "bar": [
           {
            "error_x": {
             "color": "#2a3f5f"
            },
            "error_y": {
             "color": "#2a3f5f"
            },
            "marker": {
             "line": {
              "color": "#E5ECF6",
              "width": 0.5
             },
             "pattern": {
              "fillmode": "overlay",
              "size": 10,
              "solidity": 0.2
             }
            },
            "type": "bar"
           }
          ],
          "barpolar": [
           {
            "marker": {
             "line": {
              "color": "#E5ECF6",
              "width": 0.5
             },
             "pattern": {
              "fillmode": "overlay",
              "size": 10,
              "solidity": 0.2
             }
            },
            "type": "barpolar"
           }
          ],
          "carpet": [
           {
            "aaxis": {
             "endlinecolor": "#2a3f5f",
             "gridcolor": "white",
             "linecolor": "white",
             "minorgridcolor": "white",
             "startlinecolor": "#2a3f5f"
            },
            "baxis": {
             "endlinecolor": "#2a3f5f",
             "gridcolor": "white",
             "linecolor": "white",
             "minorgridcolor": "white",
             "startlinecolor": "#2a3f5f"
            },
            "type": "carpet"
           }
          ],
          "choropleth": [
           {
            "colorbar": {
             "outlinewidth": 0,
             "ticks": ""
            },
            "type": "choropleth"
           }
          ],
          "contour": [
           {
            "colorbar": {
             "outlinewidth": 0,
             "ticks": ""
            },
            "colorscale": [
             [
              0,
              "#0d0887"
             ],
             [
              0.1111111111111111,
              "#46039f"
             ],
             [
              0.2222222222222222,
              "#7201a8"
             ],
             [
              0.3333333333333333,
              "#9c179e"
             ],
             [
              0.4444444444444444,
              "#bd3786"
             ],
             [
              0.5555555555555556,
              "#d8576b"
             ],
             [
              0.6666666666666666,
              "#ed7953"
             ],
             [
              0.7777777777777778,
              "#fb9f3a"
             ],
             [
              0.8888888888888888,
              "#fdca26"
             ],
             [
              1,
              "#f0f921"
             ]
            ],
            "type": "contour"
           }
          ],
          "contourcarpet": [
           {
            "colorbar": {
             "outlinewidth": 0,
             "ticks": ""
            },
            "type": "contourcarpet"
           }
          ],
          "heatmap": [
           {
            "colorbar": {
             "outlinewidth": 0,
             "ticks": ""
            },
            "colorscale": [
             [
              0,
              "#0d0887"
             ],
             [
              0.1111111111111111,
              "#46039f"
             ],
             [
              0.2222222222222222,
              "#7201a8"
             ],
             [
              0.3333333333333333,
              "#9c179e"
             ],
             [
              0.4444444444444444,
              "#bd3786"
             ],
             [
              0.5555555555555556,
              "#d8576b"
             ],
             [
              0.6666666666666666,
              "#ed7953"
             ],
             [
              0.7777777777777778,
              "#fb9f3a"
             ],
             [
              0.8888888888888888,
              "#fdca26"
             ],
             [
              1,
              "#f0f921"
             ]
            ],
            "type": "heatmap"
           }
          ],
          "heatmapgl": [
           {
            "colorbar": {
             "outlinewidth": 0,
             "ticks": ""
            },
            "colorscale": [
             [
              0,
              "#0d0887"
             ],
             [
              0.1111111111111111,
              "#46039f"
             ],
             [
              0.2222222222222222,
              "#7201a8"
             ],
             [
              0.3333333333333333,
              "#9c179e"
             ],
             [
              0.4444444444444444,
              "#bd3786"
             ],
             [
              0.5555555555555556,
              "#d8576b"
             ],
             [
              0.6666666666666666,
              "#ed7953"
             ],
             [
              0.7777777777777778,
              "#fb9f3a"
             ],
             [
              0.8888888888888888,
              "#fdca26"
             ],
             [
              1,
              "#f0f921"
             ]
            ],
            "type": "heatmapgl"
           }
          ],
          "histogram": [
           {
            "marker": {
             "pattern": {
              "fillmode": "overlay",
              "size": 10,
              "solidity": 0.2
             }
            },
            "type": "histogram"
           }
          ],
          "histogram2d": [
           {
            "colorbar": {
             "outlinewidth": 0,
             "ticks": ""
            },
            "colorscale": [
             [
              0,
              "#0d0887"
             ],
             [
              0.1111111111111111,
              "#46039f"
             ],
             [
              0.2222222222222222,
              "#7201a8"
             ],
             [
              0.3333333333333333,
              "#9c179e"
             ],
             [
              0.4444444444444444,
              "#bd3786"
             ],
             [
              0.5555555555555556,
              "#d8576b"
             ],
             [
              0.6666666666666666,
              "#ed7953"
             ],
             [
              0.7777777777777778,
              "#fb9f3a"
             ],
             [
              0.8888888888888888,
              "#fdca26"
             ],
             [
              1,
              "#f0f921"
             ]
            ],
            "type": "histogram2d"
           }
          ],
          "histogram2dcontour": [
           {
            "colorbar": {
             "outlinewidth": 0,
             "ticks": ""
            },
            "colorscale": [
             [
              0,
              "#0d0887"
             ],
             [
              0.1111111111111111,
              "#46039f"
             ],
             [
              0.2222222222222222,
              "#7201a8"
             ],
             [
              0.3333333333333333,
              "#9c179e"
             ],
             [
              0.4444444444444444,
              "#bd3786"
             ],
             [
              0.5555555555555556,
              "#d8576b"
             ],
             [
              0.6666666666666666,
              "#ed7953"
             ],
             [
              0.7777777777777778,
              "#fb9f3a"
             ],
             [
              0.8888888888888888,
              "#fdca26"
             ],
             [
              1,
              "#f0f921"
             ]
            ],
            "type": "histogram2dcontour"
           }
          ],
          "mesh3d": [
           {
            "colorbar": {
             "outlinewidth": 0,
             "ticks": ""
            },
            "type": "mesh3d"
           }
          ],
          "parcoords": [
           {
            "line": {
             "colorbar": {
              "outlinewidth": 0,
              "ticks": ""
             }
            },
            "type": "parcoords"
           }
          ],
          "pie": [
           {
            "automargin": true,
            "type": "pie"
           }
          ],
          "scatter": [
           {
            "fillpattern": {
             "fillmode": "overlay",
             "size": 10,
             "solidity": 0.2
            },
            "type": "scatter"
           }
          ],
          "scatter3d": [
           {
            "line": {
             "colorbar": {
              "outlinewidth": 0,
              "ticks": ""
             }
            },
            "marker": {
             "colorbar": {
              "outlinewidth": 0,
              "ticks": ""
             }
            },
            "type": "scatter3d"
           }
          ],
          "scattercarpet": [
           {
            "marker": {
             "colorbar": {
              "outlinewidth": 0,
              "ticks": ""
             }
            },
            "type": "scattercarpet"
           }
          ],
          "scattergeo": [
           {
            "marker": {
             "colorbar": {
              "outlinewidth": 0,
              "ticks": ""
             }
            },
            "type": "scattergeo"
           }
          ],
          "scattergl": [
           {
            "marker": {
             "colorbar": {
              "outlinewidth": 0,
              "ticks": ""
             }
            },
            "type": "scattergl"
           }
          ],
          "scattermapbox": [
           {
            "marker": {
             "colorbar": {
              "outlinewidth": 0,
              "ticks": ""
             }
            },
            "type": "scattermapbox"
           }
          ],
          "scatterpolar": [
           {
            "marker": {
             "colorbar": {
              "outlinewidth": 0,
              "ticks": ""
             }
            },
            "type": "scatterpolar"
           }
          ],
          "scatterpolargl": [
           {
            "marker": {
             "colorbar": {
              "outlinewidth": 0,
              "ticks": ""
             }
            },
            "type": "scatterpolargl"
           }
          ],
          "scatterternary": [
           {
            "marker": {
             "colorbar": {
              "outlinewidth": 0,
              "ticks": ""
             }
            },
            "type": "scatterternary"
           }
          ],
          "surface": [
           {
            "colorbar": {
             "outlinewidth": 0,
             "ticks": ""
            },
            "colorscale": [
             [
              0,
              "#0d0887"
             ],
             [
              0.1111111111111111,
              "#46039f"
             ],
             [
              0.2222222222222222,
              "#7201a8"
             ],
             [
              0.3333333333333333,
              "#9c179e"
             ],
             [
              0.4444444444444444,
              "#bd3786"
             ],
             [
              0.5555555555555556,
              "#d8576b"
             ],
             [
              0.6666666666666666,
              "#ed7953"
             ],
             [
              0.7777777777777778,
              "#fb9f3a"
             ],
             [
              0.8888888888888888,
              "#fdca26"
             ],
             [
              1,
              "#f0f921"
             ]
            ],
            "type": "surface"
           }
          ],
          "table": [
           {
            "cells": {
             "fill": {
              "color": "#EBF0F8"
             },
             "line": {
              "color": "white"
             }
            },
            "header": {
             "fill": {
              "color": "#C8D4E3"
             },
             "line": {
              "color": "white"
             }
            },
            "type": "table"
           }
          ]
         },
         "layout": {
          "annotationdefaults": {
           "arrowcolor": "#2a3f5f",
           "arrowhead": 0,
           "arrowwidth": 1
          },
          "autotypenumbers": "strict",
          "coloraxis": {
           "colorbar": {
            "outlinewidth": 0,
            "ticks": ""
           }
          },
          "colorscale": {
           "diverging": [
            [
             0,
             "#8e0152"
            ],
            [
             0.1,
             "#c51b7d"
            ],
            [
             0.2,
             "#de77ae"
            ],
            [
             0.3,
             "#f1b6da"
            ],
            [
             0.4,
             "#fde0ef"
            ],
            [
             0.5,
             "#f7f7f7"
            ],
            [
             0.6,
             "#e6f5d0"
            ],
            [
             0.7,
             "#b8e186"
            ],
            [
             0.8,
             "#7fbc41"
            ],
            [
             0.9,
             "#4d9221"
            ],
            [
             1,
             "#276419"
            ]
           ],
           "sequential": [
            [
             0,
             "#0d0887"
            ],
            [
             0.1111111111111111,
             "#46039f"
            ],
            [
             0.2222222222222222,
             "#7201a8"
            ],
            [
             0.3333333333333333,
             "#9c179e"
            ],
            [
             0.4444444444444444,
             "#bd3786"
            ],
            [
             0.5555555555555556,
             "#d8576b"
            ],
            [
             0.6666666666666666,
             "#ed7953"
            ],
            [
             0.7777777777777778,
             "#fb9f3a"
            ],
            [
             0.8888888888888888,
             "#fdca26"
            ],
            [
             1,
             "#f0f921"
            ]
           ],
           "sequentialminus": [
            [
             0,
             "#0d0887"
            ],
            [
             0.1111111111111111,
             "#46039f"
            ],
            [
             0.2222222222222222,
             "#7201a8"
            ],
            [
             0.3333333333333333,
             "#9c179e"
            ],
            [
             0.4444444444444444,
             "#bd3786"
            ],
            [
             0.5555555555555556,
             "#d8576b"
            ],
            [
             0.6666666666666666,
             "#ed7953"
            ],
            [
             0.7777777777777778,
             "#fb9f3a"
            ],
            [
             0.8888888888888888,
             "#fdca26"
            ],
            [
             1,
             "#f0f921"
            ]
           ]
          },
          "colorway": [
           "#636efa",
           "#EF553B",
           "#00cc96",
           "#ab63fa",
           "#FFA15A",
           "#19d3f3",
           "#FF6692",
           "#B6E880",
           "#FF97FF",
           "#FECB52"
          ],
          "font": {
           "color": "#2a3f5f"
          },
          "geo": {
           "bgcolor": "white",
           "lakecolor": "white",
           "landcolor": "#E5ECF6",
           "showlakes": true,
           "showland": true,
           "subunitcolor": "white"
          },
          "hoverlabel": {
           "align": "left"
          },
          "hovermode": "closest",
          "mapbox": {
           "style": "light"
          },
          "paper_bgcolor": "white",
          "plot_bgcolor": "#E5ECF6",
          "polar": {
           "angularaxis": {
            "gridcolor": "white",
            "linecolor": "white",
            "ticks": ""
           },
           "bgcolor": "#E5ECF6",
           "radialaxis": {
            "gridcolor": "white",
            "linecolor": "white",
            "ticks": ""
           }
          },
          "scene": {
           "xaxis": {
            "backgroundcolor": "#E5ECF6",
            "gridcolor": "white",
            "gridwidth": 2,
            "linecolor": "white",
            "showbackground": true,
            "ticks": "",
            "zerolinecolor": "white"
           },
           "yaxis": {
            "backgroundcolor": "#E5ECF6",
            "gridcolor": "white",
            "gridwidth": 2,
            "linecolor": "white",
            "showbackground": true,
            "ticks": "",
            "zerolinecolor": "white"
           },
           "zaxis": {
            "backgroundcolor": "#E5ECF6",
            "gridcolor": "white",
            "gridwidth": 2,
            "linecolor": "white",
            "showbackground": true,
            "ticks": "",
            "zerolinecolor": "white"
           }
          },
          "shapedefaults": {
           "line": {
            "color": "#2a3f5f"
           }
          },
          "ternary": {
           "aaxis": {
            "gridcolor": "white",
            "linecolor": "white",
            "ticks": ""
           },
           "baxis": {
            "gridcolor": "white",
            "linecolor": "white",
            "ticks": ""
           },
           "bgcolor": "#E5ECF6",
           "caxis": {
            "gridcolor": "white",
            "linecolor": "white",
            "ticks": ""
           }
          },
          "title": {
           "x": 0.05
          },
          "xaxis": {
           "automargin": true,
           "gridcolor": "white",
           "linecolor": "white",
           "ticks": "",
           "title": {
            "standoff": 15
           },
           "zerolinecolor": "white",
           "zerolinewidth": 2
          },
          "yaxis": {
           "automargin": true,
           "gridcolor": "white",
           "linecolor": "white",
           "ticks": "",
           "title": {
            "standoff": 15
           },
           "zerolinecolor": "white",
           "zerolinewidth": 2
          }
         }
        },
        "title": {
         "text": "Customer Churn Rate by Segment"
        },
        "xaxis": {
         "anchor": "y",
         "domain": [
          0,
          1
         ],
         "title": {
          "text": "Segment"
         }
        },
        "yaxis": {
         "anchor": "x",
         "domain": [
          0,
          1
         ],
         "title": {
          "text": "Churn Rate (%)"
         }
        }
       }
      }
     },
     "metadata": {},
     "output_type": "display_data"
    },
    {
     "name": "stdout",
     "output_type": "stream",
     "text": [
      "Churn Analysis by Segment:\n",
      "             Total_Customers  Churned_Customers  Avg_Customer_Value  \\\n",
      "Segment                                                               \n",
      "Consumer                 818                218             7955.93   \n",
      "Corporate                476                136             8035.08   \n",
      "Home Office              296                 84             7803.56   \n",
      "\n",
      "             Churn_Rate  \n",
      "Segment                  \n",
      "Consumer           26.7  \n",
      "Corporate          28.6  \n",
      "Home Office        28.4  \n",
      "\n",
      "Overall Churn Metrics:\n",
      "Total Customers: 1,590\n",
      "Churned Customers: 438\n",
      "Overall Churn Rate: 27.5%\n"
     ]
    }
   ],
   "source": [
    "# Churn analysis by segment\n",
    "max_date = df['Order Date'].max()\n",
    "churn_threshold = 90  # days\n",
    "\n",
    "customer_last_order = df.groupby(['Customer ID', 'Segment']).agg({\n",
    "    'Order Date': 'max',\n",
    "    'Sales': 'sum',\n",
    "    'Order ID': 'nunique'\n",
    "}).reset_index()\n",
    "\n",
    "customer_last_order['Days_Since_Last_Order'] = (\n",
    "    max_date - customer_last_order['Order Date']\n",
    ").dt.days\n",
    "\n",
    "customer_last_order['Churned'] = customer_last_order['Days_Since_Last_Order'] > churn_threshold\n",
    "\n",
    "# Churn rate by segment\n",
    "churn_by_segment = customer_last_order.groupby('Segment').agg({\n",
    "    'Churned': ['count', 'sum'],\n",
    "    'Sales': 'mean'\n",
    "}).round(2)\n",
    "\n",
    "churn_by_segment.columns = ['Total_Customers', 'Churned_Customers', 'Avg_Customer_Value']\n",
    "churn_by_segment['Churn_Rate'] = (\n",
    "    churn_by_segment['Churned_Customers'] / churn_by_segment['Total_Customers'] * 100\n",
    ").round(1)\n",
    "\n",
    "# Visualize churn analysis\n",
    "fig = px.bar(churn_by_segment.reset_index(), \n",
    "             x='Segment', \n",
    "             y='Churn_Rate',\n",
    "             color='Avg_Customer_Value',\n",
    "             title='Customer Churn Rate by Segment',\n",
    "             labels={'Churn_Rate': 'Churn Rate (%)',\n",
    "                    'Avg_Customer_Value': 'Avg Customer Value ($)'})\n",
    "\n",
    "fig.update_layout(height=500)\n",
    "fig.show()\n",
    "\n",
    "fig.write_html('../visuals/churn_analysis.html')\n",
    "fig.write_image('../visuals/churn_analysis.png', width=800, height=500)\n",
    "\n",
    "print(\"Churn Analysis by Segment:\")\n",
    "print(churn_by_segment)\n",
    "\n",
    "# Overall churn metrics\n",
    "total_customers = len(customer_last_order)\n",
    "churned_customers = customer_last_order['Churned'].sum()\n",
    "overall_churn_rate = (churned_customers / total_customers) * 100\n",
    "\n",
    "print(f\"\\nOverall Churn Metrics:\")\n",
    "print(f\"Total Customers: {total_customers:,}\")\n",
    "print(f\"Churned Customers: {churned_customers:,}\")\n",
    "print(f\"Overall Churn Rate: {overall_churn_rate:.1f}%\")"
   ]
  },
  {
   "cell_type": "markdown",
   "metadata": {},
   "source": [
    "## 10. Summary and Key Insights"
   ]
  },
  {
   "cell_type": "code",
   "execution_count": 16,
   "metadata": {},
   "outputs": [
    {
     "name": "stdout",
     "output_type": "stream",
     "text": [
      "=== EXECUTIVE DASHBOARD SUMMARY ===\n",
      "                      Metric       Value\n",
      "               Total Revenue $12,642,502\n",
      "                Total Profit  $1,467,457\n",
      "               Profit Margin       11.6%\n",
      "                Total Orders      25,035\n",
      "             Total Customers       1,590\n",
      "         Average Order Value     $504.99\n",
      "             YoY Growth Rate       26.3%\n",
      "         Customer Churn Rate       27.5%\n",
      "Customer Retention (Month 1)       15.2%\n",
      "         Champions Segment %       21.8%\n",
      "\n",
      "SUPERSTORE ANALYSIS - KEY INSIGHTS\n",
      "=====================================\n",
      "\n",
      "BUSINESS PERFORMANCE:\n",
      "• Total Revenue: $12,642,502 with 11.6% profit margin\n",
      "• YoY Growth: 26.3% (positive trend)\n",
      "• Average Order Value: $504.99\n",
      "\n",
      "CUSTOMER INSIGHTS:\n",
      "• Total Customers: 1,590 with 27.5% churn rate\n",
      "• Customer Retention: 15.2% after 1 month\n",
      "• Champions Segment: 21.8% of customers\n",
      "\n",
      "TOP PERFORMERS:\n",
      "• Best Region: Central ($2,822,303)\n",
      "• Best Category: Technology ($4,744,557)\n",
      "• Peak Month: December \n",
      "\n",
      "OPPORTUNITIES:\n",
      "• Focus on 'Corporate' segment (highest churn: 28.6%)\n",
      "• Develop retention programs for months 2-3 (retention drops to 17.8%)\n",
      "• Optimize low-performing regions and categories\n",
      "\n",
      "\n",
      "=== ANALYSIS COMPLETE ===\n",
      "All visualizations saved to ../visuals/\n",
      "RFM data saved to ../data/rfm_table.csv\n",
      "Key insights saved to ../data/analysis_insights.txt\n"
     ]
    }
   ],
   "source": [
    "# Create comprehensive KPI dashboard\n",
    "kpi_data = {\n",
    "    'Metric': [\n",
    "        'Total Revenue',\n",
    "        'Total Profit', \n",
    "        'Profit Margin',\n",
    "        'Total Orders',\n",
    "        'Total Customers',\n",
    "        'Average Order Value',\n",
    "        'YoY Growth Rate',\n",
    "        'Customer Churn Rate',\n",
    "        'Customer Retention (Month 1)',\n",
    "        'Champions Segment %'\n",
    "    ],\n",
    "    'Value': [\n",
    "        f\"${total_revenue:,.0f}\",\n",
    "        f\"${total_profit:,.0f}\",\n",
    "        f\"{overall_profit_margin:.1f}%\",\n",
    "        f\"{total_orders:,}\",\n",
    "        f\"{total_customers:,}\",\n",
    "        f\"${avg_order_value:.2f}\",\n",
    "        f\"{yoy_growth:.1f}%\",\n",
    "        f\"{overall_churn_rate:.1f}%\",\n",
    "        f\"{avg_retention.iloc[1]:.1%}\",\n",
    "        f\"{segment_summary.loc['Champions', 'Percentage']:.1f}%\"\n",
    "    ]\n",
    "}\n",
    "\n",
    "kpi_df = pd.DataFrame(kpi_data)\n",
    "\n",
    "print(\"=== EXECUTIVE DASHBOARD SUMMARY ===\")\n",
    "print(kpi_df.to_string(index=False))\n",
    "\n",
    "# Save key insights to file\n",
    "insights = f\"\"\"\n",
    "SUPERSTORE ANALYSIS - KEY INSIGHTS\n",
    "=====================================\n",
    "\n",
    "BUSINESS PERFORMANCE:\n",
    "• Total Revenue: ${total_revenue:,.0f} with {overall_profit_margin:.1f}% profit margin\n",
    "• YoY Growth: {yoy_growth:.1f}% ({'positive' if yoy_growth > 0 else 'negative'} trend)\n",
    "• Average Order Value: ${avg_order_value:.2f}\n",
    "\n",
    "CUSTOMER INSIGHTS:\n",
    "• Total Customers: {total_customers:,} with {overall_churn_rate:.1f}% churn rate\n",
    "• Customer Retention: {avg_retention.iloc[1]:.1%} after 1 month\n",
    "• Champions Segment: {segment_summary.loc['Champions', 'Percentage']:.1f}% of customers\n",
    "\n",
    "TOP PERFORMERS:\n",
    "• Best Region: {regional_perf.sort_values('Sales', ascending=False).iloc[0]['Region']} (${regional_perf.sort_values('Sales', ascending=False).iloc[0]['Sales']:,.0f})\n",
    "• Best Category: {category_perf.sort_values('Sales', ascending=False).iloc[0]['Category']} (${category_perf.sort_values('Sales', ascending=False).iloc[0]['Sales']:,.0f})\n",
    "• Peak Month: {monthly_sales.sort_values('Sales', ascending=False).index[0]} \n",
    "\n",
    "OPPORTUNITIES:\n",
    "• Focus on '{churn_by_segment.sort_values('Churn_Rate', ascending=False).index[0]}' segment (highest churn: {churn_by_segment.sort_values('Churn_Rate', ascending=False).iloc[0]['Churn_Rate']:.1f}%)\n",
    "• Develop retention programs for months 2-3 (retention drops to {avg_retention.iloc[2]:.1%})\n",
    "• Optimize low-performing regions and categories\n",
    "\"\"\"\n",
    "\n",
    "with open('../data/analysis_insights.txt', 'w') as f:\n",
    "    f.write(insights)\n",
    "\n",
    "print(insights)\n",
    "\n",
    "# Close database connection\n",
    "conn.close()\n",
    "\n",
    "print(\"\\n=== ANALYSIS COMPLETE ===\")\n",
    "print(\"All visualizations saved to ../visuals/\")\n",
    "print(\"RFM data saved to ../data/rfm_table.csv\")\n",
    "print(\"Key insights saved to ../data/analysis_insights.txt\")"
   ]
  }
 ],
 "metadata": {
  "kernelspec": {
   "display_name": "venv (3.13.2)",
   "language": "python",
   "name": "python3"
  },
  "language_info": {
   "codemirror_mode": {
    "name": "ipython",
    "version": 3
   },
   "file_extension": ".py",
   "mimetype": "text/x-python",
   "name": "python",
   "nbconvert_exporter": "python",
   "pygments_lexer": "ipython3",
   "version": "3.13.2"
  }
 },
 "nbformat": 4,
 "nbformat_minor": 4
}
